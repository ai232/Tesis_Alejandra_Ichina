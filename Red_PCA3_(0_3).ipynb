{
  "nbformat": 4,
  "nbformat_minor": 0,
  "metadata": {
    "colab": {
      "name": "Red PCA3 (0.3).ipynb",
      "provenance": [],
      "collapsed_sections": []
    },
    "kernelspec": {
      "name": "python3",
      "display_name": "Python 3"
    },
    "language_info": {
      "name": "python"
    }
  },
  "cells": [
    {
      "cell_type": "code",
      "metadata": {
        "id": "_DBbl_AwfAxR"
      },
      "source": [
        "import pandas as pd\n",
        "import numpy as np\n",
        "import matplotlib.pyplot as plt\n",
        "import io"
      ],
      "execution_count": null,
      "outputs": []
    },
    {
      "cell_type": "code",
      "metadata": {
        "colab": {
          "resources": {
            "http://localhost:8080/nbextensions/google.colab/files.js": {
              "data": "Ly8gQ29weXJpZ2h0IDIwMTcgR29vZ2xlIExMQwovLwovLyBMaWNlbnNlZCB1bmRlciB0aGUgQXBhY2hlIExpY2Vuc2UsIFZlcnNpb24gMi4wICh0aGUgIkxpY2Vuc2UiKTsKLy8geW91IG1heSBub3QgdXNlIHRoaXMgZmlsZSBleGNlcHQgaW4gY29tcGxpYW5jZSB3aXRoIHRoZSBMaWNlbnNlLgovLyBZb3UgbWF5IG9idGFpbiBhIGNvcHkgb2YgdGhlIExpY2Vuc2UgYXQKLy8KLy8gICAgICBodHRwOi8vd3d3LmFwYWNoZS5vcmcvbGljZW5zZXMvTElDRU5TRS0yLjAKLy8KLy8gVW5sZXNzIHJlcXVpcmVkIGJ5IGFwcGxpY2FibGUgbGF3IG9yIGFncmVlZCB0byBpbiB3cml0aW5nLCBzb2Z0d2FyZQovLyBkaXN0cmlidXRlZCB1bmRlciB0aGUgTGljZW5zZSBpcyBkaXN0cmlidXRlZCBvbiBhbiAiQVMgSVMiIEJBU0lTLAovLyBXSVRIT1VUIFdBUlJBTlRJRVMgT1IgQ09ORElUSU9OUyBPRiBBTlkgS0lORCwgZWl0aGVyIGV4cHJlc3Mgb3IgaW1wbGllZC4KLy8gU2VlIHRoZSBMaWNlbnNlIGZvciB0aGUgc3BlY2lmaWMgbGFuZ3VhZ2UgZ292ZXJuaW5nIHBlcm1pc3Npb25zIGFuZAovLyBsaW1pdGF0aW9ucyB1bmRlciB0aGUgTGljZW5zZS4KCi8qKgogKiBAZmlsZW92ZXJ2aWV3IEhlbHBlcnMgZm9yIGdvb2dsZS5jb2xhYiBQeXRob24gbW9kdWxlLgogKi8KKGZ1bmN0aW9uKHNjb3BlKSB7CmZ1bmN0aW9uIHNwYW4odGV4dCwgc3R5bGVBdHRyaWJ1dGVzID0ge30pIHsKICBjb25zdCBlbGVtZW50ID0gZG9jdW1lbnQuY3JlYXRlRWxlbWVudCgnc3BhbicpOwogIGVsZW1lbnQudGV4dENvbnRlbnQgPSB0ZXh0OwogIGZvciAoY29uc3Qga2V5IG9mIE9iamVjdC5rZXlzKHN0eWxlQXR0cmlidXRlcykpIHsKICAgIGVsZW1lbnQuc3R5bGVba2V5XSA9IHN0eWxlQXR0cmlidXRlc1trZXldOwogIH0KICByZXR1cm4gZWxlbWVudDsKfQoKLy8gTWF4IG51bWJlciBvZiBieXRlcyB3aGljaCB3aWxsIGJlIHVwbG9hZGVkIGF0IGEgdGltZS4KY29uc3QgTUFYX1BBWUxPQURfU0laRSA9IDEwMCAqIDEwMjQ7CgpmdW5jdGlvbiBfdXBsb2FkRmlsZXMoaW5wdXRJZCwgb3V0cHV0SWQpIHsKICBjb25zdCBzdGVwcyA9IHVwbG9hZEZpbGVzU3RlcChpbnB1dElkLCBvdXRwdXRJZCk7CiAgY29uc3Qgb3V0cHV0RWxlbWVudCA9IGRvY3VtZW50LmdldEVsZW1lbnRCeUlkKG91dHB1dElkKTsKICAvLyBDYWNoZSBzdGVwcyBvbiB0aGUgb3V0cHV0RWxlbWVudCB0byBtYWtlIGl0IGF2YWlsYWJsZSBmb3IgdGhlIG5leHQgY2FsbAogIC8vIHRvIHVwbG9hZEZpbGVzQ29udGludWUgZnJvbSBQeXRob24uCiAgb3V0cHV0RWxlbWVudC5zdGVwcyA9IHN0ZXBzOwoKICByZXR1cm4gX3VwbG9hZEZpbGVzQ29udGludWUob3V0cHV0SWQpOwp9CgovLyBUaGlzIGlzIHJvdWdobHkgYW4gYXN5bmMgZ2VuZXJhdG9yIChub3Qgc3VwcG9ydGVkIGluIHRoZSBicm93c2VyIHlldCksCi8vIHdoZXJlIHRoZXJlIGFyZSBtdWx0aXBsZSBhc3luY2hyb25vdXMgc3RlcHMgYW5kIHRoZSBQeXRob24gc2lkZSBpcyBnb2luZwovLyB0byBwb2xsIGZvciBjb21wbGV0aW9uIG9mIGVhY2ggc3RlcC4KLy8gVGhpcyB1c2VzIGEgUHJvbWlzZSB0byBibG9jayB0aGUgcHl0aG9uIHNpZGUgb24gY29tcGxldGlvbiBvZiBlYWNoIHN0ZXAsCi8vIHRoZW4gcGFzc2VzIHRoZSByZXN1bHQgb2YgdGhlIHByZXZpb3VzIHN0ZXAgYXMgdGhlIGlucHV0IHRvIHRoZSBuZXh0IHN0ZXAuCmZ1bmN0aW9uIF91cGxvYWRGaWxlc0NvbnRpbnVlKG91dHB1dElkKSB7CiAgY29uc3Qgb3V0cHV0RWxlbWVudCA9IGRvY3VtZW50LmdldEVsZW1lbnRCeUlkKG91dHB1dElkKTsKICBjb25zdCBzdGVwcyA9IG91dHB1dEVsZW1lbnQuc3RlcHM7CgogIGNvbnN0IG5leHQgPSBzdGVwcy5uZXh0KG91dHB1dEVsZW1lbnQubGFzdFByb21pc2VWYWx1ZSk7CiAgcmV0dXJuIFByb21pc2UucmVzb2x2ZShuZXh0LnZhbHVlLnByb21pc2UpLnRoZW4oKHZhbHVlKSA9PiB7CiAgICAvLyBDYWNoZSB0aGUgbGFzdCBwcm9taXNlIHZhbHVlIHRvIG1ha2UgaXQgYXZhaWxhYmxlIHRvIHRoZSBuZXh0CiAgICAvLyBzdGVwIG9mIHRoZSBnZW5lcmF0b3IuCiAgICBvdXRwdXRFbGVtZW50Lmxhc3RQcm9taXNlVmFsdWUgPSB2YWx1ZTsKICAgIHJldHVybiBuZXh0LnZhbHVlLnJlc3BvbnNlOwogIH0pOwp9CgovKioKICogR2VuZXJhdG9yIGZ1bmN0aW9uIHdoaWNoIGlzIGNhbGxlZCBiZXR3ZWVuIGVhY2ggYXN5bmMgc3RlcCBvZiB0aGUgdXBsb2FkCiAqIHByb2Nlc3MuCiAqIEBwYXJhbSB7c3RyaW5nfSBpbnB1dElkIEVsZW1lbnQgSUQgb2YgdGhlIGlucHV0IGZpbGUgcGlja2VyIGVsZW1lbnQuCiAqIEBwYXJhbSB7c3RyaW5nfSBvdXRwdXRJZCBFbGVtZW50IElEIG9mIHRoZSBvdXRwdXQgZGlzcGxheS4KICogQHJldHVybiB7IUl0ZXJhYmxlPCFPYmplY3Q+fSBJdGVyYWJsZSBvZiBuZXh0IHN0ZXBzLgogKi8KZnVuY3Rpb24qIHVwbG9hZEZpbGVzU3RlcChpbnB1dElkLCBvdXRwdXRJZCkgewogIGNvbnN0IGlucHV0RWxlbWVudCA9IGRvY3VtZW50LmdldEVsZW1lbnRCeUlkKGlucHV0SWQpOwogIGlucHV0RWxlbWVudC5kaXNhYmxlZCA9IGZhbHNlOwoKICBjb25zdCBvdXRwdXRFbGVtZW50ID0gZG9jdW1lbnQuZ2V0RWxlbWVudEJ5SWQob3V0cHV0SWQpOwogIG91dHB1dEVsZW1lbnQuaW5uZXJIVE1MID0gJyc7CgogIGNvbnN0IHBpY2tlZFByb21pc2UgPSBuZXcgUHJvbWlzZSgocmVzb2x2ZSkgPT4gewogICAgaW5wdXRFbGVtZW50LmFkZEV2ZW50TGlzdGVuZXIoJ2NoYW5nZScsIChlKSA9PiB7CiAgICAgIHJlc29sdmUoZS50YXJnZXQuZmlsZXMpOwogICAgfSk7CiAgfSk7CgogIGNvbnN0IGNhbmNlbCA9IGRvY3VtZW50LmNyZWF0ZUVsZW1lbnQoJ2J1dHRvbicpOwogIGlucHV0RWxlbWVudC5wYXJlbnRFbGVtZW50LmFwcGVuZENoaWxkKGNhbmNlbCk7CiAgY2FuY2VsLnRleHRDb250ZW50ID0gJ0NhbmNlbCB1cGxvYWQnOwogIGNvbnN0IGNhbmNlbFByb21pc2UgPSBuZXcgUHJvbWlzZSgocmVzb2x2ZSkgPT4gewogICAgY2FuY2VsLm9uY2xpY2sgPSAoKSA9PiB7CiAgICAgIHJlc29sdmUobnVsbCk7CiAgICB9OwogIH0pOwoKICAvLyBXYWl0IGZvciB0aGUgdXNlciB0byBwaWNrIHRoZSBmaWxlcy4KICBjb25zdCBmaWxlcyA9IHlpZWxkIHsKICAgIHByb21pc2U6IFByb21pc2UucmFjZShbcGlja2VkUHJvbWlzZSwgY2FuY2VsUHJvbWlzZV0pLAogICAgcmVzcG9uc2U6IHsKICAgICAgYWN0aW9uOiAnc3RhcnRpbmcnLAogICAgfQogIH07CgogIGNhbmNlbC5yZW1vdmUoKTsKCiAgLy8gRGlzYWJsZSB0aGUgaW5wdXQgZWxlbWVudCBzaW5jZSBmdXJ0aGVyIHBpY2tzIGFyZSBub3QgYWxsb3dlZC4KICBpbnB1dEVsZW1lbnQuZGlzYWJsZWQgPSB0cnVlOwoKICBpZiAoIWZpbGVzKSB7CiAgICByZXR1cm4gewogICAgICByZXNwb25zZTogewogICAgICAgIGFjdGlvbjogJ2NvbXBsZXRlJywKICAgICAgfQogICAgfTsKICB9CgogIGZvciAoY29uc3QgZmlsZSBvZiBmaWxlcykgewogICAgY29uc3QgbGkgPSBkb2N1bWVudC5jcmVhdGVFbGVtZW50KCdsaScpOwogICAgbGkuYXBwZW5kKHNwYW4oZmlsZS5uYW1lLCB7Zm9udFdlaWdodDogJ2JvbGQnfSkpOwogICAgbGkuYXBwZW5kKHNwYW4oCiAgICAgICAgYCgke2ZpbGUudHlwZSB8fCAnbi9hJ30pIC0gJHtmaWxlLnNpemV9IGJ5dGVzLCBgICsKICAgICAgICBgbGFzdCBtb2RpZmllZDogJHsKICAgICAgICAgICAgZmlsZS5sYXN0TW9kaWZpZWREYXRlID8gZmlsZS5sYXN0TW9kaWZpZWREYXRlLnRvTG9jYWxlRGF0ZVN0cmluZygpIDoKICAgICAgICAgICAgICAgICAgICAgICAgICAgICAgICAgICAgJ24vYSd9IC0gYCkpOwogICAgY29uc3QgcGVyY2VudCA9IHNwYW4oJzAlIGRvbmUnKTsKICAgIGxpLmFwcGVuZENoaWxkKHBlcmNlbnQpOwoKICAgIG91dHB1dEVsZW1lbnQuYXBwZW5kQ2hpbGQobGkpOwoKICAgIGNvbnN0IGZpbGVEYXRhUHJvbWlzZSA9IG5ldyBQcm9taXNlKChyZXNvbHZlKSA9PiB7CiAgICAgIGNvbnN0IHJlYWRlciA9IG5ldyBGaWxlUmVhZGVyKCk7CiAgICAgIHJlYWRlci5vbmxvYWQgPSAoZSkgPT4gewogICAgICAgIHJlc29sdmUoZS50YXJnZXQucmVzdWx0KTsKICAgICAgfTsKICAgICAgcmVhZGVyLnJlYWRBc0FycmF5QnVmZmVyKGZpbGUpOwogICAgfSk7CiAgICAvLyBXYWl0IGZvciB0aGUgZGF0YSB0byBiZSByZWFkeS4KICAgIGxldCBmaWxlRGF0YSA9IHlpZWxkIHsKICAgICAgcHJvbWlzZTogZmlsZURhdGFQcm9taXNlLAogICAgICByZXNwb25zZTogewogICAgICAgIGFjdGlvbjogJ2NvbnRpbnVlJywKICAgICAgfQogICAgfTsKCiAgICAvLyBVc2UgYSBjaHVua2VkIHNlbmRpbmcgdG8gYXZvaWQgbWVzc2FnZSBzaXplIGxpbWl0cy4gU2VlIGIvNjIxMTU2NjAuCiAgICBsZXQgcG9zaXRpb24gPSAwOwogICAgZG8gewogICAgICBjb25zdCBsZW5ndGggPSBNYXRoLm1pbihmaWxlRGF0YS5ieXRlTGVuZ3RoIC0gcG9zaXRpb24sIE1BWF9QQVlMT0FEX1NJWkUpOwogICAgICBjb25zdCBjaHVuayA9IG5ldyBVaW50OEFycmF5KGZpbGVEYXRhLCBwb3NpdGlvbiwgbGVuZ3RoKTsKICAgICAgcG9zaXRpb24gKz0gbGVuZ3RoOwoKICAgICAgY29uc3QgYmFzZTY0ID0gYnRvYShTdHJpbmcuZnJvbUNoYXJDb2RlLmFwcGx5KG51bGwsIGNodW5rKSk7CiAgICAgIHlpZWxkIHsKICAgICAgICByZXNwb25zZTogewogICAgICAgICAgYWN0aW9uOiAnYXBwZW5kJywKICAgICAgICAgIGZpbGU6IGZpbGUubmFtZSwKICAgICAgICAgIGRhdGE6IGJhc2U2NCwKICAgICAgICB9LAogICAgICB9OwoKICAgICAgbGV0IHBlcmNlbnREb25lID0gZmlsZURhdGEuYnl0ZUxlbmd0aCA9PT0gMCA/CiAgICAgICAgICAxMDAgOgogICAgICAgICAgTWF0aC5yb3VuZCgocG9zaXRpb24gLyBmaWxlRGF0YS5ieXRlTGVuZ3RoKSAqIDEwMCk7CiAgICAgIHBlcmNlbnQudGV4dENvbnRlbnQgPSBgJHtwZXJjZW50RG9uZX0lIGRvbmVgOwoKICAgIH0gd2hpbGUgKHBvc2l0aW9uIDwgZmlsZURhdGEuYnl0ZUxlbmd0aCk7CiAgfQoKICAvLyBBbGwgZG9uZS4KICB5aWVsZCB7CiAgICByZXNwb25zZTogewogICAgICBhY3Rpb246ICdjb21wbGV0ZScsCiAgICB9CiAgfTsKfQoKc2NvcGUuZ29vZ2xlID0gc2NvcGUuZ29vZ2xlIHx8IHt9OwpzY29wZS5nb29nbGUuY29sYWIgPSBzY29wZS5nb29nbGUuY29sYWIgfHwge307CnNjb3BlLmdvb2dsZS5jb2xhYi5fZmlsZXMgPSB7CiAgX3VwbG9hZEZpbGVzLAogIF91cGxvYWRGaWxlc0NvbnRpbnVlLAp9Owp9KShzZWxmKTsK",
              "ok": true,
              "headers": [
                [
                  "content-type",
                  "application/javascript"
                ]
              ],
              "status": 200,
              "status_text": ""
            }
          },
          "base_uri": "https://localhost:8080/",
          "height": 73
        },
        "id": "ePXaQrBsNUPx",
        "outputId": "cb0dabe0-959c-4a6f-c38b-47312beea107"
      },
      "source": [
        "from google.colab import files\n",
        "uploaded = files.upload()"
      ],
      "execution_count": null,
      "outputs": [
        {
          "output_type": "display_data",
          "data": {
            "text/html": [
              "\n",
              "     <input type=\"file\" id=\"files-9732d815-36c6-4946-af5a-188270911328\" name=\"files[]\" multiple disabled\n",
              "        style=\"border:none\" />\n",
              "     <output id=\"result-9732d815-36c6-4946-af5a-188270911328\">\n",
              "      Upload widget is only available when the cell has been executed in the\n",
              "      current browser session. Please rerun this cell to enable.\n",
              "      </output>\n",
              "      <script src=\"/nbextensions/google.colab/files.js\"></script> "
            ],
            "text/plain": [
              "<IPython.core.display.HTML object>"
            ]
          },
          "metadata": {
            "tags": []
          }
        },
        {
          "output_type": "stream",
          "text": [
            "Saving PCA3.csv to PCA3.csv\n"
          ],
          "name": "stdout"
        }
      ]
    },
    {
      "cell_type": "code",
      "metadata": {
        "id": "mdvlHLH6QQfs"
      },
      "source": [
        "finalDf = pd.read_csv(io.StringIO(uploaded['PCA3.csv'].decode('utf-8')), sep=',')"
      ],
      "execution_count": null,
      "outputs": []
    },
    {
      "cell_type": "code",
      "metadata": {
        "id": "FE8i3GjPQmqF",
        "colab": {
          "base_uri": "https://localhost:8080/",
          "height": 203
        },
        "outputId": "71673ad2-611b-406e-e8f7-eb16e25957db"
      },
      "source": [
        "finalDf.columns = ['Componente Principal 1', 'Componente Principal 2', 'Componente Principal 3', 'Type']\n",
        "finalDf.head()"
      ],
      "execution_count": null,
      "outputs": [
        {
          "output_type": "execute_result",
          "data": {
            "text/html": [
              "<div>\n",
              "<style scoped>\n",
              "    .dataframe tbody tr th:only-of-type {\n",
              "        vertical-align: middle;\n",
              "    }\n",
              "\n",
              "    .dataframe tbody tr th {\n",
              "        vertical-align: top;\n",
              "    }\n",
              "\n",
              "    .dataframe thead th {\n",
              "        text-align: right;\n",
              "    }\n",
              "</style>\n",
              "<table border=\"1\" class=\"dataframe\">\n",
              "  <thead>\n",
              "    <tr style=\"text-align: right;\">\n",
              "      <th></th>\n",
              "      <th>Componente Principal 1</th>\n",
              "      <th>Componente Principal 2</th>\n",
              "      <th>Componente Principal 3</th>\n",
              "      <th>Type</th>\n",
              "    </tr>\n",
              "  </thead>\n",
              "  <tbody>\n",
              "    <tr>\n",
              "      <th>0</th>\n",
              "      <td>-1.888339</td>\n",
              "      <td>0.493757</td>\n",
              "      <td>0.089824</td>\n",
              "      <td>1</td>\n",
              "    </tr>\n",
              "    <tr>\n",
              "      <th>1</th>\n",
              "      <td>-1.770391</td>\n",
              "      <td>0.799496</td>\n",
              "      <td>-0.181840</td>\n",
              "      <td>1</td>\n",
              "    </tr>\n",
              "    <tr>\n",
              "      <th>2</th>\n",
              "      <td>-2.067688</td>\n",
              "      <td>1.058030</td>\n",
              "      <td>-0.132354</td>\n",
              "      <td>1</td>\n",
              "    </tr>\n",
              "    <tr>\n",
              "      <th>3</th>\n",
              "      <td>-2.168182</td>\n",
              "      <td>1.112277</td>\n",
              "      <td>-0.388702</td>\n",
              "      <td>1</td>\n",
              "    </tr>\n",
              "    <tr>\n",
              "      <th>4</th>\n",
              "      <td>-1.898913</td>\n",
              "      <td>0.552587</td>\n",
              "      <td>0.317898</td>\n",
              "      <td>1</td>\n",
              "    </tr>\n",
              "  </tbody>\n",
              "</table>\n",
              "</div>"
            ],
            "text/plain": [
              "   Componente Principal 1  Componente Principal 2  Componente Principal 3  Type\n",
              "0               -1.888339                0.493757                0.089824     1\n",
              "1               -1.770391                0.799496               -0.181840     1\n",
              "2               -2.067688                1.058030               -0.132354     1\n",
              "3               -2.168182                1.112277               -0.388702     1\n",
              "4               -1.898913                0.552587                0.317898     1"
            ]
          },
          "metadata": {
            "tags": []
          },
          "execution_count": 4
        }
      ]
    },
    {
      "cell_type": "code",
      "metadata": {
        "colab": {
          "base_uri": "https://localhost:8080/"
        },
        "id": "Goz5tW-SFPp7",
        "outputId": "99ab1fb9-90e3-4efc-f450-2f2914fd9715"
      },
      "source": [
        "finalDf[\"Type\"].value_counts(True)"
      ],
      "execution_count": null,
      "outputs": [
        {
          "output_type": "execute_result",
          "data": {
            "text/plain": [
              "0    0.629808\n",
              "1    0.370192\n",
              "Name: Type, dtype: float64"
            ]
          },
          "metadata": {
            "tags": []
          },
          "execution_count": 5
        }
      ]
    },
    {
      "cell_type": "markdown",
      "metadata": {
        "id": "LU1Tt1ASKCxi"
      },
      "source": [
        "\n",
        "\n",
        "---\n",
        "\n"
      ]
    },
    {
      "cell_type": "markdown",
      "metadata": {
        "id": "Sq5ZAor2CVF4"
      },
      "source": [
        "# STRATIFY\n",
        "\n",
        "Uso los datos estratificados para luego diferenciar los resultados en la red"
      ]
    },
    {
      "cell_type": "code",
      "metadata": {
        "colab": {
          "base_uri": "https://localhost:8080/"
        },
        "id": "4FrUuZ3WCFyE",
        "outputId": "5cf519af-7e38-4e84-e70d-c20c61ce742a"
      },
      "source": [
        "from sklearn.model_selection import train_test_split\n",
        "\n",
        "x1 = finalDf.drop(['Type'], axis=1)\n",
        "y = finalDf['Type']\n",
        "\n",
        "datasets = train_test_split(x1, y, test_size=0.3, random_state=42, stratify=y)\n",
        "x_train, x_test, y_train, y_test = datasets\n",
        "\n",
        "x_train.shape, x_test.shape, y_train.shape, y_test.shape"
      ],
      "execution_count": null,
      "outputs": [
        {
          "output_type": "execute_result",
          "data": {
            "text/plain": [
              "((145, 3), (63, 3), (145,), (63,))"
            ]
          },
          "metadata": {
            "tags": []
          },
          "execution_count": 6
        }
      ]
    },
    {
      "cell_type": "code",
      "metadata": {
        "colab": {
          "base_uri": "https://localhost:8080/",
          "height": 337
        },
        "id": "bJI9zvkhBxHy",
        "outputId": "136622d8-8438-48de-ccc9-60e6a80619bc"
      },
      "source": [
        "fig = plt.figure(figsize=(10,5))\n",
        "plt.subplot(1,2,1)\n",
        "\n",
        "y_train.hist()\n",
        "\n",
        "plt.subplot(1,2,2)\n",
        "\n",
        "y_test.hist()"
      ],
      "execution_count": null,
      "outputs": [
        {
          "output_type": "execute_result",
          "data": {
            "text/plain": [
              "<matplotlib.axes._subplots.AxesSubplot at 0x7fe65ee34b90>"
            ]
          },
          "metadata": {
            "tags": []
          },
          "execution_count": 7
        },
        {
          "output_type": "display_data",
          "data": {
            "image/png": "[encoded data removed]",
            "text/plain": [
              "<Figure size 720x360 with 2 Axes>"
            ]
          },
          "metadata": {
            "tags": [],
            "needs_background": "light"
          }
        }
      ]
    },
    {
      "cell_type": "markdown",
      "metadata": {
        "id": "6Bd0N8aoHKtm"
      },
      "source": [
        "Red"
      ]
    },
    {
      "cell_type": "code",
      "metadata": {
        "id": "AIQlnhITGU6k",
        "colab": {
          "base_uri": "https://localhost:8080/"
        },
        "outputId": "78e14b76-fe24-45ec-cc46-54475748cf9b"
      },
      "source": [
        "from sklearn.neural_network import MLPClassifier\n",
        "mlp = MLPClassifier(max_iter=200, random_state=42)\n",
        "\n",
        "mlp.fit(x_train,y_train)"
      ],
      "execution_count": null,
      "outputs": [
        {
          "output_type": "stream",
          "text": [
            "/usr/local/lib/python3.7/dist-packages/sklearn/neural_network/_multilayer_perceptron.py:571: ConvergenceWarning: Stochastic Optimizer: Maximum iterations (200) reached and the optimization hasn't converged yet.\n",
            "  % self.max_iter, ConvergenceWarning)\n"
          ],
          "name": "stderr"
        },
        {
          "output_type": "execute_result",
          "data": {
            "text/plain": [
              "MLPClassifier(activation='relu', alpha=0.0001, batch_size='auto', beta_1=0.9,\n",
              "              beta_2=0.999, early_stopping=False, epsilon=1e-08,\n",
              "              hidden_layer_sizes=(100,), learning_rate='constant',\n",
              "              learning_rate_init=0.001, max_fun=15000, max_iter=200,\n",
              "              momentum=0.9, n_iter_no_change=10, nesterovs_momentum=True,\n",
              "              power_t=0.5, random_state=42, shuffle=True, solver='adam',\n",
              "              tol=0.0001, validation_fraction=0.1, verbose=False,\n",
              "              warm_start=False)"
            ]
          },
          "metadata": {
            "tags": []
          },
          "execution_count": 8
        }
      ]
    },
    {
      "cell_type": "code",
      "metadata": {
        "colab": {
          "base_uri": "https://localhost:8080/"
        },
        "id": "t0Hx5IR28iMG",
        "outputId": "d489e9fc-14ff-447f-a33d-84be72f1dcb0"
      },
      "source": [
        "print(\"Train Accuracy: \", mlp.score(x_train,y_train))\n",
        "print(\"Test Accuracy: \", mlp.score(x_test,y_test))"
      ],
      "execution_count": null,
      "outputs": [
        {
          "output_type": "stream",
          "text": [
            "Train Accuracy:  0.7379310344827587\n",
            "Test Accuracy:  0.6349206349206349\n"
          ],
          "name": "stdout"
        }
      ]
    },
    {
      "cell_type": "code",
      "metadata": {
        "colab": {
          "base_uri": "https://localhost:8080/"
        },
        "id": "ye3uz9vq8p-c",
        "outputId": "8054207c-d4cf-4607-9042-797a200adbab"
      },
      "source": [
        "print(\"Number of Iterations: \", mlp.n_iter_)\n",
        "print(\"Output Layer Activation Function :\", mlp.out_activation_)"
      ],
      "execution_count": null,
      "outputs": [
        {
          "output_type": "stream",
          "text": [
            "Number of Iterations:  200\n",
            "Output Layer Activation Function : logistic\n"
          ],
          "name": "stdout"
        }
      ]
    },
    {
      "cell_type": "markdown",
      "metadata": {
        "id": "vuAMQUiV-L2h"
      },
      "source": [
        "\n",
        "\n",
        "---\n",
        "\n"
      ]
    },
    {
      "cell_type": "code",
      "metadata": {
        "id": "QpzeXTXeAc3m"
      },
      "source": [
        "#Parte del entrenamiento\n",
        "predicciones = mlp.predict(x_test)\n",
        "clases_reales = y_test\n",
        "predicciones_prob = mlp.predict_proba(x_test)"
      ],
      "execution_count": null,
      "outputs": []
    },
    {
      "cell_type": "code",
      "metadata": {
        "id": "L2ISNBNY-LQI"
      },
      "source": [
        "def tupla_clase_prediccion(y_real, y_pred):\n",
        "  return list(zip(y_real, y_pred))\n",
        "#tupla_clase_prediccion(clases_reales, predicciones)[:10]"
      ],
      "execution_count": null,
      "outputs": []
    },
    {
      "cell_type": "markdown",
      "metadata": {
        "id": "Vy5X4Tz3-RWm"
      },
      "source": [
        "**Detallamos:**\n",
        "\n",
        "- **Verdaderos positivos:** Tiene graso y la compu nos dice\n",
        "\n",
        "- **Falsos positivos:** Digo que es graso pero me equivoque, en realidad no tiene (falsa alarma)\n",
        "\n",
        "- **Verdaderos negativos:** No tiene graso y la compu nos dice lo mismo\n",
        "\n",
        "- **Falsos negativos:** Los hígados grasos que se clasifican como normales"
      ]
    },
    {
      "cell_type": "code",
      "metadata": {
        "colab": {
          "base_uri": "https://localhost:8080/"
        },
        "id": "bDdqGvWX-SGk",
        "outputId": "61980a80-b354-4631-c121-c61c7f37cd39"
      },
      "source": [
        "def VP(clases_reales, predicciones):\n",
        "    par_clase_prediccion = tupla_clase_prediccion(clases_reales, predicciones)\n",
        "    return len([obs for obs in par_clase_prediccion if obs[0]==1 and obs[1]==1])\n",
        "\n",
        "def VN(clases_reales, predicciones):\n",
        "    par_clase_prediccion = tupla_clase_prediccion(clases_reales, predicciones)\n",
        "    return len([obs for obs in par_clase_prediccion if obs[0]==0 and obs[1]==0])\n",
        "    \n",
        "def FP(clases_reales, predicciones):\n",
        "    par_clase_prediccion = tupla_clase_prediccion(clases_reales, predicciones)\n",
        "    return len([obs for obs in par_clase_prediccion if obs[0]==0 and obs[1]==1])\n",
        "\n",
        "def FN(clases_reales, predicciones):\n",
        "    par_clase_prediccion = tupla_clase_prediccion(clases_reales, predicciones)\n",
        "    return len([obs for obs in par_clase_prediccion if obs[0]==1 and obs[1]==0])\n",
        "\n",
        "print(\"\"\"\n",
        "Verdaderos Positivos: {}\n",
        "Verdaderos Negativos: {}\n",
        "Falsos Positivos: {}\n",
        "Falsos Negativos: {}\n",
        "\"\"\".format(VP(clases_reales, predicciones), VN(clases_reales, predicciones), FP(clases_reales, predicciones), FN(clases_reales, predicciones)    \n",
        "))"
      ],
      "execution_count": null,
      "outputs": [
        {
          "output_type": "stream",
          "text": [
            "\n",
            "Verdaderos Positivos: 4\n",
            "Verdaderos Negativos: 36\n",
            "Falsos Positivos: 4\n",
            "Falsos Negativos: 19\n",
            "\n"
          ],
          "name": "stdout"
        }
      ]
    },
    {
      "cell_type": "markdown",
      "metadata": {
        "id": "roTTQbAW-M4z"
      },
      "source": [
        "\n",
        "\n",
        "---\n",
        "\n"
      ]
    },
    {
      "cell_type": "markdown",
      "metadata": {
        "id": "tmf47G5XE0Xe"
      },
      "source": [
        "Utilizamos Hiperparámetros para mejorar la red"
      ]
    },
    {
      "cell_type": "code",
      "metadata": {
        "id": "94BOsbIZ8Ww2"
      },
      "source": [
        "mlp_gs = MLPClassifier(max_iter=200, random_state=42)\n",
        "\n",
        "parameter_space = {\n",
        "    'hidden_layer_sizes': [(50,50,50), (50,100,50), (100,), (2,8,2), (2,50,3), (10,), (20,)],\n",
        "    'activation': ['tanh', 'relu', 'sigmoid'],\n",
        "    #'solver': ['lbfgs', 'sgd', 'adam'],\n",
        "    'alpha': [0.0001, 0.05],\n",
        "    'learning_rate': ['constant','adaptive'],\n",
        "}"
      ],
      "execution_count": null,
      "outputs": []
    },
    {
      "cell_type": "code",
      "metadata": {
        "id": "zUbcKmGqGWgG"
      },
      "source": [
        "from sklearn.model_selection import GridSearchCV\n",
        "\n",
        "clf = GridSearchCV(mlp_gs, parameter_space, n_jobs=-1, cv=5)\n",
        "#Parte del entrenamiento\n",
        "clf.fit(x_train, y_train)\n",
        "predicciones = clf.predict(x_test)\n",
        "clases_reales = y_test\n",
        "predicciones_prob = clf.predict_proba(x_test)"
      ],
      "execution_count": null,
      "outputs": []
    },
    {
      "cell_type": "code",
      "metadata": {
        "colab": {
          "base_uri": "https://localhost:8080/"
        },
        "id": "ZziKGooG8ILn",
        "outputId": "abe026cb-ee5f-4cc7-fd21-3cf82a6839c3"
      },
      "source": [
        "from sklearn.metrics import accuracy_score\n",
        "\n",
        "predictions_train = clf.predict(x_train)\n",
        "print(\"accurancy train:\", accuracy_score(predictions_train, y_train))\n",
        "predictions_test = clf.predict(x_test)\n",
        "print(\"accurancy test:\", accuracy_score(predictions_test, y_test))"
      ],
      "execution_count": null,
      "outputs": [
        {
          "output_type": "stream",
          "text": [
            "accurancy train: 0.6689655172413793\n",
            "accurancy test: 0.6507936507936508\n"
          ],
          "name": "stdout"
        }
      ]
    },
    {
      "cell_type": "code",
      "metadata": {
        "colab": {
          "base_uri": "https://localhost:8080/"
        },
        "id": "0idg5ZvP-dpQ",
        "outputId": "362b08a6-7025-4357-e548-338d29616463"
      },
      "source": [
        "# Mejores parametros\n",
        "print('Best parameters found:\\n', clf.best_params_)\n",
        "\n",
        "# Resultados\n",
        "means = clf.cv_results_['mean_test_score']\n",
        "stds = clf.cv_results_['std_test_score']\n",
        "for mean, std, params in zip(means, stds, clf.cv_results_['params']):\n",
        "    print(\"%0.3f (+/-%0.03f) for %r\" % (mean, std * 2, params))"
      ],
      "execution_count": null,
      "outputs": [
        {
          "output_type": "stream",
          "text": [
            "Best parameters found:\n",
            " {'activation': 'relu', 'alpha': 0.0001, 'hidden_layer_sizes': (2, 50, 3), 'learning_rate': 'constant'}\n",
            "0.655 (+/-0.185) for {'activation': 'tanh', 'alpha': 0.0001, 'hidden_layer_sizes': (50, 50, 50), 'learning_rate': 'constant'}\n",
            "0.655 (+/-0.185) for {'activation': 'tanh', 'alpha': 0.0001, 'hidden_layer_sizes': (50, 50, 50), 'learning_rate': 'adaptive'}\n",
            "0.655 (+/-0.115) for {'activation': 'tanh', 'alpha': 0.0001, 'hidden_layer_sizes': (50, 100, 50), 'learning_rate': 'constant'}\n",
            "0.655 (+/-0.115) for {'activation': 'tanh', 'alpha': 0.0001, 'hidden_layer_sizes': (50, 100, 50), 'learning_rate': 'adaptive'}\n",
            "0.648 (+/-0.134) for {'activation': 'tanh', 'alpha': 0.0001, 'hidden_layer_sizes': (100,), 'learning_rate': 'constant'}\n",
            "0.648 (+/-0.134) for {'activation': 'tanh', 'alpha': 0.0001, 'hidden_layer_sizes': (100,), 'learning_rate': 'adaptive'}\n",
            "0.628 (+/-0.119) for {'activation': 'tanh', 'alpha': 0.0001, 'hidden_layer_sizes': (2, 8, 2), 'learning_rate': 'constant'}\n",
            "0.628 (+/-0.119) for {'activation': 'tanh', 'alpha': 0.0001, 'hidden_layer_sizes': (2, 8, 2), 'learning_rate': 'adaptive'}\n",
            "0.600 (+/-0.112) for {'activation': 'tanh', 'alpha': 0.0001, 'hidden_layer_sizes': (2, 50, 3), 'learning_rate': 'constant'}\n",
            "0.600 (+/-0.112) for {'activation': 'tanh', 'alpha': 0.0001, 'hidden_layer_sizes': (2, 50, 3), 'learning_rate': 'adaptive'}\n",
            "0.552 (+/-0.145) for {'activation': 'tanh', 'alpha': 0.0001, 'hidden_layer_sizes': (10,), 'learning_rate': 'constant'}\n",
            "0.552 (+/-0.145) for {'activation': 'tanh', 'alpha': 0.0001, 'hidden_layer_sizes': (10,), 'learning_rate': 'adaptive'}\n",
            "0.634 (+/-0.135) for {'activation': 'tanh', 'alpha': 0.0001, 'hidden_layer_sizes': (20,), 'learning_rate': 'constant'}\n",
            "0.634 (+/-0.135) for {'activation': 'tanh', 'alpha': 0.0001, 'hidden_layer_sizes': (20,), 'learning_rate': 'adaptive'}\n",
            "0.655 (+/-0.185) for {'activation': 'tanh', 'alpha': 0.05, 'hidden_layer_sizes': (50, 50, 50), 'learning_rate': 'constant'}\n",
            "0.655 (+/-0.185) for {'activation': 'tanh', 'alpha': 0.05, 'hidden_layer_sizes': (50, 50, 50), 'learning_rate': 'adaptive'}\n",
            "0.655 (+/-0.115) for {'activation': 'tanh', 'alpha': 0.05, 'hidden_layer_sizes': (50, 100, 50), 'learning_rate': 'constant'}\n",
            "0.655 (+/-0.115) for {'activation': 'tanh', 'alpha': 0.05, 'hidden_layer_sizes': (50, 100, 50), 'learning_rate': 'adaptive'}\n",
            "0.648 (+/-0.134) for {'activation': 'tanh', 'alpha': 0.05, 'hidden_layer_sizes': (100,), 'learning_rate': 'constant'}\n",
            "0.648 (+/-0.134) for {'activation': 'tanh', 'alpha': 0.05, 'hidden_layer_sizes': (100,), 'learning_rate': 'adaptive'}\n",
            "0.628 (+/-0.119) for {'activation': 'tanh', 'alpha': 0.05, 'hidden_layer_sizes': (2, 8, 2), 'learning_rate': 'constant'}\n",
            "0.628 (+/-0.119) for {'activation': 'tanh', 'alpha': 0.05, 'hidden_layer_sizes': (2, 8, 2), 'learning_rate': 'adaptive'}\n",
            "0.600 (+/-0.112) for {'activation': 'tanh', 'alpha': 0.05, 'hidden_layer_sizes': (2, 50, 3), 'learning_rate': 'constant'}\n",
            "0.600 (+/-0.112) for {'activation': 'tanh', 'alpha': 0.05, 'hidden_layer_sizes': (2, 50, 3), 'learning_rate': 'adaptive'}\n",
            "0.552 (+/-0.145) for {'activation': 'tanh', 'alpha': 0.05, 'hidden_layer_sizes': (10,), 'learning_rate': 'constant'}\n",
            "0.552 (+/-0.145) for {'activation': 'tanh', 'alpha': 0.05, 'hidden_layer_sizes': (10,), 'learning_rate': 'adaptive'}\n",
            "0.634 (+/-0.135) for {'activation': 'tanh', 'alpha': 0.05, 'hidden_layer_sizes': (20,), 'learning_rate': 'constant'}\n",
            "0.634 (+/-0.135) for {'activation': 'tanh', 'alpha': 0.05, 'hidden_layer_sizes': (20,), 'learning_rate': 'adaptive'}\n",
            "0.572 (+/-0.188) for {'activation': 'relu', 'alpha': 0.0001, 'hidden_layer_sizes': (50, 50, 50), 'learning_rate': 'constant'}\n",
            "0.572 (+/-0.188) for {'activation': 'relu', 'alpha': 0.0001, 'hidden_layer_sizes': (50, 50, 50), 'learning_rate': 'adaptive'}\n",
            "0.538 (+/-0.149) for {'activation': 'relu', 'alpha': 0.0001, 'hidden_layer_sizes': (50, 100, 50), 'learning_rate': 'constant'}\n",
            "0.538 (+/-0.149) for {'activation': 'relu', 'alpha': 0.0001, 'hidden_layer_sizes': (50, 100, 50), 'learning_rate': 'adaptive'}\n",
            "0.662 (+/-0.134) for {'activation': 'relu', 'alpha': 0.0001, 'hidden_layer_sizes': (100,), 'learning_rate': 'constant'}\n",
            "0.662 (+/-0.134) for {'activation': 'relu', 'alpha': 0.0001, 'hidden_layer_sizes': (100,), 'learning_rate': 'adaptive'}\n",
            "0.372 (+/-0.028) for {'activation': 'relu', 'alpha': 0.0001, 'hidden_layer_sizes': (2, 8, 2), 'learning_rate': 'constant'}\n",
            "0.372 (+/-0.028) for {'activation': 'relu', 'alpha': 0.0001, 'hidden_layer_sizes': (2, 8, 2), 'learning_rate': 'adaptive'}\n",
            "0.669 (+/-0.055) for {'activation': 'relu', 'alpha': 0.0001, 'hidden_layer_sizes': (2, 50, 3), 'learning_rate': 'constant'}\n",
            "0.669 (+/-0.055) for {'activation': 'relu', 'alpha': 0.0001, 'hidden_layer_sizes': (2, 50, 3), 'learning_rate': 'adaptive'}\n",
            "0.572 (+/-0.172) for {'activation': 'relu', 'alpha': 0.0001, 'hidden_layer_sizes': (10,), 'learning_rate': 'constant'}\n",
            "0.572 (+/-0.172) for {'activation': 'relu', 'alpha': 0.0001, 'hidden_layer_sizes': (10,), 'learning_rate': 'adaptive'}\n",
            "0.669 (+/-0.103) for {'activation': 'relu', 'alpha': 0.0001, 'hidden_layer_sizes': (20,), 'learning_rate': 'constant'}\n",
            "0.669 (+/-0.103) for {'activation': 'relu', 'alpha': 0.0001, 'hidden_layer_sizes': (20,), 'learning_rate': 'adaptive'}\n",
            "0.586 (+/-0.174) for {'activation': 'relu', 'alpha': 0.05, 'hidden_layer_sizes': (50, 50, 50), 'learning_rate': 'constant'}\n",
            "0.586 (+/-0.174) for {'activation': 'relu', 'alpha': 0.05, 'hidden_layer_sizes': (50, 50, 50), 'learning_rate': 'adaptive'}\n",
            "0.524 (+/-0.147) for {'activation': 'relu', 'alpha': 0.05, 'hidden_layer_sizes': (50, 100, 50), 'learning_rate': 'constant'}\n",
            "0.524 (+/-0.147) for {'activation': 'relu', 'alpha': 0.05, 'hidden_layer_sizes': (50, 100, 50), 'learning_rate': 'adaptive'}\n",
            "0.662 (+/-0.134) for {'activation': 'relu', 'alpha': 0.05, 'hidden_layer_sizes': (100,), 'learning_rate': 'constant'}\n",
            "0.662 (+/-0.134) for {'activation': 'relu', 'alpha': 0.05, 'hidden_layer_sizes': (100,), 'learning_rate': 'adaptive'}\n",
            "0.372 (+/-0.028) for {'activation': 'relu', 'alpha': 0.05, 'hidden_layer_sizes': (2, 8, 2), 'learning_rate': 'constant'}\n",
            "0.372 (+/-0.028) for {'activation': 'relu', 'alpha': 0.05, 'hidden_layer_sizes': (2, 8, 2), 'learning_rate': 'adaptive'}\n",
            "0.669 (+/-0.055) for {'activation': 'relu', 'alpha': 0.05, 'hidden_layer_sizes': (2, 50, 3), 'learning_rate': 'constant'}\n",
            "0.669 (+/-0.055) for {'activation': 'relu', 'alpha': 0.05, 'hidden_layer_sizes': (2, 50, 3), 'learning_rate': 'adaptive'}\n",
            "0.572 (+/-0.172) for {'activation': 'relu', 'alpha': 0.05, 'hidden_layer_sizes': (10,), 'learning_rate': 'constant'}\n",
            "0.572 (+/-0.172) for {'activation': 'relu', 'alpha': 0.05, 'hidden_layer_sizes': (10,), 'learning_rate': 'adaptive'}\n",
            "0.662 (+/-0.080) for {'activation': 'relu', 'alpha': 0.05, 'hidden_layer_sizes': (20,), 'learning_rate': 'constant'}\n",
            "0.662 (+/-0.080) for {'activation': 'relu', 'alpha': 0.05, 'hidden_layer_sizes': (20,), 'learning_rate': 'adaptive'}\n",
            "nan (+/-nan) for {'activation': 'sigmoid', 'alpha': 0.0001, 'hidden_layer_sizes': (50, 50, 50), 'learning_rate': 'constant'}\n",
            "nan (+/-nan) for {'activation': 'sigmoid', 'alpha': 0.0001, 'hidden_layer_sizes': (50, 50, 50), 'learning_rate': 'adaptive'}\n",
            "nan (+/-nan) for {'activation': 'sigmoid', 'alpha': 0.0001, 'hidden_layer_sizes': (50, 100, 50), 'learning_rate': 'constant'}\n",
            "nan (+/-nan) for {'activation': 'sigmoid', 'alpha': 0.0001, 'hidden_layer_sizes': (50, 100, 50), 'learning_rate': 'adaptive'}\n",
            "nan (+/-nan) for {'activation': 'sigmoid', 'alpha': 0.0001, 'hidden_layer_sizes': (100,), 'learning_rate': 'constant'}\n",
            "nan (+/-nan) for {'activation': 'sigmoid', 'alpha': 0.0001, 'hidden_layer_sizes': (100,), 'learning_rate': 'adaptive'}\n",
            "nan (+/-nan) for {'activation': 'sigmoid', 'alpha': 0.0001, 'hidden_layer_sizes': (2, 8, 2), 'learning_rate': 'constant'}\n",
            "nan (+/-nan) for {'activation': 'sigmoid', 'alpha': 0.0001, 'hidden_layer_sizes': (2, 8, 2), 'learning_rate': 'adaptive'}\n",
            "nan (+/-nan) for {'activation': 'sigmoid', 'alpha': 0.0001, 'hidden_layer_sizes': (2, 50, 3), 'learning_rate': 'constant'}\n",
            "nan (+/-nan) for {'activation': 'sigmoid', 'alpha': 0.0001, 'hidden_layer_sizes': (2, 50, 3), 'learning_rate': 'adaptive'}\n",
            "nan (+/-nan) for {'activation': 'sigmoid', 'alpha': 0.0001, 'hidden_layer_sizes': (10,), 'learning_rate': 'constant'}\n",
            "nan (+/-nan) for {'activation': 'sigmoid', 'alpha': 0.0001, 'hidden_layer_sizes': (10,), 'learning_rate': 'adaptive'}\n",
            "nan (+/-nan) for {'activation': 'sigmoid', 'alpha': 0.0001, 'hidden_layer_sizes': (20,), 'learning_rate': 'constant'}\n",
            "nan (+/-nan) for {'activation': 'sigmoid', 'alpha': 0.0001, 'hidden_layer_sizes': (20,), 'learning_rate': 'adaptive'}\n",
            "nan (+/-nan) for {'activation': 'sigmoid', 'alpha': 0.05, 'hidden_layer_sizes': (50, 50, 50), 'learning_rate': 'constant'}\n",
            "nan (+/-nan) for {'activation': 'sigmoid', 'alpha': 0.05, 'hidden_layer_sizes': (50, 50, 50), 'learning_rate': 'adaptive'}\n",
            "nan (+/-nan) for {'activation': 'sigmoid', 'alpha': 0.05, 'hidden_layer_sizes': (50, 100, 50), 'learning_rate': 'constant'}\n",
            "nan (+/-nan) for {'activation': 'sigmoid', 'alpha': 0.05, 'hidden_layer_sizes': (50, 100, 50), 'learning_rate': 'adaptive'}\n",
            "nan (+/-nan) for {'activation': 'sigmoid', 'alpha': 0.05, 'hidden_layer_sizes': (100,), 'learning_rate': 'constant'}\n",
            "nan (+/-nan) for {'activation': 'sigmoid', 'alpha': 0.05, 'hidden_layer_sizes': (100,), 'learning_rate': 'adaptive'}\n",
            "nan (+/-nan) for {'activation': 'sigmoid', 'alpha': 0.05, 'hidden_layer_sizes': (2, 8, 2), 'learning_rate': 'constant'}\n",
            "nan (+/-nan) for {'activation': 'sigmoid', 'alpha': 0.05, 'hidden_layer_sizes': (2, 8, 2), 'learning_rate': 'adaptive'}\n",
            "nan (+/-nan) for {'activation': 'sigmoid', 'alpha': 0.05, 'hidden_layer_sizes': (2, 50, 3), 'learning_rate': 'constant'}\n",
            "nan (+/-nan) for {'activation': 'sigmoid', 'alpha': 0.05, 'hidden_layer_sizes': (2, 50, 3), 'learning_rate': 'adaptive'}\n",
            "nan (+/-nan) for {'activation': 'sigmoid', 'alpha': 0.05, 'hidden_layer_sizes': (10,), 'learning_rate': 'constant'}\n",
            "nan (+/-nan) for {'activation': 'sigmoid', 'alpha': 0.05, 'hidden_layer_sizes': (10,), 'learning_rate': 'adaptive'}\n",
            "nan (+/-nan) for {'activation': 'sigmoid', 'alpha': 0.05, 'hidden_layer_sizes': (20,), 'learning_rate': 'constant'}\n",
            "nan (+/-nan) for {'activation': 'sigmoid', 'alpha': 0.05, 'hidden_layer_sizes': (20,), 'learning_rate': 'adaptive'}\n"
          ],
          "name": "stdout"
        }
      ]
    },
    {
      "cell_type": "code",
      "metadata": {
        "colab": {
          "base_uri": "https://localhost:8080/"
        },
        "id": "1zcJWjc5-4gm",
        "outputId": "4ae5854b-36d7-458a-e596-76ba093ab281"
      },
      "source": [
        "from sklearn.neural_network import MLPClassifier\n",
        "\n",
        "mlpb = MLPClassifier(#solver='adam', \n",
        "                    activation='relu',\n",
        "                    alpha=0.05,\n",
        "                    hidden_layer_sizes=(100,), \n",
        "                    learning_rate='constant',\n",
        "                    max_iter=200)\n",
        "\n",
        "mlpb.fit(x_train, y_train) \n",
        "mlpb.score(x_train, y_train)"
      ],
      "execution_count": null,
      "outputs": [
        {
          "output_type": "stream",
          "text": [
            "/usr/local/lib/python3.7/dist-packages/sklearn/neural_network/_multilayer_perceptron.py:571: ConvergenceWarning: Stochastic Optimizer: Maximum iterations (200) reached and the optimization hasn't converged yet.\n",
            "  % self.max_iter, ConvergenceWarning)\n"
          ],
          "name": "stderr"
        },
        {
          "output_type": "execute_result",
          "data": {
            "text/plain": [
              "0.7448275862068966"
            ]
          },
          "metadata": {
            "tags": []
          },
          "execution_count": 18
        }
      ]
    },
    {
      "cell_type": "code",
      "metadata": {
        "colab": {
          "base_uri": "https://localhost:8080/"
        },
        "id": "VBrCFebU_HVQ",
        "outputId": "405cc29e-d61b-40ad-932f-d2e7918512a0"
      },
      "source": [
        "from sklearn.metrics import accuracy_score\n",
        "\n",
        "predictions_train = mlpb.predict(x_train)\n",
        "print(\"accurancy train:\", accuracy_score(predictions_train, y_train))\n",
        "predictions_test = mlpb.predict(x_test)\n",
        "print(\"accurancy test:\", accuracy_score(predictions_test, y_test))"
      ],
      "execution_count": null,
      "outputs": [
        {
          "output_type": "stream",
          "text": [
            "accurancy train: 0.7448275862068966\n",
            "accurancy test: 0.6507936507936508\n"
          ],
          "name": "stdout"
        }
      ]
    },
    {
      "cell_type": "code",
      "metadata": {
        "colab": {
          "base_uri": "https://localhost:8080/"
        },
        "id": "5X7oEv1yADcN",
        "outputId": "adff9ca7-5257-4864-9477-b33420e130d3"
      },
      "source": [
        "print(\"Number of Iterations: \", mlp.n_iter_)\n",
        "print(\"Output Layer Activation Function :\", mlp.out_activation_)"
      ],
      "execution_count": null,
      "outputs": [
        {
          "output_type": "stream",
          "text": [
            "Number of Iterations:  200\n",
            "Output Layer Activation Function : logistic\n"
          ],
          "name": "stdout"
        }
      ]
    },
    {
      "cell_type": "code",
      "metadata": {
        "colab": {
          "base_uri": "https://localhost:8080/",
          "height": 265
        },
        "id": "zhsV-wzz_Lo3",
        "outputId": "964afe11-a3e3-47fb-b69e-0cd7156fc4ea"
      },
      "source": [
        "from sklearn.metrics import confusion_matrix\n",
        "from sklearn.metrics import plot_confusion_matrix\n",
        "import seaborn as sn\n",
        "\n",
        "cf_matrix = confusion_matrix(predictions_train, y_train)\n",
        "#plot_confusion_matrix(mlpb, x_train, y_train)\n",
        "group_names = ['Verdaderos Negativos','Falsos Negativos','Falsos Positivos','Verdaderos Positivos']\n",
        "\n",
        "group_counts = [\"{0:0.0f}\".format(value) for value in\n",
        "                cf_matrix.flatten()]\n",
        "group_percentages = [\"{0:.2%}\".format(value) for value in\n",
        "                     cf_matrix.flatten()/np.sum(cf_matrix)]\n",
        "labels = [f\"{v1}\\n{v2}\\n{v3}\" for v1, v2, v3 in\n",
        "          zip(group_names, group_counts, group_percentages)]\n",
        "labels = np.asarray(labels).reshape(2,2)\n",
        "sn.heatmap(cf_matrix, annot=labels, fmt='', cmap='Blues')\n",
        "plt.savefig('PCA3prediccion_train(0.3).svg', format='svg', dpi=30)"
      ],
      "execution_count": null,
      "outputs": [
        {
          "output_type": "display_data",
          "data": {
            "image/png": "[encoded data removed]",
            "text/plain": [
              "<Figure size 432x288 with 2 Axes>"
            ]
          },
          "metadata": {
            "tags": [],
            "needs_background": "light"
          }
        }
      ]
    },
    {
      "cell_type": "code",
      "metadata": {
        "colab": {
          "base_uri": "https://localhost:8080/",
          "height": 265
        },
        "id": "U6Y8ci0I_P0k",
        "outputId": "e563f488-6efa-4acb-c9f8-92ca5923b6f7"
      },
      "source": [
        "cf_matrix2 = confusion_matrix(predictions_test, y_test)\n",
        "#plot_confusion_matrix(mlpb, x_test, y_test)  \n",
        "group_names = ['Verdaderos Negativos','Falsos Negativos', 'Falsos Positivos','Verdaderos Positivos']\n",
        "\n",
        "group_counts = [\"{0:0.0f}\".format(value) for value in\n",
        "                cf_matrix2.flatten()]\n",
        "group_percentages = [\"{0:.2%}\".format(value) for value in\n",
        "                     cf_matrix2.flatten()/np.sum(cf_matrix2)]\n",
        "labels = [f\"{v1}\\n{v2}\\n{v3}\" for v1, v2, v3 in\n",
        "          zip(group_names, group_counts, group_percentages)]\n",
        "labels = np.asarray(labels).reshape(2,2)\n",
        "sn.heatmap(cf_matrix2, annot=labels, fmt='', cmap='Reds')\n",
        "plt.savefig('PCA3prediccion_test(0.3).svg', format='svg', dpi=30)"
      ],
      "execution_count": null,
      "outputs": [
        {
          "output_type": "display_data",
          "data": {
            "image/png": "[encoded data removed]",
            "text/plain": [
              "<Figure size 432x288 with 2 Axes>"
            ]
          },
          "metadata": {
            "tags": [],
            "needs_background": "light"
          }
        }
      ]
    },
    {
      "cell_type": "code",
      "metadata": {
        "colab": {
          "base_uri": "https://localhost:8080/"
        },
        "id": "lCI7faI0_T7I",
        "outputId": "e5063818-623f-4c35-df46-6effa3510930"
      },
      "source": [
        "from sklearn.metrics import classification_report\n",
        "\n",
        "print(classification_report(predictions_train, y_train))"
      ],
      "execution_count": null,
      "outputs": [
        {
          "output_type": "stream",
          "text": [
            "              precision    recall  f1-score   support\n",
            "\n",
            "           0       0.95      0.73      0.82       118\n",
            "           1       0.41      0.81      0.54        27\n",
            "\n",
            "    accuracy                           0.74       145\n",
            "   macro avg       0.68      0.77      0.68       145\n",
            "weighted avg       0.84      0.74      0.77       145\n",
            "\n"
          ],
          "name": "stdout"
        }
      ]
    },
    {
      "cell_type": "code",
      "metadata": {
        "colab": {
          "base_uri": "https://localhost:8080/"
        },
        "id": "MYvPiPx2zp9i",
        "outputId": "8a78855b-0a7f-4b40-be9c-bae8805ea180"
      },
      "source": [
        "print(classification_report(predictions_test, y_test))"
      ],
      "execution_count": null,
      "outputs": [
        {
          "output_type": "stream",
          "text": [
            "              precision    recall  f1-score   support\n",
            "\n",
            "           0       0.90      0.67      0.77        54\n",
            "           1       0.22      0.56      0.31         9\n",
            "\n",
            "    accuracy                           0.65        63\n",
            "   macro avg       0.56      0.61      0.54        63\n",
            "weighted avg       0.80      0.65      0.70        63\n",
            "\n"
          ],
          "name": "stdout"
        }
      ]
    },
    {
      "cell_type": "code",
      "metadata": {
        "colab": {
          "base_uri": "https://localhost:8080/"
        },
        "id": "VACiEUB3_Xtb",
        "outputId": "711b7ca9-fcb9-43bd-de07-896292de95eb"
      },
      "source": [
        "y_true, y_pred = y_test, mlpb.predict(x_test)\n",
        "\n",
        "from sklearn.metrics import classification_report\n",
        "print('Results on the test set:')\n",
        "print(classification_report(y_true, y_pred))"
      ],
      "execution_count": null,
      "outputs": [
        {
          "output_type": "stream",
          "text": [
            "Results on the test set:\n",
            "              precision    recall  f1-score   support\n",
            "\n",
            "           0       0.67      0.90      0.77        40\n",
            "           1       0.56      0.22      0.31        23\n",
            "\n",
            "    accuracy                           0.65        63\n",
            "   macro avg       0.61      0.56      0.54        63\n",
            "weighted avg       0.63      0.65      0.60        63\n",
            "\n"
          ],
          "name": "stdout"
        }
      ]
    },
    {
      "cell_type": "markdown",
      "metadata": {
        "id": "AxTca3U9KmX5"
      },
      "source": [
        "\n",
        "\n",
        "---\n",
        "\n"
      ]
    },
    {
      "cell_type": "code",
      "metadata": {
        "id": "tiId9X9DFXje"
      },
      "source": [
        "#Parte del entrenamiento\n",
        "predicciones = mlpb.predict(x_test)\n",
        "clases_reales = y_test\n",
        "predicciones_prob = mlpb.predict_proba(x_test)"
      ],
      "execution_count": null,
      "outputs": []
    },
    {
      "cell_type": "code",
      "metadata": {
        "id": "L_dkDoojFcHA"
      },
      "source": [
        "def tupla_clase_prediccion(y_real, y_pred):\n",
        "  return list(zip(y_real, y_pred))"
      ],
      "execution_count": null,
      "outputs": []
    },
    {
      "cell_type": "code",
      "metadata": {
        "colab": {
          "base_uri": "https://localhost:8080/"
        },
        "id": "v02wo2tEFcnj",
        "outputId": "9883b92b-c74d-4349-e183-2ef003b9732c"
      },
      "source": [
        "def VP(clases_reales, predicciones):\n",
        "    par_clase_prediccion = tupla_clase_prediccion(clases_reales, predicciones)\n",
        "    return len([obs for obs in par_clase_prediccion if obs[0]==1 and obs[1]==1])\n",
        "\n",
        "def VN(clases_reales, predicciones):\n",
        "    par_clase_prediccion = tupla_clase_prediccion(clases_reales, predicciones)\n",
        "    return len([obs for obs in par_clase_prediccion if obs[0]==0 and obs[1]==0])\n",
        "    \n",
        "def FP(clases_reales, predicciones):\n",
        "    par_clase_prediccion = tupla_clase_prediccion(clases_reales, predicciones)\n",
        "    return len([obs for obs in par_clase_prediccion if obs[0]==0 and obs[1]==1])\n",
        "\n",
        "def FN(clases_reales, predicciones):\n",
        "    par_clase_prediccion = tupla_clase_prediccion(clases_reales, predicciones)\n",
        "    return len([obs for obs in par_clase_prediccion if obs[0]==1 and obs[1]==0])\n",
        "\n",
        "print(\"\"\"\n",
        "Verdaderos Positivos: {}\n",
        "Verdaderos Negativos: {}\n",
        "Falsos Positivos: {}\n",
        "Falsos Negativos: {}\n",
        "\"\"\".format(VP(clases_reales, predicciones), VN(clases_reales, predicciones), FP(clases_reales, predicciones), FN(clases_reales, predicciones)    \n",
        "))"
      ],
      "execution_count": null,
      "outputs": [
        {
          "output_type": "stream",
          "text": [
            "\n",
            "Verdaderos Positivos: 5\n",
            "Verdaderos Negativos: 36\n",
            "Falsos Positivos: 4\n",
            "Falsos Negativos: 18\n",
            "\n"
          ],
          "name": "stdout"
        }
      ]
    },
    {
      "cell_type": "markdown",
      "metadata": {
        "id": "SG6sU56oKiuL"
      },
      "source": [
        " # **Tasas de clasificación**\n",
        "\n",
        "**1. Exactitud (Accuracy)**\n",
        "\n",
        "La exactitud es una medida general de como se comporta el modelo, mide simplemente el porcentaje de casos que se han clasificado correctamente.\n",
        "\n",
        "$$Exactitud=\\frac{Numero~de~observaciones~correctamente~clasificadas}{Numero~de~observaciones~totales}= \\frac{VP+VN}{VP+VN+FP+FN}$$"
      ]
    },
    {
      "cell_type": "markdown",
      "metadata": {
        "id": "Ying5CxOLJqr"
      },
      "source": [
        "La exactitud es cuantos valores tuve bien entre el total"
      ]
    },
    {
      "cell_type": "code",
      "metadata": {
        "colab": {
          "base_uri": "https://localhost:8080/"
        },
        "id": "ukssTHYAOTgH",
        "outputId": "3fde0abc-d8c2-44ed-c1db-f05688bc8263"
      },
      "source": [
        "from sklearn import metrics\n",
        "metrics.accuracy_score(clases_reales, predicciones)"
      ],
      "execution_count": null,
      "outputs": [
        {
          "output_type": "execute_result",
          "data": {
            "text/plain": [
              "0.6507936507936508"
            ]
          },
          "metadata": {
            "tags": []
          },
          "execution_count": 32
        }
      ]
    },
    {
      "cell_type": "markdown",
      "metadata": {
        "id": "KBmenSngKvt7"
      },
      "source": [
        "**2. Precisión (Precission)**\n",
        "\n",
        "La precisión indica la habilidad del modelo para clasificar como positivos los casos que son positivos.\n",
        "\n",
        "$$Precisión=\\frac{Numero~de~observaciones~positivas~correctamente~clasificadas}{Numero~de~observaciones~clasificadas~como~positivas}= \\frac{VP}{VP+FP}$$"
      ]
    },
    {
      "cell_type": "markdown",
      "metadata": {
        "id": "kVNpWkOQLqK0"
      },
      "source": [
        "Habilidad del modelo para predecir como positivo lo que si es positivo"
      ]
    },
    {
      "cell_type": "code",
      "metadata": {
        "colab": {
          "base_uri": "https://localhost:8080/"
        },
        "id": "VqHJJ35QK0vB",
        "outputId": "f2060e78-6508-49d9-b510-c8798c8ba88d"
      },
      "source": [
        "metrics.average_precision_score(clases_reales, predicciones)"
      ],
      "execution_count": null,
      "outputs": [
        {
          "output_type": "execute_result",
          "data": {
            "text/plain": [
              "0.40648723257418906"
            ]
          },
          "metadata": {
            "tags": []
          },
          "execution_count": 33
        }
      ]
    },
    {
      "cell_type": "markdown",
      "metadata": {
        "id": "LG9wsU6vMud-"
      },
      "source": [
        "**3. Exhaustividad o sensibilidad (Recall o True Positive Rate)**\n",
        "\n",
        "La sensibilidad nos da una medida de la habilidad del modelo para encontrar todos los casos positivos. La sensibilidad se mide en función de una clase.\n",
        "\n",
        "$$Sensibilidad=\\frac{Numero~de~observaciones~positivas~clasificadas~como~positivas}{Numero~de~observaciones~positivas~totales}= \\frac{VP}{VP+FN}$$"
      ]
    },
    {
      "cell_type": "code",
      "metadata": {
        "colab": {
          "base_uri": "https://localhost:8080/"
        },
        "id": "GJooDoJ7NCu2",
        "outputId": "eea75c0e-6923-4c18-a70d-e19b8005162b"
      },
      "source": [
        "metrics.recall_score(clases_reales, predicciones)"
      ],
      "execution_count": null,
      "outputs": [
        {
          "output_type": "execute_result",
          "data": {
            "text/plain": [
              "0.21739130434782608"
            ]
          },
          "metadata": {
            "tags": []
          },
          "execution_count": 30
        }
      ]
    },
    {
      "cell_type": "code",
      "metadata": {
        "colab": {
          "base_uri": "https://localhost:8080/"
        },
        "id": "3IwGAM2lNLGz",
        "outputId": "94c741db-da36-44a6-93a4-dd2d33aad689"
      },
      "source": [
        "from sklearn.metrics import confusion_matrix\n",
        "confusion_matrix(clases_reales, predicciones)"
      ],
      "execution_count": null,
      "outputs": [
        {
          "output_type": "execute_result",
          "data": {
            "text/plain": [
              "array([[36,  4],\n",
              "       [18,  5]])"
            ]
          },
          "metadata": {
            "tags": []
          },
          "execution_count": 31
        }
      ]
    },
    {
      "cell_type": "markdown",
      "metadata": {
        "id": "XCqARd63KpPP"
      },
      "source": [
        "\n",
        "\n",
        "---\n",
        "\n"
      ]
    },
    {
      "cell_type": "markdown",
      "metadata": {
        "id": "PvKsFVIAPDX1"
      },
      "source": [
        "\n",
        "\n",
        "---\n",
        "\n"
      ]
    },
    {
      "cell_type": "markdown",
      "metadata": {
        "id": "Ra1sBY5vJ63D"
      },
      "source": [
        "# RED No-Stratify\n",
        "\n",
        "\n",
        "\n"
      ]
    },
    {
      "cell_type": "code",
      "metadata": {
        "colab": {
          "base_uri": "https://localhost:8080/",
          "height": 203
        },
        "id": "O7RXgxWGGT3n",
        "outputId": "1ad45a09-3c75-44ea-8aa7-8a9ebd1a93aa"
      },
      "source": [
        "from sklearn.model_selection import train_test_split\n",
        "\n",
        "x2 = finalDf.drop(['Type'], axis=1)\n",
        "y = finalDf['Type']\n",
        "\n",
        "datasets2 = train_test_split(x2, y, test_size=0.3, random_state=42)\n",
        "x_train2, x_test2, y_train2, y_test2 = datasets2\n",
        "\n",
        "x_train2.shape, x_train2.shape\n",
        "x_train2.head()"
      ],
      "execution_count": null,
      "outputs": [
        {
          "output_type": "execute_result",
          "data": {
            "text/html": [
              "<div>\n",
              "<style scoped>\n",
              "    .dataframe tbody tr th:only-of-type {\n",
              "        vertical-align: middle;\n",
              "    }\n",
              "\n",
              "    .dataframe tbody tr th {\n",
              "        vertical-align: top;\n",
              "    }\n",
              "\n",
              "    .dataframe thead th {\n",
              "        text-align: right;\n",
              "    }\n",
              "</style>\n",
              "<table border=\"1\" class=\"dataframe\">\n",
              "  <thead>\n",
              "    <tr style=\"text-align: right;\">\n",
              "      <th></th>\n",
              "      <th>Componente Principal 1</th>\n",
              "      <th>Componente Principal 2</th>\n",
              "      <th>Componente Principal 3</th>\n",
              "    </tr>\n",
              "  </thead>\n",
              "  <tbody>\n",
              "    <tr>\n",
              "      <th>146</th>\n",
              "      <td>-0.776312</td>\n",
              "      <td>0.636666</td>\n",
              "      <td>-0.495208</td>\n",
              "    </tr>\n",
              "    <tr>\n",
              "      <th>108</th>\n",
              "      <td>-2.337838</td>\n",
              "      <td>0.946294</td>\n",
              "      <td>-0.961587</td>\n",
              "    </tr>\n",
              "    <tr>\n",
              "      <th>177</th>\n",
              "      <td>6.960078</td>\n",
              "      <td>0.318733</td>\n",
              "      <td>-1.521217</td>\n",
              "    </tr>\n",
              "    <tr>\n",
              "      <th>31</th>\n",
              "      <td>-0.610580</td>\n",
              "      <td>0.200299</td>\n",
              "      <td>2.737630</td>\n",
              "    </tr>\n",
              "    <tr>\n",
              "      <th>12</th>\n",
              "      <td>-1.105450</td>\n",
              "      <td>0.671788</td>\n",
              "      <td>1.539373</td>\n",
              "    </tr>\n",
              "  </tbody>\n",
              "</table>\n",
              "</div>"
            ],
            "text/plain": [
              "     Componente Principal 1  Componente Principal 2  Componente Principal 3\n",
              "146               -0.776312                0.636666               -0.495208\n",
              "108               -2.337838                0.946294               -0.961587\n",
              "177                6.960078                0.318733               -1.521217\n",
              "31                -0.610580                0.200299                2.737630\n",
              "12                -1.105450                0.671788                1.539373"
            ]
          },
          "metadata": {
            "tags": []
          },
          "execution_count": 32
        }
      ]
    },
    {
      "cell_type": "code",
      "metadata": {
        "colab": {
          "base_uri": "https://localhost:8080/",
          "height": 337
        },
        "id": "Nt--OifXGgcm",
        "outputId": "61cee201-63ec-4a1f-b727-0ef8e37668c2"
      },
      "source": [
        "fig = plt.figure(figsize=(10,5))\n",
        "\n",
        "plt.subplot(2,2,1)\n",
        "y_train.hist()\n",
        "\n",
        "plt.subplot(2,2,2)\n",
        "y_test.hist()\n",
        "\n",
        "plt.subplot(2,2,3)\n",
        "y_train2.hist()\n",
        "\n",
        "plt.subplot(2,2,4)\n",
        "y_test2.hist()"
      ],
      "execution_count": null,
      "outputs": [
        {
          "output_type": "execute_result",
          "data": {
            "text/plain": [
              "<matplotlib.axes._subplots.AxesSubplot at 0x7feaee264ad0>"
            ]
          },
          "metadata": {
            "tags": []
          },
          "execution_count": 33
        },
        {
          "output_type": "display_data",
          "data": {
            "image/png": "[encoded data removed]",
            "text/plain": [
              "<Figure size 720x360 with 4 Axes>"
            ]
          },
          "metadata": {
            "tags": [],
            "needs_background": "light"
          }
        }
      ]
    },
    {
      "cell_type": "code",
      "metadata": {
        "id": "3YX_ckjYLRm8"
      },
      "source": [
        "from sklearn.neural_network import MLPClassifier\n",
        "mlp2 = MLPClassifier(max_iter=200)\n",
        "\n",
        "parameter_space = {\n",
        "    'hidden_layer_sizes': [(50,50,50), (50,100,50), (100,), (2,8,2), (2,50,3), (10,), (20,)],\n",
        "    'activation': ['tanh', 'relu', 'sigmoid'],\n",
        "    #'solver': ['lbfgs', 'sgd', 'adam'],\n",
        "    'alpha': [0.0001, 0.05],\n",
        "    'learning_rate': ['constant','adaptive'],\n",
        "}"
      ],
      "execution_count": null,
      "outputs": []
    },
    {
      "cell_type": "code",
      "metadata": {
        "id": "_LhSNGzULVAS",
        "colab": {
          "base_uri": "https://localhost:8080/"
        },
        "outputId": "7cfa2091-2005-4ce8-d435-3121545eac7b"
      },
      "source": [
        "from sklearn.model_selection import GridSearchCV\n",
        "\n",
        "clf2 = GridSearchCV(mlp2, parameter_space, n_jobs=-1, cv=5)\n",
        "clf2.fit(x_train2, y_train2)\n",
        "clf2.score(x_train2, y_train2)"
      ],
      "execution_count": null,
      "outputs": [
        {
          "output_type": "stream",
          "text": [
            "/usr/local/lib/python3.7/dist-packages/sklearn/neural_network/_multilayer_perceptron.py:571: ConvergenceWarning: Stochastic Optimizer: Maximum iterations (200) reached and the optimization hasn't converged yet.\n",
            "  % self.max_iter, ConvergenceWarning)\n"
          ],
          "name": "stderr"
        },
        {
          "output_type": "execute_result",
          "data": {
            "text/plain": [
              "0.6827586206896552"
            ]
          },
          "metadata": {
            "tags": []
          },
          "execution_count": 35
        }
      ]
    },
    {
      "cell_type": "code",
      "metadata": {
        "colab": {
          "base_uri": "https://localhost:8080/"
        },
        "id": "RjIAf7FpLYY9",
        "outputId": "2f93eaea-4fbc-476a-82c5-8a7c92fc0ef2"
      },
      "source": [
        "from sklearn.metrics import accuracy_score\n",
        "\n",
        "predictions_train2 = clf2.predict(x_train2)\n",
        "print(\"accurancy train 3d no-stratify:\", accuracy_score(predictions_train2, y_train2))\n",
        "predictions_test2 = clf2.predict(x_test2)\n",
        "print(\"accurancy test 3d no-stratify:\", accuracy_score(predictions_test2, y_test2))"
      ],
      "execution_count": null,
      "outputs": [
        {
          "output_type": "stream",
          "text": [
            "accurancy train 3d no-stratify: 0.6827586206896552\n",
            "accurancy test 3d no-stratify: 0.6031746031746031\n"
          ],
          "name": "stdout"
        }
      ]
    },
    {
      "cell_type": "code",
      "metadata": {
        "colab": {
          "base_uri": "https://localhost:8080/"
        },
        "id": "-I2lOzxgLdWF",
        "outputId": "b167c1d1-d027-48b2-bf52-b2ceb1238736"
      },
      "source": [
        "# Mejores parametros\n",
        "print('Best parameters found:\\n', clf2.best_params_)\n",
        "\n",
        "# Resultados\n",
        "means2 = clf2.cv_results_['mean_test_score']\n",
        "stds2 = clf2.cv_results_['std_test_score']\n",
        "for mean2, std2, params in zip(means2, stds2, clf2.cv_results_['params']):\n",
        "    print(\"%0.3f (+/-%0.03f) for %r\" % (mean2, std2 * 2, params))"
      ],
      "execution_count": null,
      "outputs": [
        {
          "output_type": "stream",
          "text": [
            "Best parameters found:\n",
            " {'activation': 'tanh', 'alpha': 0.05, 'hidden_layer_sizes': (10,), 'learning_rate': 'constant'}\n",
            "0.628 (+/-0.101) for {'activation': 'tanh', 'alpha': 0.0001, 'hidden_layer_sizes': (50, 50, 50), 'learning_rate': 'constant'}\n",
            "0.628 (+/-0.134) for {'activation': 'tanh', 'alpha': 0.0001, 'hidden_layer_sizes': (50, 50, 50), 'learning_rate': 'adaptive'}\n",
            "0.614 (+/-0.171) for {'activation': 'tanh', 'alpha': 0.0001, 'hidden_layer_sizes': (50, 100, 50), 'learning_rate': 'constant'}\n",
            "0.634 (+/-0.112) for {'activation': 'tanh', 'alpha': 0.0001, 'hidden_layer_sizes': (50, 100, 50), 'learning_rate': 'adaptive'}\n",
            "0.628 (+/-0.211) for {'activation': 'tanh', 'alpha': 0.0001, 'hidden_layer_sizes': (100,), 'learning_rate': 'constant'}\n",
            "0.641 (+/-0.178) for {'activation': 'tanh', 'alpha': 0.0001, 'hidden_layer_sizes': (100,), 'learning_rate': 'adaptive'}\n",
            "0.634 (+/-0.034) for {'activation': 'tanh', 'alpha': 0.0001, 'hidden_layer_sizes': (2, 8, 2), 'learning_rate': 'constant'}\n",
            "0.662 (+/-0.101) for {'activation': 'tanh', 'alpha': 0.0001, 'hidden_layer_sizes': (2, 8, 2), 'learning_rate': 'adaptive'}\n",
            "0.621 (+/-0.115) for {'activation': 'tanh', 'alpha': 0.0001, 'hidden_layer_sizes': (2, 50, 3), 'learning_rate': 'constant'}\n",
            "0.641 (+/-0.207) for {'activation': 'tanh', 'alpha': 0.0001, 'hidden_layer_sizes': (2, 50, 3), 'learning_rate': 'adaptive'}\n",
            "0.669 (+/-0.112) for {'activation': 'tanh', 'alpha': 0.0001, 'hidden_layer_sizes': (10,), 'learning_rate': 'constant'}\n",
            "0.634 (+/-0.120) for {'activation': 'tanh', 'alpha': 0.0001, 'hidden_layer_sizes': (10,), 'learning_rate': 'adaptive'}\n",
            "0.641 (+/-0.198) for {'activation': 'tanh', 'alpha': 0.0001, 'hidden_layer_sizes': (20,), 'learning_rate': 'constant'}\n",
            "0.662 (+/-0.206) for {'activation': 'tanh', 'alpha': 0.0001, 'hidden_layer_sizes': (20,), 'learning_rate': 'adaptive'}\n",
            "0.648 (+/-0.068) for {'activation': 'tanh', 'alpha': 0.05, 'hidden_layer_sizes': (50, 50, 50), 'learning_rate': 'constant'}\n",
            "0.662 (+/-0.080) for {'activation': 'tanh', 'alpha': 0.05, 'hidden_layer_sizes': (50, 50, 50), 'learning_rate': 'adaptive'}\n",
            "0.641 (+/-0.055) for {'activation': 'tanh', 'alpha': 0.05, 'hidden_layer_sizes': (50, 100, 50), 'learning_rate': 'constant'}\n",
            "0.614 (+/-0.134) for {'activation': 'tanh', 'alpha': 0.05, 'hidden_layer_sizes': (50, 100, 50), 'learning_rate': 'adaptive'}\n",
            "0.648 (+/-0.202) for {'activation': 'tanh', 'alpha': 0.05, 'hidden_layer_sizes': (100,), 'learning_rate': 'constant'}\n",
            "0.628 (+/-0.252) for {'activation': 'tanh', 'alpha': 0.05, 'hidden_layer_sizes': (100,), 'learning_rate': 'adaptive'}\n",
            "0.628 (+/-0.119) for {'activation': 'tanh', 'alpha': 0.05, 'hidden_layer_sizes': (2, 8, 2), 'learning_rate': 'constant'}\n",
            "0.572 (+/-0.229) for {'activation': 'tanh', 'alpha': 0.05, 'hidden_layer_sizes': (2, 8, 2), 'learning_rate': 'adaptive'}\n",
            "0.593 (+/-0.119) for {'activation': 'tanh', 'alpha': 0.05, 'hidden_layer_sizes': (2, 50, 3), 'learning_rate': 'constant'}\n",
            "0.621 (+/-0.123) for {'activation': 'tanh', 'alpha': 0.05, 'hidden_layer_sizes': (2, 50, 3), 'learning_rate': 'adaptive'}\n",
            "0.676 (+/-0.135) for {'activation': 'tanh', 'alpha': 0.05, 'hidden_layer_sizes': (10,), 'learning_rate': 'constant'}\n",
            "0.634 (+/-0.167) for {'activation': 'tanh', 'alpha': 0.05, 'hidden_layer_sizes': (10,), 'learning_rate': 'adaptive'}\n",
            "0.655 (+/-0.174) for {'activation': 'tanh', 'alpha': 0.05, 'hidden_layer_sizes': (20,), 'learning_rate': 'constant'}\n",
            "0.641 (+/-0.112) for {'activation': 'tanh', 'alpha': 0.05, 'hidden_layer_sizes': (20,), 'learning_rate': 'adaptive'}\n",
            "0.586 (+/-0.098) for {'activation': 'relu', 'alpha': 0.0001, 'hidden_layer_sizes': (50, 50, 50), 'learning_rate': 'constant'}\n",
            "0.579 (+/-0.134) for {'activation': 'relu', 'alpha': 0.0001, 'hidden_layer_sizes': (50, 50, 50), 'learning_rate': 'adaptive'}\n",
            "0.621 (+/-0.218) for {'activation': 'relu', 'alpha': 0.0001, 'hidden_layer_sizes': (50, 100, 50), 'learning_rate': 'constant'}\n",
            "0.559 (+/-0.240) for {'activation': 'relu', 'alpha': 0.0001, 'hidden_layer_sizes': (50, 100, 50), 'learning_rate': 'adaptive'}\n",
            "0.648 (+/-0.160) for {'activation': 'relu', 'alpha': 0.0001, 'hidden_layer_sizes': (100,), 'learning_rate': 'constant'}\n",
            "0.634 (+/-0.112) for {'activation': 'relu', 'alpha': 0.0001, 'hidden_layer_sizes': (100,), 'learning_rate': 'adaptive'}\n",
            "0.648 (+/-0.080) for {'activation': 'relu', 'alpha': 0.0001, 'hidden_layer_sizes': (2, 8, 2), 'learning_rate': 'constant'}\n",
            "0.607 (+/-0.285) for {'activation': 'relu', 'alpha': 0.0001, 'hidden_layer_sizes': (2, 8, 2), 'learning_rate': 'adaptive'}\n",
            "0.648 (+/-0.052) for {'activation': 'relu', 'alpha': 0.0001, 'hidden_layer_sizes': (2, 50, 3), 'learning_rate': 'constant'}\n",
            "0.552 (+/-0.218) for {'activation': 'relu', 'alpha': 0.0001, 'hidden_layer_sizes': (2, 50, 3), 'learning_rate': 'adaptive'}\n",
            "0.648 (+/-0.154) for {'activation': 'relu', 'alpha': 0.0001, 'hidden_layer_sizes': (10,), 'learning_rate': 'constant'}\n",
            "0.607 (+/-0.183) for {'activation': 'relu', 'alpha': 0.0001, 'hidden_layer_sizes': (10,), 'learning_rate': 'adaptive'}\n",
            "0.676 (+/-0.135) for {'activation': 'relu', 'alpha': 0.0001, 'hidden_layer_sizes': (20,), 'learning_rate': 'constant'}\n",
            "0.614 (+/-0.126) for {'activation': 'relu', 'alpha': 0.0001, 'hidden_layer_sizes': (20,), 'learning_rate': 'adaptive'}\n",
            "0.614 (+/-0.171) for {'activation': 'relu', 'alpha': 0.05, 'hidden_layer_sizes': (50, 50, 50), 'learning_rate': 'constant'}\n",
            "0.614 (+/-0.202) for {'activation': 'relu', 'alpha': 0.05, 'hidden_layer_sizes': (50, 50, 50), 'learning_rate': 'adaptive'}\n",
            "0.586 (+/-0.243) for {'activation': 'relu', 'alpha': 0.05, 'hidden_layer_sizes': (50, 100, 50), 'learning_rate': 'constant'}\n",
            "0.572 (+/-0.149) for {'activation': 'relu', 'alpha': 0.05, 'hidden_layer_sizes': (50, 100, 50), 'learning_rate': 'adaptive'}\n",
            "0.662 (+/-0.119) for {'activation': 'relu', 'alpha': 0.05, 'hidden_layer_sizes': (100,), 'learning_rate': 'constant'}\n",
            "0.634 (+/-0.135) for {'activation': 'relu', 'alpha': 0.05, 'hidden_layer_sizes': (100,), 'learning_rate': 'adaptive'}\n",
            "0.621 (+/-0.076) for {'activation': 'relu', 'alpha': 0.05, 'hidden_layer_sizes': (2, 8, 2), 'learning_rate': 'constant'}\n",
            "0.428 (+/-0.149) for {'activation': 'relu', 'alpha': 0.05, 'hidden_layer_sizes': (2, 8, 2), 'learning_rate': 'adaptive'}\n",
            "0.586 (+/-0.209) for {'activation': 'relu', 'alpha': 0.05, 'hidden_layer_sizes': (2, 50, 3), 'learning_rate': 'constant'}\n",
            "0.628 (+/-0.052) for {'activation': 'relu', 'alpha': 0.05, 'hidden_layer_sizes': (2, 50, 3), 'learning_rate': 'adaptive'}\n",
            "0.628 (+/-0.068) for {'activation': 'relu', 'alpha': 0.05, 'hidden_layer_sizes': (10,), 'learning_rate': 'constant'}\n",
            "0.634 (+/-0.271) for {'activation': 'relu', 'alpha': 0.05, 'hidden_layer_sizes': (10,), 'learning_rate': 'adaptive'}\n",
            "0.621 (+/-0.190) for {'activation': 'relu', 'alpha': 0.05, 'hidden_layer_sizes': (20,), 'learning_rate': 'constant'}\n",
            "0.669 (+/-0.178) for {'activation': 'relu', 'alpha': 0.05, 'hidden_layer_sizes': (20,), 'learning_rate': 'adaptive'}\n",
            "nan (+/-nan) for {'activation': 'sigmoid', 'alpha': 0.0001, 'hidden_layer_sizes': (50, 50, 50), 'learning_rate': 'constant'}\n",
            "nan (+/-nan) for {'activation': 'sigmoid', 'alpha': 0.0001, 'hidden_layer_sizes': (50, 50, 50), 'learning_rate': 'adaptive'}\n",
            "nan (+/-nan) for {'activation': 'sigmoid', 'alpha': 0.0001, 'hidden_layer_sizes': (50, 100, 50), 'learning_rate': 'constant'}\n",
            "nan (+/-nan) for {'activation': 'sigmoid', 'alpha': 0.0001, 'hidden_layer_sizes': (50, 100, 50), 'learning_rate': 'adaptive'}\n",
            "nan (+/-nan) for {'activation': 'sigmoid', 'alpha': 0.0001, 'hidden_layer_sizes': (100,), 'learning_rate': 'constant'}\n",
            "nan (+/-nan) for {'activation': 'sigmoid', 'alpha': 0.0001, 'hidden_layer_sizes': (100,), 'learning_rate': 'adaptive'}\n",
            "nan (+/-nan) for {'activation': 'sigmoid', 'alpha': 0.0001, 'hidden_layer_sizes': (2, 8, 2), 'learning_rate': 'constant'}\n",
            "nan (+/-nan) for {'activation': 'sigmoid', 'alpha': 0.0001, 'hidden_layer_sizes': (2, 8, 2), 'learning_rate': 'adaptive'}\n",
            "nan (+/-nan) for {'activation': 'sigmoid', 'alpha': 0.0001, 'hidden_layer_sizes': (2, 50, 3), 'learning_rate': 'constant'}\n",
            "nan (+/-nan) for {'activation': 'sigmoid', 'alpha': 0.0001, 'hidden_layer_sizes': (2, 50, 3), 'learning_rate': 'adaptive'}\n",
            "nan (+/-nan) for {'activation': 'sigmoid', 'alpha': 0.0001, 'hidden_layer_sizes': (10,), 'learning_rate': 'constant'}\n",
            "nan (+/-nan) for {'activation': 'sigmoid', 'alpha': 0.0001, 'hidden_layer_sizes': (10,), 'learning_rate': 'adaptive'}\n",
            "nan (+/-nan) for {'activation': 'sigmoid', 'alpha': 0.0001, 'hidden_layer_sizes': (20,), 'learning_rate': 'constant'}\n",
            "nan (+/-nan) for {'activation': 'sigmoid', 'alpha': 0.0001, 'hidden_layer_sizes': (20,), 'learning_rate': 'adaptive'}\n",
            "nan (+/-nan) for {'activation': 'sigmoid', 'alpha': 0.05, 'hidden_layer_sizes': (50, 50, 50), 'learning_rate': 'constant'}\n",
            "nan (+/-nan) for {'activation': 'sigmoid', 'alpha': 0.05, 'hidden_layer_sizes': (50, 50, 50), 'learning_rate': 'adaptive'}\n",
            "nan (+/-nan) for {'activation': 'sigmoid', 'alpha': 0.05, 'hidden_layer_sizes': (50, 100, 50), 'learning_rate': 'constant'}\n",
            "nan (+/-nan) for {'activation': 'sigmoid', 'alpha': 0.05, 'hidden_layer_sizes': (50, 100, 50), 'learning_rate': 'adaptive'}\n",
            "nan (+/-nan) for {'activation': 'sigmoid', 'alpha': 0.05, 'hidden_layer_sizes': (100,), 'learning_rate': 'constant'}\n",
            "nan (+/-nan) for {'activation': 'sigmoid', 'alpha': 0.05, 'hidden_layer_sizes': (100,), 'learning_rate': 'adaptive'}\n",
            "nan (+/-nan) for {'activation': 'sigmoid', 'alpha': 0.05, 'hidden_layer_sizes': (2, 8, 2), 'learning_rate': 'constant'}\n",
            "nan (+/-nan) for {'activation': 'sigmoid', 'alpha': 0.05, 'hidden_layer_sizes': (2, 8, 2), 'learning_rate': 'adaptive'}\n",
            "nan (+/-nan) for {'activation': 'sigmoid', 'alpha': 0.05, 'hidden_layer_sizes': (2, 50, 3), 'learning_rate': 'constant'}\n",
            "nan (+/-nan) for {'activation': 'sigmoid', 'alpha': 0.05, 'hidden_layer_sizes': (2, 50, 3), 'learning_rate': 'adaptive'}\n",
            "nan (+/-nan) for {'activation': 'sigmoid', 'alpha': 0.05, 'hidden_layer_sizes': (10,), 'learning_rate': 'constant'}\n",
            "nan (+/-nan) for {'activation': 'sigmoid', 'alpha': 0.05, 'hidden_layer_sizes': (10,), 'learning_rate': 'adaptive'}\n",
            "nan (+/-nan) for {'activation': 'sigmoid', 'alpha': 0.05, 'hidden_layer_sizes': (20,), 'learning_rate': 'constant'}\n",
            "nan (+/-nan) for {'activation': 'sigmoid', 'alpha': 0.05, 'hidden_layer_sizes': (20,), 'learning_rate': 'adaptive'}\n"
          ],
          "name": "stdout"
        }
      ]
    },
    {
      "cell_type": "code",
      "metadata": {
        "colab": {
          "base_uri": "https://localhost:8080/"
        },
        "id": "MOEIRBfjLgv3",
        "outputId": "b7f7a4b0-1748-4b8c-df4b-2698e04c4f22"
      },
      "source": [
        "from sklearn.neural_network import MLPClassifier\n",
        "\n",
        "mlp2b = MLPClassifier(#solver='sgd', \n",
        "                    activation='tanh',\n",
        "                    alpha=0.05,\n",
        "                    hidden_layer_sizes=(10,), \n",
        "                    learning_rate='constant',\n",
        "                    max_iter=200)\n",
        "\n",
        "mlp2b.fit(x_train2, y_train2) \n",
        "mlp2b.score(x_train2, y_train2)"
      ],
      "execution_count": null,
      "outputs": [
        {
          "output_type": "stream",
          "text": [
            "/usr/local/lib/python3.7/dist-packages/sklearn/neural_network/_multilayer_perceptron.py:571: ConvergenceWarning: Stochastic Optimizer: Maximum iterations (200) reached and the optimization hasn't converged yet.\n",
            "  % self.max_iter, ConvergenceWarning)\n"
          ],
          "name": "stderr"
        },
        {
          "output_type": "execute_result",
          "data": {
            "text/plain": [
              "0.6620689655172414"
            ]
          },
          "metadata": {
            "tags": []
          },
          "execution_count": 38
        }
      ]
    },
    {
      "cell_type": "markdown",
      "metadata": {
        "id": "qVUGvXalR4hW"
      },
      "source": [
        "\n",
        "\n",
        "---\n",
        "\n"
      ]
    },
    {
      "cell_type": "markdown",
      "metadata": {
        "id": "g3-wpPnqR5JO"
      },
      "source": [
        "\n",
        "\n",
        "---\n",
        "\n"
      ]
    },
    {
      "cell_type": "code",
      "metadata": {
        "colab": {
          "base_uri": "https://localhost:8080/"
        },
        "id": "2UXluh1pLjYn",
        "outputId": "4c37501a-817c-4517-a882-8934dc367e19"
      },
      "source": [
        "from sklearn.metrics import accuracy_score\n",
        "\n",
        "predictions_train2 = mlp2b.predict(x_train2)\n",
        "print(\"accurancy train:\", accuracy_score(predictions_train2, y_train2))\n",
        "predictions_test2 = mlp2b.predict(x_test2)\n",
        "print(\"accurancy test:\", accuracy_score(predictions_test2, y_test2))"
      ],
      "execution_count": null,
      "outputs": [
        {
          "output_type": "stream",
          "text": [
            "accurancy train: 0.6620689655172414\n",
            "accurancy test: 0.6666666666666666\n"
          ],
          "name": "stdout"
        }
      ]
    },
    {
      "cell_type": "code",
      "metadata": {
        "colab": {
          "base_uri": "https://localhost:8080/",
          "height": 296
        },
        "id": "vjOO5rUsLmfn",
        "outputId": "ca67c653-c685-4a4b-d9b8-9ddfee6cf95e"
      },
      "source": [
        "from sklearn.metrics import confusion_matrix\n",
        "from sklearn.metrics import plot_confusion_matrix\n",
        "\n",
        "confusion_matrix(predictions_train2, y_train2)\n",
        "plot_confusion_matrix(mlp2b, x_train2, y_train2) "
      ],
      "execution_count": null,
      "outputs": [
        {
          "output_type": "execute_result",
          "data": {
            "text/plain": [
              "<sklearn.metrics._plot.confusion_matrix.ConfusionMatrixDisplay at 0x7feaee068b10>"
            ]
          },
          "metadata": {
            "tags": []
          },
          "execution_count": 40
        },
        {
          "output_type": "display_data",
          "data": {
            "image/png": "[encoded data removed]",
            "text/plain": [
              "<Figure size 432x288 with 2 Axes>"
            ]
          },
          "metadata": {
            "tags": [],
            "needs_background": "light"
          }
        }
      ]
    },
    {
      "cell_type": "code",
      "metadata": {
        "colab": {
          "base_uri": "https://localhost:8080/",
          "height": 296
        },
        "id": "LJKDPv-7LpSO",
        "outputId": "5b413bcf-3690-48f3-a4ab-3bc69399e1a1"
      },
      "source": [
        "confusion_matrix(predictions_test2, y_test2)\n",
        "plot_confusion_matrix(mlp2b, x_test2, y_test2)  "
      ],
      "execution_count": null,
      "outputs": [
        {
          "output_type": "execute_result",
          "data": {
            "text/plain": [
              "<sklearn.metrics._plot.confusion_matrix.ConfusionMatrixDisplay at 0x7feaee3b0f10>"
            ]
          },
          "metadata": {
            "tags": []
          },
          "execution_count": 41
        },
        {
          "output_type": "display_data",
          "data": {
            "image/png": "[encoded data removed]",
            "text/plain": [
              "<Figure size 432x288 with 2 Axes>"
            ]
          },
          "metadata": {
            "tags": [],
            "needs_background": "light"
          }
        }
      ]
    },
    {
      "cell_type": "code",
      "metadata": {
        "colab": {
          "base_uri": "https://localhost:8080/"
        },
        "id": "wSS4bxy7LseB",
        "outputId": "989f60e0-5831-4137-c679-fb3b7e28644b"
      },
      "source": [
        "from sklearn.metrics import classification_report\n",
        "\n",
        "print(classification_report(predictions_test2, y_test2))"
      ],
      "execution_count": null,
      "outputs": [
        {
          "output_type": "stream",
          "text": [
            "              precision    recall  f1-score   support\n",
            "\n",
            "           0       0.92      0.67      0.77        54\n",
            "           1       0.25      0.67      0.36         9\n",
            "\n",
            "    accuracy                           0.67        63\n",
            "   macro avg       0.59      0.67      0.57        63\n",
            "weighted avg       0.83      0.67      0.72        63\n",
            "\n"
          ],
          "name": "stdout"
        }
      ]
    },
    {
      "cell_type": "code",
      "metadata": {
        "colab": {
          "base_uri": "https://localhost:8080/"
        },
        "id": "wfb7SyODLurm",
        "outputId": "22f8756c-efc4-4844-af72-e20c4ea4cfac"
      },
      "source": [
        "y_true2, y_pred2 = y_test2 , mlp2b.predict(x_test2)\n",
        "\n",
        "from sklearn.metrics import classification_report\n",
        "print('Results on the test set:')\n",
        "print(classification_report(y_true2, y_pred2))"
      ],
      "execution_count": null,
      "outputs": [
        {
          "output_type": "stream",
          "text": [
            "Results on the test set:\n",
            "              precision    recall  f1-score   support\n",
            "\n",
            "           0       0.67      0.92      0.77        39\n",
            "           1       0.67      0.25      0.36        24\n",
            "\n",
            "    accuracy                           0.67        63\n",
            "   macro avg       0.67      0.59      0.57        63\n",
            "weighted avg       0.67      0.67      0.62        63\n",
            "\n"
          ],
          "name": "stdout"
        }
      ]
    },
    {
      "cell_type": "code",
      "metadata": {
        "id": "NPzL7LT6ID3b"
      },
      "source": [
        "#Parte del entrenamiento\n",
        "predicciones2 = mlp2b.predict(x_test2)\n",
        "clases_reales2 = y_test2\n",
        "predicciones_prob2 = mlp2b.predict_proba(x_test2)"
      ],
      "execution_count": null,
      "outputs": []
    },
    {
      "cell_type": "code",
      "metadata": {
        "id": "690R9Lc_IEkY"
      },
      "source": [
        "def tupla_clase_prediccion(y_real2, y_pred2):\n",
        "  return list(zip(y_real2, y_pred2))\n",
        "#tupla_clase_prediccion(clases_reales2, predicciones2)[:10]"
      ],
      "execution_count": null,
      "outputs": []
    },
    {
      "cell_type": "code",
      "metadata": {
        "id": "fnZBpwZGIJpE",
        "colab": {
          "base_uri": "https://localhost:8080/"
        },
        "outputId": "026cb4a5-0794-43dc-c169-a2e37faa2cc8"
      },
      "source": [
        "def VP(clases_reales2, predicciones2):\n",
        "    par_clase_prediccion2 = tupla_clase_prediccion(clases_reales2, predicciones2)\n",
        "    return len([obs for obs in par_clase_prediccion2 if obs[0]==1 and obs[1]==1])\n",
        "\n",
        "def VN(clases_reales2, predicciones2):\n",
        "    par_clase_prediccion2 = tupla_clase_prediccion(clases_reales2, predicciones2)\n",
        "    return len([obs for obs in par_clase_prediccion2 if obs[0]==0 and obs[1]==0])\n",
        "    \n",
        "def FP(clases_reales2, predicciones2):\n",
        "    par_clase_prediccion2 = tupla_clase_prediccion(clases_reales2, predicciones2)\n",
        "    return len([obs for obs in par_clase_prediccion2 if obs[0]==0 and obs[1]==1])\n",
        "\n",
        "def FN(clases_reales2, predicciones2):\n",
        "    par_clase_prediccion2 = tupla_clase_prediccion(clases_reales2, predicciones2)\n",
        "    return len([obs for obs in par_clase_prediccion2 if obs[0]==1 and obs[1]==0])\n",
        "\n",
        "\n",
        "print(\"\"\"\n",
        "Verdaderos Positivos: {}\n",
        "Verdaderos Negativos: {}\n",
        "Falsos Positivos: {}\n",
        "Falsos Negativos: {}\n",
        "\"\"\".format(VP(clases_reales2, predicciones2), VN(clases_reales2, predicciones2), FP(clases_reales2, predicciones2), FN(clases_reales2, predicciones2)    \n",
        "))"
      ],
      "execution_count": null,
      "outputs": [
        {
          "output_type": "stream",
          "text": [
            "\n",
            "Verdaderos Positivos: 6\n",
            "Verdaderos Negativos: 36\n",
            "Falsos Positivos: 3\n",
            "Falsos Negativos: 18\n",
            "\n"
          ],
          "name": "stdout"
        }
      ]
    },
    {
      "cell_type": "code",
      "metadata": {
        "id": "9DUQxUNGIRVi",
        "colab": {
          "base_uri": "https://localhost:8080/"
        },
        "outputId": "02abe5f4-753c-448f-cc19-3ff410037393"
      },
      "source": [
        "metrics.accuracy_score(clases_reales2, predicciones2)"
      ],
      "execution_count": null,
      "outputs": [
        {
          "output_type": "execute_result",
          "data": {
            "text/plain": [
              "0.6666666666666666"
            ]
          },
          "metadata": {
            "tags": []
          },
          "execution_count": 47
        }
      ]
    },
    {
      "cell_type": "code",
      "metadata": {
        "id": "0d0jFFkaIUGx",
        "colab": {
          "base_uri": "https://localhost:8080/"
        },
        "outputId": "485e4977-6686-4a08-d41f-b51dd963d1aa"
      },
      "source": [
        "metrics.average_precision_score(clases_reales, predicciones)"
      ],
      "execution_count": null,
      "outputs": [
        {
          "output_type": "execute_result",
          "data": {
            "text/plain": [
              "0.40648723257418906"
            ]
          },
          "metadata": {
            "tags": []
          },
          "execution_count": 48
        }
      ]
    },
    {
      "cell_type": "code",
      "metadata": {
        "colab": {
          "base_uri": "https://localhost:8080/"
        },
        "id": "ZiN3tgp8SNNt",
        "outputId": "930464e7-fe1f-4a51-f295-e0eab12e5b69"
      },
      "source": [
        "metrics.recall_score(clases_reales, predicciones)"
      ],
      "execution_count": null,
      "outputs": [
        {
          "output_type": "execute_result",
          "data": {
            "text/plain": [
              "0.21739130434782608"
            ]
          },
          "metadata": {
            "tags": []
          },
          "execution_count": 49
        }
      ]
    }
  ]
}