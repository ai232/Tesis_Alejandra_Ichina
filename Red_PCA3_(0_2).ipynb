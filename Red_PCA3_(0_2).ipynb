{
  "nbformat": 4,
  "nbformat_minor": 0,
  "metadata": {
    "colab": {
      "name": "Red PCA3 (0.2).ipynb",
      "provenance": [],
      "collapsed_sections": []
    },
    "kernelspec": {
      "name": "python3",
      "display_name": "Python 3"
    },
    "language_info": {
      "name": "python"
    }
  },
  "cells": [
    {
      "cell_type": "code",
      "metadata": {
        "id": "_DBbl_AwfAxR"
      },
      "source": [
        "import pandas as pd\n",
        "import numpy as np\n",
        "import matplotlib.pyplot as plt\n",
        "import io"
      ],
      "execution_count": null,
      "outputs": []
    },
    {
      "cell_type": "code",
      "metadata": {
        "colab": {
          "resources": {
            "http://localhost:8080/nbextensions/google.colab/files.js": {
              "data": "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",
              "ok": true,
              "headers": [
                [
                  "content-type",
                  "application/javascript"
                ]
              ],
              "status": 200,
              "status_text": ""
            }
          },
          "base_uri": "https://localhost:8080/",
          "height": 73
        },
        "id": "ePXaQrBsNUPx",
        "outputId": "b6dfbe3a-c252-4bc8-9c01-33018d69d1fe"
      },
      "source": [
        "from google.colab import files\n",
        "uploaded = files.upload()"
      ],
      "execution_count": null,
      "outputs": [
        {
          "output_type": "display_data",
          "data": {
            "text/html": [
              "\n",
              "     <input type=\"file\" id=\"files-7456c8bc-bb62-4d28-9b90-750e0f6d5330\" name=\"files[]\" multiple disabled\n",
              "        style=\"border:none\" />\n",
              "     <output id=\"result-7456c8bc-bb62-4d28-9b90-750e0f6d5330\">\n",
              "      Upload widget is only available when the cell has been executed in the\n",
              "      current browser session. Please rerun this cell to enable.\n",
              "      </output>\n",
              "      <script src=\"/nbextensions/google.colab/files.js\"></script> "
            ],
            "text/plain": [
              "<IPython.core.display.HTML object>"
            ]
          },
          "metadata": {
            "tags": []
          }
        },
        {
          "output_type": "stream",
          "text": [
            "Saving PCA3.csv to PCA3.csv\n"
          ],
          "name": "stdout"
        }
      ]
    },
    {
      "cell_type": "code",
      "metadata": {
        "id": "mdvlHLH6QQfs"
      },
      "source": [
        "finalDf = pd.read_csv(io.StringIO(uploaded['PCA3.csv'].decode('utf-8')), sep=',')"
      ],
      "execution_count": null,
      "outputs": []
    },
    {
      "cell_type": "code",
      "metadata": {
        "id": "FE8i3GjPQmqF",
        "colab": {
          "base_uri": "https://localhost:8080/",
          "height": 203
        },
        "outputId": "8eb3b266-c9a8-4e7d-fdd2-d8696ca88fd8"
      },
      "source": [
        "finalDf.columns = ['Componente Principal 1', 'Componente Principal 2', 'Componente Principal 3', 'Type']\n",
        "finalDf.head()"
      ],
      "execution_count": null,
      "outputs": [
        {
          "output_type": "execute_result",
          "data": {
            "text/html": [
              "<div>\n",
              "<style scoped>\n",
              "    .dataframe tbody tr th:only-of-type {\n",
              "        vertical-align: middle;\n",
              "    }\n",
              "\n",
              "    .dataframe tbody tr th {\n",
              "        vertical-align: top;\n",
              "    }\n",
              "\n",
              "    .dataframe thead th {\n",
              "        text-align: right;\n",
              "    }\n",
              "</style>\n",
              "<table border=\"1\" class=\"dataframe\">\n",
              "  <thead>\n",
              "    <tr style=\"text-align: right;\">\n",
              "      <th></th>\n",
              "      <th>Componente Principal 1</th>\n",
              "      <th>Componente Principal 2</th>\n",
              "      <th>Componente Principal 3</th>\n",
              "      <th>Type</th>\n",
              "    </tr>\n",
              "  </thead>\n",
              "  <tbody>\n",
              "    <tr>\n",
              "      <th>0</th>\n",
              "      <td>-1.888339</td>\n",
              "      <td>0.493757</td>\n",
              "      <td>0.089824</td>\n",
              "      <td>1</td>\n",
              "    </tr>\n",
              "    <tr>\n",
              "      <th>1</th>\n",
              "      <td>-1.770391</td>\n",
              "      <td>0.799496</td>\n",
              "      <td>-0.181840</td>\n",
              "      <td>1</td>\n",
              "    </tr>\n",
              "    <tr>\n",
              "      <th>2</th>\n",
              "      <td>-2.067688</td>\n",
              "      <td>1.058030</td>\n",
              "      <td>-0.132354</td>\n",
              "      <td>1</td>\n",
              "    </tr>\n",
              "    <tr>\n",
              "      <th>3</th>\n",
              "      <td>-2.168182</td>\n",
              "      <td>1.112277</td>\n",
              "      <td>-0.388702</td>\n",
              "      <td>1</td>\n",
              "    </tr>\n",
              "    <tr>\n",
              "      <th>4</th>\n",
              "      <td>-1.898913</td>\n",
              "      <td>0.552587</td>\n",
              "      <td>0.317898</td>\n",
              "      <td>1</td>\n",
              "    </tr>\n",
              "  </tbody>\n",
              "</table>\n",
              "</div>"
            ],
            "text/plain": [
              "   Componente Principal 1  Componente Principal 2  Componente Principal 3  Type\n",
              "0               -1.888339                0.493757                0.089824     1\n",
              "1               -1.770391                0.799496               -0.181840     1\n",
              "2               -2.067688                1.058030               -0.132354     1\n",
              "3               -2.168182                1.112277               -0.388702     1\n",
              "4               -1.898913                0.552587                0.317898     1"
            ]
          },
          "metadata": {
            "tags": []
          },
          "execution_count": 4
        }
      ]
    },
    {
      "cell_type": "code",
      "metadata": {
        "colab": {
          "base_uri": "https://localhost:8080/"
        },
        "id": "Goz5tW-SFPp7",
        "outputId": "91eeee61-487e-44c6-d3cb-ccdc01eaca5f"
      },
      "source": [
        "finalDf[\"Type\"].value_counts(True)"
      ],
      "execution_count": null,
      "outputs": [
        {
          "output_type": "execute_result",
          "data": {
            "text/plain": [
              "0    0.629808\n",
              "1    0.370192\n",
              "Name: Type, dtype: float64"
            ]
          },
          "metadata": {
            "tags": []
          },
          "execution_count": 5
        }
      ]
    },
    {
      "cell_type": "markdown",
      "metadata": {
        "id": "LU1Tt1ASKCxi"
      },
      "source": [
        "\n",
        "\n",
        "---\n",
        "\n"
      ]
    },
    {
      "cell_type": "markdown",
      "metadata": {
        "id": "Sq5ZAor2CVF4"
      },
      "source": [
        "# STRATIFY\n",
        "\n",
        "Uso los datos estratificados para luego diferenciar los resultados en la red"
      ]
    },
    {
      "cell_type": "code",
      "metadata": {
        "colab": {
          "base_uri": "https://localhost:8080/"
        },
        "id": "4FrUuZ3WCFyE",
        "outputId": "df25b8c0-6620-4843-9548-d83136fdbd4e"
      },
      "source": [
        "from sklearn.model_selection import train_test_split\n",
        "\n",
        "x1 = finalDf.drop(['Type'], axis=1)\n",
        "y = finalDf['Type']\n",
        "\n",
        "datasets = train_test_split(x1, y, test_size=0.2, random_state=42, stratify=y)\n",
        "x_train, x_test, y_train, y_test = datasets\n",
        "\n",
        "x_train.shape, x_test.shape, y_train.shape, y_test.shape"
      ],
      "execution_count": null,
      "outputs": [
        {
          "output_type": "execute_result",
          "data": {
            "text/plain": [
              "((166, 3), (42, 3), (166,), (42,))"
            ]
          },
          "metadata": {
            "tags": []
          },
          "execution_count": 6
        }
      ]
    },
    {
      "cell_type": "code",
      "metadata": {
        "colab": {
          "base_uri": "https://localhost:8080/",
          "height": 337
        },
        "id": "bJI9zvkhBxHy",
        "outputId": "7b60a028-8f1c-4364-da18-6b5d817c6b50"
      },
      "source": [
        "fig = plt.figure(figsize=(10,5))\n",
        "plt.subplot(1,2,1)\n",
        "\n",
        "y_train.hist()\n",
        "\n",
        "plt.subplot(1,2,2)\n",
        "\n",
        "y_test.hist()"
      ],
      "execution_count": null,
      "outputs": [
        {
          "output_type": "execute_result",
          "data": {
            "text/plain": [
              "<matplotlib.axes._subplots.AxesSubplot at 0x7f9d452c0590>"
            ]
          },
          "metadata": {
            "tags": []
          },
          "execution_count": 7
        },
        {
          "output_type": "display_data",
          "data": {
            "image/png": "[encoded data removed]",
            "text/plain": [
              "<Figure size 720x360 with 2 Axes>"
            ]
          },
          "metadata": {
            "tags": [],
            "needs_background": "light"
          }
        }
      ]
    },
    {
      "cell_type": "markdown",
      "metadata": {
        "id": "6Bd0N8aoHKtm"
      },
      "source": [
        "Red"
      ]
    },
    {
      "cell_type": "code",
      "metadata": {
        "id": "AIQlnhITGU6k",
        "colab": {
          "base_uri": "https://localhost:8080/"
        },
        "outputId": "27ce7448-76d0-4e0f-f891-3badb997de29"
      },
      "source": [
        "from sklearn.neural_network import MLPClassifier\n",
        "mlp = MLPClassifier(max_iter=200, random_state=42)\n",
        "\n",
        "mlp.fit(x_train,y_train)"
      ],
      "execution_count": null,
      "outputs": [
        {
          "output_type": "stream",
          "text": [
            "/usr/local/lib/python3.7/dist-packages/sklearn/neural_network/_multilayer_perceptron.py:571: ConvergenceWarning: Stochastic Optimizer: Maximum iterations (200) reached and the optimization hasn't converged yet.\n",
            "  % self.max_iter, ConvergenceWarning)\n"
          ],
          "name": "stderr"
        },
        {
          "output_type": "execute_result",
          "data": {
            "text/plain": [
              "MLPClassifier(activation='relu', alpha=0.0001, batch_size='auto', beta_1=0.9,\n",
              "              beta_2=0.999, early_stopping=False, epsilon=1e-08,\n",
              "              hidden_layer_sizes=(100,), learning_rate='constant',\n",
              "              learning_rate_init=0.001, max_fun=15000, max_iter=200,\n",
              "              momentum=0.9, n_iter_no_change=10, nesterovs_momentum=True,\n",
              "              power_t=0.5, random_state=42, shuffle=True, solver='adam',\n",
              "              tol=0.0001, validation_fraction=0.1, verbose=False,\n",
              "              warm_start=False)"
            ]
          },
          "metadata": {
            "tags": []
          },
          "execution_count": 8
        }
      ]
    },
    {
      "cell_type": "code",
      "metadata": {
        "colab": {
          "base_uri": "https://localhost:8080/"
        },
        "id": "t0Hx5IR28iMG",
        "outputId": "23daff21-f080-4105-f0cb-267cf68b4eda"
      },
      "source": [
        "print(\"Train Accuracy: \", mlp.score(x_train,y_train))\n",
        "print(\"Test Accuracy: \", mlp.score(x_test,y_test))"
      ],
      "execution_count": null,
      "outputs": [
        {
          "output_type": "stream",
          "text": [
            "Train Accuracy:  0.7228915662650602\n",
            "Test Accuracy:  0.5952380952380952\n"
          ],
          "name": "stdout"
        }
      ]
    },
    {
      "cell_type": "code",
      "metadata": {
        "colab": {
          "base_uri": "https://localhost:8080/"
        },
        "id": "ye3uz9vq8p-c",
        "outputId": "2ce11f3d-93af-4648-8b3f-1a1e782a93e5"
      },
      "source": [
        "print(\"Number of Iterations: \", mlp.n_iter_)\n",
        "print(\"Output Layer Activation Function :\", mlp.out_activation_)"
      ],
      "execution_count": null,
      "outputs": [
        {
          "output_type": "stream",
          "text": [
            "Number of Iterations:  200\n",
            "Output Layer Activation Function : logistic\n"
          ],
          "name": "stdout"
        }
      ]
    },
    {
      "cell_type": "markdown",
      "metadata": {
        "id": "vuAMQUiV-L2h"
      },
      "source": [
        "\n",
        "\n",
        "---\n",
        "\n"
      ]
    },
    {
      "cell_type": "code",
      "metadata": {
        "id": "QpzeXTXeAc3m"
      },
      "source": [
        "#Parte del entrenamiento\n",
        "predicciones = mlp.predict(x_test)\n",
        "clases_reales = y_test\n",
        "predicciones_prob = mlp.predict_proba(x_test)"
      ],
      "execution_count": null,
      "outputs": []
    },
    {
      "cell_type": "code",
      "metadata": {
        "id": "L2ISNBNY-LQI"
      },
      "source": [
        "def tupla_clase_prediccion(y_real, y_pred):\n",
        "  return list(zip(y_real, y_pred))\n",
        "#tupla_clase_prediccion(clases_reales, predicciones)[:10]"
      ],
      "execution_count": null,
      "outputs": []
    },
    {
      "cell_type": "markdown",
      "metadata": {
        "id": "Vy5X4Tz3-RWm"
      },
      "source": [
        "**Detallamos:**\n",
        "\n",
        "- **Verdaderos positivos:** Tiene graso y la compu nos dice\n",
        "\n",
        "- **Falsos positivos:** Digo que es graso pero me equivoque, en realidad no tiene (falsa alarma)\n",
        "\n",
        "- **Verdaderos negativos:** No tiene graso y la compu nos dice lo mismo\n",
        "\n",
        "- **Falsos negativos:** Los hígados grasos que se clasifican como normales"
      ]
    },
    {
      "cell_type": "code",
      "metadata": {
        "colab": {
          "base_uri": "https://localhost:8080/"
        },
        "id": "bDdqGvWX-SGk",
        "outputId": "2744ead9-1035-4718-eede-ead1e450f459"
      },
      "source": [
        "def VP(clases_reales, predicciones):\n",
        "    par_clase_prediccion = tupla_clase_prediccion(clases_reales, predicciones)\n",
        "    return len([obs for obs in par_clase_prediccion if obs[0]==1 and obs[1]==1])\n",
        "\n",
        "def VN(clases_reales, predicciones):\n",
        "    par_clase_prediccion = tupla_clase_prediccion(clases_reales, predicciones)\n",
        "    return len([obs for obs in par_clase_prediccion if obs[0]==0 and obs[1]==0])\n",
        "    \n",
        "def FP(clases_reales, predicciones):\n",
        "    par_clase_prediccion = tupla_clase_prediccion(clases_reales, predicciones)\n",
        "    return len([obs for obs in par_clase_prediccion if obs[0]==0 and obs[1]==1])\n",
        "\n",
        "def FN(clases_reales, predicciones):\n",
        "    par_clase_prediccion = tupla_clase_prediccion(clases_reales, predicciones)\n",
        "    return len([obs for obs in par_clase_prediccion if obs[0]==1 and obs[1]==0])\n",
        "\n",
        "print(\"\"\"\n",
        "Verdaderos Positivos: {}\n",
        "Verdaderos Negativos: {}\n",
        "Falsos Positivos: {}\n",
        "Falsos Negativos: {}\n",
        "\"\"\".format(VP(clases_reales, predicciones), VN(clases_reales, predicciones), FP(clases_reales, predicciones), FN(clases_reales, predicciones)    \n",
        "))"
      ],
      "execution_count": null,
      "outputs": [
        {
          "output_type": "stream",
          "text": [
            "\n",
            "Verdaderos Positivos: 2\n",
            "Verdaderos Negativos: 23\n",
            "Falsos Positivos: 3\n",
            "Falsos Negativos: 14\n",
            "\n"
          ],
          "name": "stdout"
        }
      ]
    },
    {
      "cell_type": "markdown",
      "metadata": {
        "id": "roTTQbAW-M4z"
      },
      "source": [
        "\n",
        "\n",
        "---\n",
        "\n"
      ]
    },
    {
      "cell_type": "markdown",
      "metadata": {
        "id": "tmf47G5XE0Xe"
      },
      "source": [
        "Utilizamos Hiperparámetros para mejorar la red"
      ]
    },
    {
      "cell_type": "code",
      "metadata": {
        "id": "94BOsbIZ8Ww2"
      },
      "source": [
        "mlp_gs = MLPClassifier(max_iter=200, random_state=42)\n",
        "\n",
        "parameter_space = {\n",
        "    'hidden_layer_sizes': [(50,50,50), (50,100,50), (100,), (2,8,2), (2,50,3), (10,), (20,)],\n",
        "    'activation': ['tanh', 'relu', 'sigmoid'],\n",
        "    #'solver': ['lbfgs', 'sgd', 'adam'],\n",
        "    'alpha': [0.0001, 0.05],\n",
        "    'learning_rate': ['constant','adaptive'],\n",
        "}"
      ],
      "execution_count": null,
      "outputs": []
    },
    {
      "cell_type": "code",
      "metadata": {
        "id": "zUbcKmGqGWgG"
      },
      "source": [
        "from sklearn.model_selection import GridSearchCV\n",
        "\n",
        "clf = GridSearchCV(mlp_gs, parameter_space, n_jobs=-1, cv=5)\n",
        "#Parte del entrenamiento\n",
        "clf.fit(x_train, y_train)\n",
        "predicciones = clf.predict(x_test)\n",
        "clases_reales = y_test\n",
        "predicciones_prob = clf.predict_proba(x_test)"
      ],
      "execution_count": null,
      "outputs": []
    },
    {
      "cell_type": "code",
      "metadata": {
        "colab": {
          "base_uri": "https://localhost:8080/"
        },
        "id": "ZziKGooG8ILn",
        "outputId": "09455bed-6895-4018-92c4-d83f213126e1"
      },
      "source": [
        "from sklearn.metrics import accuracy_score\n",
        "\n",
        "predictions_train = clf.predict(x_train)\n",
        "print(\"accurancy train:\", accuracy_score(predictions_train, y_train))\n",
        "predictions_test = clf.predict(x_test)\n",
        "print(\"accurancy test:\", accuracy_score(predictions_test, y_test))"
      ],
      "execution_count": null,
      "outputs": [
        {
          "output_type": "stream",
          "text": [
            "accurancy train: 0.7168674698795181\n",
            "accurancy test: 0.6190476190476191\n"
          ],
          "name": "stdout"
        }
      ]
    },
    {
      "cell_type": "code",
      "metadata": {
        "colab": {
          "base_uri": "https://localhost:8080/"
        },
        "id": "0idg5ZvP-dpQ",
        "outputId": "9786c833-6cb9-4590-fb06-a6e936a76521"
      },
      "source": [
        "# Mejores parametros\n",
        "print('Best parameters found:\\n', clf.best_params_)\n",
        "\n",
        "# Resultados\n",
        "means = clf.cv_results_['mean_test_score']\n",
        "stds = clf.cv_results_['std_test_score']\n",
        "for mean, std, params in zip(means, stds, clf.cv_results_['params']):\n",
        "    print(\"%0.3f (+/-%0.03f) for %r\" % (mean, std * 2, params))"
      ],
      "execution_count": null,
      "outputs": [
        {
          "output_type": "stream",
          "text": [
            "Best parameters found:\n",
            " {'activation': 'relu', 'alpha': 0.0001, 'hidden_layer_sizes': (20,), 'learning_rate': 'constant'}\n",
            "0.620 (+/-0.137) for {'activation': 'tanh', 'alpha': 0.0001, 'hidden_layer_sizes': (50, 50, 50), 'learning_rate': 'constant'}\n",
            "0.620 (+/-0.137) for {'activation': 'tanh', 'alpha': 0.0001, 'hidden_layer_sizes': (50, 50, 50), 'learning_rate': 'adaptive'}\n",
            "0.596 (+/-0.172) for {'activation': 'tanh', 'alpha': 0.0001, 'hidden_layer_sizes': (50, 100, 50), 'learning_rate': 'constant'}\n",
            "0.596 (+/-0.172) for {'activation': 'tanh', 'alpha': 0.0001, 'hidden_layer_sizes': (50, 100, 50), 'learning_rate': 'adaptive'}\n",
            "0.632 (+/-0.061) for {'activation': 'tanh', 'alpha': 0.0001, 'hidden_layer_sizes': (100,), 'learning_rate': 'constant'}\n",
            "0.632 (+/-0.061) for {'activation': 'tanh', 'alpha': 0.0001, 'hidden_layer_sizes': (100,), 'learning_rate': 'adaptive'}\n",
            "0.644 (+/-0.074) for {'activation': 'tanh', 'alpha': 0.0001, 'hidden_layer_sizes': (2, 8, 2), 'learning_rate': 'constant'}\n",
            "0.644 (+/-0.074) for {'activation': 'tanh', 'alpha': 0.0001, 'hidden_layer_sizes': (2, 8, 2), 'learning_rate': 'adaptive'}\n",
            "0.639 (+/-0.050) for {'activation': 'tanh', 'alpha': 0.0001, 'hidden_layer_sizes': (2, 50, 3), 'learning_rate': 'constant'}\n",
            "0.639 (+/-0.050) for {'activation': 'tanh', 'alpha': 0.0001, 'hidden_layer_sizes': (2, 50, 3), 'learning_rate': 'adaptive'}\n",
            "0.572 (+/-0.146) for {'activation': 'tanh', 'alpha': 0.0001, 'hidden_layer_sizes': (10,), 'learning_rate': 'constant'}\n",
            "0.572 (+/-0.146) for {'activation': 'tanh', 'alpha': 0.0001, 'hidden_layer_sizes': (10,), 'learning_rate': 'adaptive'}\n",
            "0.638 (+/-0.104) for {'activation': 'tanh', 'alpha': 0.0001, 'hidden_layer_sizes': (20,), 'learning_rate': 'constant'}\n",
            "0.638 (+/-0.104) for {'activation': 'tanh', 'alpha': 0.0001, 'hidden_layer_sizes': (20,), 'learning_rate': 'adaptive'}\n",
            "0.620 (+/-0.137) for {'activation': 'tanh', 'alpha': 0.05, 'hidden_layer_sizes': (50, 50, 50), 'learning_rate': 'constant'}\n",
            "0.620 (+/-0.137) for {'activation': 'tanh', 'alpha': 0.05, 'hidden_layer_sizes': (50, 50, 50), 'learning_rate': 'adaptive'}\n",
            "0.608 (+/-0.157) for {'activation': 'tanh', 'alpha': 0.05, 'hidden_layer_sizes': (50, 100, 50), 'learning_rate': 'constant'}\n",
            "0.608 (+/-0.157) for {'activation': 'tanh', 'alpha': 0.05, 'hidden_layer_sizes': (50, 100, 50), 'learning_rate': 'adaptive'}\n",
            "0.632 (+/-0.061) for {'activation': 'tanh', 'alpha': 0.05, 'hidden_layer_sizes': (100,), 'learning_rate': 'constant'}\n",
            "0.632 (+/-0.061) for {'activation': 'tanh', 'alpha': 0.05, 'hidden_layer_sizes': (100,), 'learning_rate': 'adaptive'}\n",
            "0.644 (+/-0.074) for {'activation': 'tanh', 'alpha': 0.05, 'hidden_layer_sizes': (2, 8, 2), 'learning_rate': 'constant'}\n",
            "0.644 (+/-0.074) for {'activation': 'tanh', 'alpha': 0.05, 'hidden_layer_sizes': (2, 8, 2), 'learning_rate': 'adaptive'}\n",
            "0.639 (+/-0.050) for {'activation': 'tanh', 'alpha': 0.05, 'hidden_layer_sizes': (2, 50, 3), 'learning_rate': 'constant'}\n",
            "0.639 (+/-0.050) for {'activation': 'tanh', 'alpha': 0.05, 'hidden_layer_sizes': (2, 50, 3), 'learning_rate': 'adaptive'}\n",
            "0.572 (+/-0.146) for {'activation': 'tanh', 'alpha': 0.05, 'hidden_layer_sizes': (10,), 'learning_rate': 'constant'}\n",
            "0.572 (+/-0.146) for {'activation': 'tanh', 'alpha': 0.05, 'hidden_layer_sizes': (10,), 'learning_rate': 'adaptive'}\n",
            "0.638 (+/-0.104) for {'activation': 'tanh', 'alpha': 0.05, 'hidden_layer_sizes': (20,), 'learning_rate': 'constant'}\n",
            "0.638 (+/-0.104) for {'activation': 'tanh', 'alpha': 0.05, 'hidden_layer_sizes': (20,), 'learning_rate': 'adaptive'}\n",
            "0.602 (+/-0.184) for {'activation': 'relu', 'alpha': 0.0001, 'hidden_layer_sizes': (50, 50, 50), 'learning_rate': 'constant'}\n",
            "0.602 (+/-0.184) for {'activation': 'relu', 'alpha': 0.0001, 'hidden_layer_sizes': (50, 50, 50), 'learning_rate': 'adaptive'}\n",
            "0.608 (+/-0.129) for {'activation': 'relu', 'alpha': 0.0001, 'hidden_layer_sizes': (50, 100, 50), 'learning_rate': 'constant'}\n",
            "0.608 (+/-0.129) for {'activation': 'relu', 'alpha': 0.0001, 'hidden_layer_sizes': (50, 100, 50), 'learning_rate': 'adaptive'}\n",
            "0.663 (+/-0.090) for {'activation': 'relu', 'alpha': 0.0001, 'hidden_layer_sizes': (100,), 'learning_rate': 'constant'}\n",
            "0.663 (+/-0.090) for {'activation': 'relu', 'alpha': 0.0001, 'hidden_layer_sizes': (100,), 'learning_rate': 'adaptive'}\n",
            "0.367 (+/-0.015) for {'activation': 'relu', 'alpha': 0.0001, 'hidden_layer_sizes': (2, 8, 2), 'learning_rate': 'constant'}\n",
            "0.367 (+/-0.015) for {'activation': 'relu', 'alpha': 0.0001, 'hidden_layer_sizes': (2, 8, 2), 'learning_rate': 'adaptive'}\n",
            "0.657 (+/-0.092) for {'activation': 'relu', 'alpha': 0.0001, 'hidden_layer_sizes': (2, 50, 3), 'learning_rate': 'constant'}\n",
            "0.657 (+/-0.092) for {'activation': 'relu', 'alpha': 0.0001, 'hidden_layer_sizes': (2, 50, 3), 'learning_rate': 'adaptive'}\n",
            "0.590 (+/-0.116) for {'activation': 'relu', 'alpha': 0.0001, 'hidden_layer_sizes': (10,), 'learning_rate': 'constant'}\n",
            "0.590 (+/-0.116) for {'activation': 'relu', 'alpha': 0.0001, 'hidden_layer_sizes': (10,), 'learning_rate': 'adaptive'}\n",
            "0.663 (+/-0.068) for {'activation': 'relu', 'alpha': 0.0001, 'hidden_layer_sizes': (20,), 'learning_rate': 'constant'}\n",
            "0.663 (+/-0.068) for {'activation': 'relu', 'alpha': 0.0001, 'hidden_layer_sizes': (20,), 'learning_rate': 'adaptive'}\n",
            "0.626 (+/-0.184) for {'activation': 'relu', 'alpha': 0.05, 'hidden_layer_sizes': (50, 50, 50), 'learning_rate': 'constant'}\n",
            "0.626 (+/-0.184) for {'activation': 'relu', 'alpha': 0.05, 'hidden_layer_sizes': (50, 50, 50), 'learning_rate': 'adaptive'}\n",
            "0.608 (+/-0.155) for {'activation': 'relu', 'alpha': 0.05, 'hidden_layer_sizes': (50, 100, 50), 'learning_rate': 'constant'}\n",
            "0.608 (+/-0.155) for {'activation': 'relu', 'alpha': 0.05, 'hidden_layer_sizes': (50, 100, 50), 'learning_rate': 'adaptive'}\n",
            "0.651 (+/-0.081) for {'activation': 'relu', 'alpha': 0.05, 'hidden_layer_sizes': (100,), 'learning_rate': 'constant'}\n",
            "0.651 (+/-0.081) for {'activation': 'relu', 'alpha': 0.05, 'hidden_layer_sizes': (100,), 'learning_rate': 'adaptive'}\n",
            "0.367 (+/-0.015) for {'activation': 'relu', 'alpha': 0.05, 'hidden_layer_sizes': (2, 8, 2), 'learning_rate': 'constant'}\n",
            "0.367 (+/-0.015) for {'activation': 'relu', 'alpha': 0.05, 'hidden_layer_sizes': (2, 8, 2), 'learning_rate': 'adaptive'}\n",
            "0.657 (+/-0.092) for {'activation': 'relu', 'alpha': 0.05, 'hidden_layer_sizes': (2, 50, 3), 'learning_rate': 'constant'}\n",
            "0.657 (+/-0.092) for {'activation': 'relu', 'alpha': 0.05, 'hidden_layer_sizes': (2, 50, 3), 'learning_rate': 'adaptive'}\n",
            "0.590 (+/-0.116) for {'activation': 'relu', 'alpha': 0.05, 'hidden_layer_sizes': (10,), 'learning_rate': 'constant'}\n",
            "0.590 (+/-0.116) for {'activation': 'relu', 'alpha': 0.05, 'hidden_layer_sizes': (10,), 'learning_rate': 'adaptive'}\n",
            "0.663 (+/-0.068) for {'activation': 'relu', 'alpha': 0.05, 'hidden_layer_sizes': (20,), 'learning_rate': 'constant'}\n",
            "0.663 (+/-0.068) for {'activation': 'relu', 'alpha': 0.05, 'hidden_layer_sizes': (20,), 'learning_rate': 'adaptive'}\n",
            "nan (+/-nan) for {'activation': 'sigmoid', 'alpha': 0.0001, 'hidden_layer_sizes': (50, 50, 50), 'learning_rate': 'constant'}\n",
            "nan (+/-nan) for {'activation': 'sigmoid', 'alpha': 0.0001, 'hidden_layer_sizes': (50, 50, 50), 'learning_rate': 'adaptive'}\n",
            "nan (+/-nan) for {'activation': 'sigmoid', 'alpha': 0.0001, 'hidden_layer_sizes': (50, 100, 50), 'learning_rate': 'constant'}\n",
            "nan (+/-nan) for {'activation': 'sigmoid', 'alpha': 0.0001, 'hidden_layer_sizes': (50, 100, 50), 'learning_rate': 'adaptive'}\n",
            "nan (+/-nan) for {'activation': 'sigmoid', 'alpha': 0.0001, 'hidden_layer_sizes': (100,), 'learning_rate': 'constant'}\n",
            "nan (+/-nan) for {'activation': 'sigmoid', 'alpha': 0.0001, 'hidden_layer_sizes': (100,), 'learning_rate': 'adaptive'}\n",
            "nan (+/-nan) for {'activation': 'sigmoid', 'alpha': 0.0001, 'hidden_layer_sizes': (2, 8, 2), 'learning_rate': 'constant'}\n",
            "nan (+/-nan) for {'activation': 'sigmoid', 'alpha': 0.0001, 'hidden_layer_sizes': (2, 8, 2), 'learning_rate': 'adaptive'}\n",
            "nan (+/-nan) for {'activation': 'sigmoid', 'alpha': 0.0001, 'hidden_layer_sizes': (2, 50, 3), 'learning_rate': 'constant'}\n",
            "nan (+/-nan) for {'activation': 'sigmoid', 'alpha': 0.0001, 'hidden_layer_sizes': (2, 50, 3), 'learning_rate': 'adaptive'}\n",
            "nan (+/-nan) for {'activation': 'sigmoid', 'alpha': 0.0001, 'hidden_layer_sizes': (10,), 'learning_rate': 'constant'}\n",
            "nan (+/-nan) for {'activation': 'sigmoid', 'alpha': 0.0001, 'hidden_layer_sizes': (10,), 'learning_rate': 'adaptive'}\n",
            "nan (+/-nan) for {'activation': 'sigmoid', 'alpha': 0.0001, 'hidden_layer_sizes': (20,), 'learning_rate': 'constant'}\n",
            "nan (+/-nan) for {'activation': 'sigmoid', 'alpha': 0.0001, 'hidden_layer_sizes': (20,), 'learning_rate': 'adaptive'}\n",
            "nan (+/-nan) for {'activation': 'sigmoid', 'alpha': 0.05, 'hidden_layer_sizes': (50, 50, 50), 'learning_rate': 'constant'}\n",
            "nan (+/-nan) for {'activation': 'sigmoid', 'alpha': 0.05, 'hidden_layer_sizes': (50, 50, 50), 'learning_rate': 'adaptive'}\n",
            "nan (+/-nan) for {'activation': 'sigmoid', 'alpha': 0.05, 'hidden_layer_sizes': (50, 100, 50), 'learning_rate': 'constant'}\n",
            "nan (+/-nan) for {'activation': 'sigmoid', 'alpha': 0.05, 'hidden_layer_sizes': (50, 100, 50), 'learning_rate': 'adaptive'}\n",
            "nan (+/-nan) for {'activation': 'sigmoid', 'alpha': 0.05, 'hidden_layer_sizes': (100,), 'learning_rate': 'constant'}\n",
            "nan (+/-nan) for {'activation': 'sigmoid', 'alpha': 0.05, 'hidden_layer_sizes': (100,), 'learning_rate': 'adaptive'}\n",
            "nan (+/-nan) for {'activation': 'sigmoid', 'alpha': 0.05, 'hidden_layer_sizes': (2, 8, 2), 'learning_rate': 'constant'}\n",
            "nan (+/-nan) for {'activation': 'sigmoid', 'alpha': 0.05, 'hidden_layer_sizes': (2, 8, 2), 'learning_rate': 'adaptive'}\n",
            "nan (+/-nan) for {'activation': 'sigmoid', 'alpha': 0.05, 'hidden_layer_sizes': (2, 50, 3), 'learning_rate': 'constant'}\n",
            "nan (+/-nan) for {'activation': 'sigmoid', 'alpha': 0.05, 'hidden_layer_sizes': (2, 50, 3), 'learning_rate': 'adaptive'}\n",
            "nan (+/-nan) for {'activation': 'sigmoid', 'alpha': 0.05, 'hidden_layer_sizes': (10,), 'learning_rate': 'constant'}\n",
            "nan (+/-nan) for {'activation': 'sigmoid', 'alpha': 0.05, 'hidden_layer_sizes': (10,), 'learning_rate': 'adaptive'}\n",
            "nan (+/-nan) for {'activation': 'sigmoid', 'alpha': 0.05, 'hidden_layer_sizes': (20,), 'learning_rate': 'constant'}\n",
            "nan (+/-nan) for {'activation': 'sigmoid', 'alpha': 0.05, 'hidden_layer_sizes': (20,), 'learning_rate': 'adaptive'}\n"
          ],
          "name": "stdout"
        }
      ]
    },
    {
      "cell_type": "code",
      "metadata": {
        "colab": {
          "base_uri": "https://localhost:8080/"
        },
        "id": "1zcJWjc5-4gm",
        "outputId": "3c5401f3-3b77-4f66-8f90-522e34d28674"
      },
      "source": [
        "from sklearn.neural_network import MLPClassifier\n",
        "\n",
        "mlpb = MLPClassifier(#solver='adam', \n",
        "                    activation='relu',\n",
        "                    alpha=1e-4,\n",
        "                    hidden_layer_sizes=(20,), \n",
        "                    learning_rate='constant',\n",
        "                    max_iter=200)\n",
        "\n",
        "mlpb.fit(x_train, y_train) \n",
        "mlpb.score(x_train, y_train)"
      ],
      "execution_count": null,
      "outputs": [
        {
          "output_type": "stream",
          "text": [
            "/usr/local/lib/python3.7/dist-packages/sklearn/neural_network/_multilayer_perceptron.py:571: ConvergenceWarning: Stochastic Optimizer: Maximum iterations (200) reached and the optimization hasn't converged yet.\n",
            "  % self.max_iter, ConvergenceWarning)\n"
          ],
          "name": "stderr"
        },
        {
          "output_type": "execute_result",
          "data": {
            "text/plain": [
              "0.6867469879518072"
            ]
          },
          "metadata": {
            "tags": []
          },
          "execution_count": 29
        }
      ]
    },
    {
      "cell_type": "code",
      "metadata": {
        "colab": {
          "base_uri": "https://localhost:8080/"
        },
        "id": "VBrCFebU_HVQ",
        "outputId": "e0aa9eb4-2f49-4a06-8140-598296cb1bcf"
      },
      "source": [
        "from sklearn.metrics import accuracy_score\n",
        "\n",
        "predictions_train = mlpb.predict(x_train)\n",
        "print(\"accurancy train:\", accuracy_score(predictions_train, y_train))\n",
        "predictions_test = mlpb.predict(x_test)\n",
        "print(\"accurancy test:\", accuracy_score(predictions_test, y_test))"
      ],
      "execution_count": null,
      "outputs": [
        {
          "output_type": "stream",
          "text": [
            "accurancy train: 0.6867469879518072\n",
            "accurancy test: 0.6190476190476191\n"
          ],
          "name": "stdout"
        }
      ]
    },
    {
      "cell_type": "code",
      "metadata": {
        "colab": {
          "base_uri": "https://localhost:8080/"
        },
        "id": "5X7oEv1yADcN",
        "outputId": "65cf5a90-68a3-4304-b1f3-08013896276b"
      },
      "source": [
        "print(\"Number of Iterations: \", mlp.n_iter_)\n",
        "print(\"Output Layer Activation Function :\", mlp.out_activation_)"
      ],
      "execution_count": null,
      "outputs": [
        {
          "output_type": "stream",
          "text": [
            "Number of Iterations:  200\n",
            "Output Layer Activation Function : logistic\n"
          ],
          "name": "stdout"
        }
      ]
    },
    {
      "cell_type": "code",
      "metadata": {
        "colab": {
          "base_uri": "https://localhost:8080/",
          "height": 265
        },
        "id": "zhsV-wzz_Lo3",
        "outputId": "88b4dbe6-dfd3-4c80-a3b6-9ea7cd25827e"
      },
      "source": [
        "from sklearn.metrics import confusion_matrix\n",
        "from sklearn.metrics import plot_confusion_matrix\n",
        "import seaborn as sn\n",
        "\n",
        "cf_matrix = confusion_matrix(predictions_train, y_train)\n",
        "#plot_confusion_matrix(mlpb, x_train, y_train)\n",
        "group_names = ['Verdaderos Negativos','Falsos Negativos','Falsos Positivos','Verdaderos Positivos']\n",
        "\n",
        "group_counts = [\"{0:0.0f}\".format(value) for value in\n",
        "                cf_matrix.flatten()]\n",
        "group_percentages = [\"{0:.2%}\".format(value) for value in\n",
        "                     cf_matrix.flatten()/np.sum(cf_matrix)]\n",
        "labels = [f\"{v1}\\n{v2}\\n{v3}\" for v1, v2, v3 in\n",
        "          zip(group_names, group_counts, group_percentages)]\n",
        "labels = np.asarray(labels).reshape(2,2)\n",
        "sn.heatmap(cf_matrix, annot=labels, fmt='', cmap='Blues')\n",
        "plt.savefig('PCA3prediccion_train(0.2).svg', format='svg', dpi=30)"
      ],
      "execution_count": null,
      "outputs": [
        {
          "output_type": "display_data",
          "data": {
            "image/png": "[encoded data removed]",
            "text/plain": [
              "<Figure size 432x288 with 2 Axes>"
            ]
          },
          "metadata": {
            "tags": [],
            "needs_background": "light"
          }
        }
      ]
    },
    {
      "cell_type": "code",
      "metadata": {
        "colab": {
          "base_uri": "https://localhost:8080/",
          "height": 265
        },
        "id": "U6Y8ci0I_P0k",
        "outputId": "2a28709e-a4f4-464c-b83a-e289e75205a1"
      },
      "source": [
        "cf_matrix2 = confusion_matrix(predictions_test, y_test)\n",
        "#plot_confusion_matrix(mlpb, x_test, y_test)  \n",
        "group_names = ['Verdaderos Negativos','Falsos Negativos', 'Falsos Positivos','Verdaderos Positivos']\n",
        "\n",
        "group_counts = [\"{0:0.0f}\".format(value) for value in\n",
        "                cf_matrix2.flatten()]\n",
        "group_percentages = [\"{0:.2%}\".format(value) for value in\n",
        "                     cf_matrix2.flatten()/np.sum(cf_matrix2)]\n",
        "labels = [f\"{v1}\\n{v2}\\n{v3}\" for v1, v2, v3 in\n",
        "          zip(group_names, group_counts, group_percentages)]\n",
        "labels = np.asarray(labels).reshape(2,2)\n",
        "sn.heatmap(cf_matrix2, annot=labels, fmt='', cmap='Reds')\n",
        "plt.savefig('PCA3prediccion_test(0.2).svg', format='svg', dpi=30)"
      ],
      "execution_count": null,
      "outputs": [
        {
          "output_type": "display_data",
          "data": {
            "image/png": "[encoded data removed]",
            "text/plain": [
              "<Figure size 432x288 with 2 Axes>"
            ]
          },
          "metadata": {
            "tags": [],
            "needs_background": "light"
          }
        }
      ]
    },
    {
      "cell_type": "code",
      "metadata": {
        "colab": {
          "base_uri": "https://localhost:8080/"
        },
        "id": "lCI7faI0_T7I",
        "outputId": "977067dc-6918-4cab-afdb-09847d765213"
      },
      "source": [
        "from sklearn.metrics import classification_report\n",
        "\n",
        "print(classification_report(predictions_train, y_train))"
      ],
      "execution_count": null,
      "outputs": [
        {
          "output_type": "stream",
          "text": [
            "              precision    recall  f1-score   support\n",
            "\n",
            "           0       0.92      0.69      0.79       141\n",
            "           1       0.28      0.68      0.40        25\n",
            "\n",
            "    accuracy                           0.69       166\n",
            "   macro avg       0.60      0.68      0.59       166\n",
            "weighted avg       0.83      0.69      0.73       166\n",
            "\n"
          ],
          "name": "stdout"
        }
      ]
    },
    {
      "cell_type": "code",
      "metadata": {
        "colab": {
          "base_uri": "https://localhost:8080/"
        },
        "id": "vnLG8U2bvR6G",
        "outputId": "c9428c42-c817-452b-a79e-f6037b5ad232"
      },
      "source": [
        "print(classification_report(predictions_test, y_test))"
      ],
      "execution_count": null,
      "outputs": [
        {
          "output_type": "stream",
          "text": [
            "              precision    recall  f1-score   support\n",
            "\n",
            "           0       0.88      0.64      0.74        36\n",
            "           1       0.19      0.50      0.27         6\n",
            "\n",
            "    accuracy                           0.62        42\n",
            "   macro avg       0.54      0.57      0.51        42\n",
            "weighted avg       0.79      0.62      0.67        42\n",
            "\n"
          ],
          "name": "stdout"
        }
      ]
    },
    {
      "cell_type": "code",
      "metadata": {
        "colab": {
          "base_uri": "https://localhost:8080/"
        },
        "id": "VACiEUB3_Xtb",
        "outputId": "79929525-dd38-47ae-bdbe-6730e3158f3a"
      },
      "source": [
        "y_true, y_pred = y_test, mlpb.predict(x_test)\n",
        "\n",
        "from sklearn.metrics import classification_report\n",
        "print('Results on the test set:')\n",
        "print(classification_report(y_true, y_pred))"
      ],
      "execution_count": null,
      "outputs": [
        {
          "output_type": "stream",
          "text": [
            "Results on the test set:\n",
            "              precision    recall  f1-score   support\n",
            "\n",
            "           0       0.64      0.88      0.74        26\n",
            "           1       0.50      0.19      0.27        16\n",
            "\n",
            "    accuracy                           0.62        42\n",
            "   macro avg       0.57      0.54      0.51        42\n",
            "weighted avg       0.59      0.62      0.56        42\n",
            "\n"
          ],
          "name": "stdout"
        }
      ]
    },
    {
      "cell_type": "markdown",
      "metadata": {
        "id": "AxTca3U9KmX5"
      },
      "source": [
        "\n",
        "\n",
        "---\n",
        "\n"
      ]
    },
    {
      "cell_type": "code",
      "metadata": {
        "id": "tiId9X9DFXje"
      },
      "source": [
        "#Parte del entrenamiento\n",
        "predicciones = mlpb.predict(x_test)\n",
        "clases_reales = y_test\n",
        "predicciones_prob = mlpb.predict_proba(x_test)"
      ],
      "execution_count": null,
      "outputs": []
    },
    {
      "cell_type": "code",
      "metadata": {
        "id": "L_dkDoojFcHA"
      },
      "source": [
        "def tupla_clase_prediccion(y_real, y_pred):\n",
        "  return list(zip(y_real, y_pred))"
      ],
      "execution_count": null,
      "outputs": []
    },
    {
      "cell_type": "code",
      "metadata": {
        "colab": {
          "base_uri": "https://localhost:8080/"
        },
        "id": "v02wo2tEFcnj",
        "outputId": "1f7ebf0e-1483-4d43-e430-7a3cc378a8d9"
      },
      "source": [
        "def VP(clases_reales, predicciones):\n",
        "    par_clase_prediccion = tupla_clase_prediccion(clases_reales, predicciones)\n",
        "    return len([obs for obs in par_clase_prediccion if obs[0]==1 and obs[1]==1])\n",
        "\n",
        "def VN(clases_reales, predicciones):\n",
        "    par_clase_prediccion = tupla_clase_prediccion(clases_reales, predicciones)\n",
        "    return len([obs for obs in par_clase_prediccion if obs[0]==0 and obs[1]==0])\n",
        "    \n",
        "def FP(clases_reales, predicciones):\n",
        "    par_clase_prediccion = tupla_clase_prediccion(clases_reales, predicciones)\n",
        "    return len([obs for obs in par_clase_prediccion if obs[0]==0 and obs[1]==1])\n",
        "\n",
        "def FN(clases_reales, predicciones):\n",
        "    par_clase_prediccion = tupla_clase_prediccion(clases_reales, predicciones)\n",
        "    return len([obs for obs in par_clase_prediccion if obs[0]==1 and obs[1]==0])\n",
        "\n",
        "print(\"\"\"\n",
        "Verdaderos Positivos: {}\n",
        "Verdaderos Negativos: {}\n",
        "Falsos Positivos: {}\n",
        "Falsos Negativos: {}\n",
        "\"\"\".format(VP(clases_reales, predicciones), VN(clases_reales, predicciones), FP(clases_reales, predicciones), FN(clases_reales, predicciones)    \n",
        "))"
      ],
      "execution_count": null,
      "outputs": [
        {
          "output_type": "stream",
          "text": [
            "\n",
            "Verdaderos Positivos: 3\n",
            "Verdaderos Negativos: 23\n",
            "Falsos Positivos: 3\n",
            "Falsos Negativos: 13\n",
            "\n"
          ],
          "name": "stdout"
        }
      ]
    },
    {
      "cell_type": "markdown",
      "metadata": {
        "id": "SG6sU56oKiuL"
      },
      "source": [
        " # **Tasas de clasificación**\n",
        "\n",
        "**1. Exactitud (Accuracy)**\n",
        "\n",
        "La exactitud es una medida general de como se comporta el modelo, mide simplemente el porcentaje de casos que se han clasificado correctamente.\n",
        "\n",
        "$$Exactitud=\\frac{Numero~de~observaciones~correctamente~clasificadas}{Numero~de~observaciones~totales}= \\frac{VP+VN}{VP+VN+FP+FN}$$"
      ]
    },
    {
      "cell_type": "markdown",
      "metadata": {
        "id": "Ying5CxOLJqr"
      },
      "source": [
        "La exactitud es cuantos valores tuve bien entre el total"
      ]
    },
    {
      "cell_type": "code",
      "metadata": {
        "colab": {
          "base_uri": "https://localhost:8080/"
        },
        "id": "ukssTHYAOTgH",
        "outputId": "5348edef-b36c-4de3-b59f-b1c2052ff689"
      },
      "source": [
        "from sklearn import metrics\n",
        "metrics.accuracy_score(clases_reales, predicciones)"
      ],
      "execution_count": null,
      "outputs": [
        {
          "output_type": "execute_result",
          "data": {
            "text/plain": [
              "0.6190476190476191"
            ]
          },
          "metadata": {
            "tags": []
          },
          "execution_count": 39
        }
      ]
    },
    {
      "cell_type": "markdown",
      "metadata": {
        "id": "KBmenSngKvt7"
      },
      "source": [
        "**2. Precisión (Precission)**\n",
        "\n",
        "La precisión indica la habilidad del modelo para clasificar como positivos los casos que son positivos.\n",
        "\n",
        "$$Precisión=\\frac{Numero~de~observaciones~positivas~correctamente~clasificadas}{Numero~de~observaciones~clasificadas~como~positivas}= \\frac{VP}{VP+FP}$$"
      ]
    },
    {
      "cell_type": "markdown",
      "metadata": {
        "id": "kVNpWkOQLqK0"
      },
      "source": [
        "Habilidad del modelo para predecir como positivo lo que si es positivo"
      ]
    },
    {
      "cell_type": "code",
      "metadata": {
        "colab": {
          "base_uri": "https://localhost:8080/"
        },
        "id": "VqHJJ35QK0vB",
        "outputId": "8b1b615f-b49c-4e5a-fbaa-bad05e54cff7"
      },
      "source": [
        "metrics.average_precision_score(clases_reales, predicciones)"
      ],
      "execution_count": null,
      "outputs": [
        {
          "output_type": "execute_result",
          "data": {
            "text/plain": [
              "0.40327380952380953"
            ]
          },
          "metadata": {
            "tags": []
          },
          "execution_count": 40
        }
      ]
    },
    {
      "cell_type": "markdown",
      "metadata": {
        "id": "LG9wsU6vMud-"
      },
      "source": [
        "**3. Exhaustividad o sensibilidad (Recall o True Positive Rate)**\n",
        "\n",
        "La sensibilidad nos da una medida de la habilidad del modelo para encontrar todos los casos positivos. La sensibilidad se mide en función de una clase.\n",
        "\n",
        "$$Sensibilidad=\\frac{Numero~de~observaciones~positivas~clasificadas~como~positivas}{Numero~de~observaciones~positivas~totales}= \\frac{VP}{VP+FN}$$"
      ]
    },
    {
      "cell_type": "code",
      "metadata": {
        "colab": {
          "base_uri": "https://localhost:8080/"
        },
        "id": "GJooDoJ7NCu2",
        "outputId": "a51c5431-4fea-4ac2-93b6-1a231ddb4b2a"
      },
      "source": [
        "metrics.recall_score(clases_reales, predicciones)"
      ],
      "execution_count": null,
      "outputs": [
        {
          "output_type": "execute_result",
          "data": {
            "text/plain": [
              "0.1875"
            ]
          },
          "metadata": {
            "tags": []
          },
          "execution_count": 41
        }
      ]
    },
    {
      "cell_type": "code",
      "metadata": {
        "colab": {
          "base_uri": "https://localhost:8080/"
        },
        "id": "3IwGAM2lNLGz",
        "outputId": "df88cd6b-6a70-4bbe-da09-58b708fdfde0"
      },
      "source": [
        "from sklearn.metrics import confusion_matrix\n",
        "confusion_matrix(clases_reales, predicciones)"
      ],
      "execution_count": null,
      "outputs": [
        {
          "output_type": "execute_result",
          "data": {
            "text/plain": [
              "array([[23,  3],\n",
              "       [13,  3]])"
            ]
          },
          "metadata": {
            "tags": []
          },
          "execution_count": 42
        }
      ]
    },
    {
      "cell_type": "markdown",
      "metadata": {
        "id": "XCqARd63KpPP"
      },
      "source": [
        "\n",
        "\n",
        "---\n",
        "\n"
      ]
    },
    {
      "cell_type": "markdown",
      "metadata": {
        "id": "PvKsFVIAPDX1"
      },
      "source": [
        "\n",
        "\n",
        "---\n",
        "\n"
      ]
    },
    {
      "cell_type": "markdown",
      "metadata": {
        "id": "Ra1sBY5vJ63D"
      },
      "source": [
        "# RED No-Stratify\n",
        "\n",
        "\n",
        "\n"
      ]
    },
    {
      "cell_type": "code",
      "metadata": {
        "colab": {
          "base_uri": "https://localhost:8080/",
          "height": 203
        },
        "id": "O7RXgxWGGT3n",
        "outputId": "429c3801-018b-41bc-c99a-1704a73b4434"
      },
      "source": [
        "from sklearn.model_selection import train_test_split\n",
        "\n",
        "x2 = finalDf.drop(['Type'], axis=1)\n",
        "y = finalDf['Type']\n",
        "\n",
        "datasets2 = train_test_split(x2, y, test_size=0.2, random_state=42)\n",
        "x_train2, x_test2, y_train2, y_test2 = datasets2\n",
        "\n",
        "x_train2.shape, x_train2.shape\n",
        "x_train2.head()"
      ],
      "execution_count": null,
      "outputs": [
        {
          "output_type": "execute_result",
          "data": {
            "text/html": [
              "<div>\n",
              "<style scoped>\n",
              "    .dataframe tbody tr th:only-of-type {\n",
              "        vertical-align: middle;\n",
              "    }\n",
              "\n",
              "    .dataframe tbody tr th {\n",
              "        vertical-align: top;\n",
              "    }\n",
              "\n",
              "    .dataframe thead th {\n",
              "        text-align: right;\n",
              "    }\n",
              "</style>\n",
              "<table border=\"1\" class=\"dataframe\">\n",
              "  <thead>\n",
              "    <tr style=\"text-align: right;\">\n",
              "      <th></th>\n",
              "      <th>Componente Principal 1</th>\n",
              "      <th>Componente Principal 2</th>\n",
              "      <th>Componente Principal 3</th>\n",
              "    </tr>\n",
              "  </thead>\n",
              "  <tbody>\n",
              "    <tr>\n",
              "      <th>86</th>\n",
              "      <td>-2.152222</td>\n",
              "      <td>0.940372</td>\n",
              "      <td>-0.019466</td>\n",
              "    </tr>\n",
              "    <tr>\n",
              "      <th>203</th>\n",
              "      <td>-0.782495</td>\n",
              "      <td>-2.505796</td>\n",
              "      <td>-0.080665</td>\n",
              "    </tr>\n",
              "    <tr>\n",
              "      <th>67</th>\n",
              "      <td>-2.186460</td>\n",
              "      <td>0.544647</td>\n",
              "      <td>-0.015285</td>\n",
              "    </tr>\n",
              "    <tr>\n",
              "      <th>82</th>\n",
              "      <td>-1.685044</td>\n",
              "      <td>0.016988</td>\n",
              "      <td>0.205888</td>\n",
              "    </tr>\n",
              "    <tr>\n",
              "      <th>205</th>\n",
              "      <td>-0.401399</td>\n",
              "      <td>-2.669337</td>\n",
              "      <td>0.223094</td>\n",
              "    </tr>\n",
              "  </tbody>\n",
              "</table>\n",
              "</div>"
            ],
            "text/plain": [
              "     Componente Principal 1  Componente Principal 2  Componente Principal 3\n",
              "86                -2.152222                0.940372               -0.019466\n",
              "203               -0.782495               -2.505796               -0.080665\n",
              "67                -2.186460                0.544647               -0.015285\n",
              "82                -1.685044                0.016988                0.205888\n",
              "205               -0.401399               -2.669337                0.223094"
            ]
          },
          "metadata": {
            "tags": []
          },
          "execution_count": 39
        }
      ]
    },
    {
      "cell_type": "code",
      "metadata": {
        "colab": {
          "base_uri": "https://localhost:8080/",
          "height": 337
        },
        "id": "Nt--OifXGgcm",
        "outputId": "af0e8540-9e4e-4184-88f5-0030e6287044"
      },
      "source": [
        "fig = plt.figure(figsize=(10,5))\n",
        "\n",
        "plt.subplot(2,2,1)\n",
        "y_train.hist()\n",
        "\n",
        "plt.subplot(2,2,2)\n",
        "y_test.hist()\n",
        "\n",
        "plt.subplot(2,2,3)\n",
        "y_train2.hist()\n",
        "\n",
        "plt.subplot(2,2,4)\n",
        "y_test2.hist()"
      ],
      "execution_count": null,
      "outputs": [
        {
          "output_type": "execute_result",
          "data": {
            "text/plain": [
              "<matplotlib.axes._subplots.AxesSubplot at 0x7fa6a6155390>"
            ]
          },
          "metadata": {
            "tags": []
          },
          "execution_count": 40
        },
        {
          "output_type": "display_data",
          "data": {
            "image/png": "[encoded data removed]",
            "text/plain": [
              "<Figure size 720x360 with 4 Axes>"
            ]
          },
          "metadata": {
            "tags": [],
            "needs_background": "light"
          }
        }
      ]
    },
    {
      "cell_type": "code",
      "metadata": {
        "id": "3YX_ckjYLRm8"
      },
      "source": [
        "from sklearn.neural_network import MLPClassifier\n",
        "mlp2 = MLPClassifier(max_iter=200)\n",
        "\n",
        "parameter_space = {\n",
        "    'hidden_layer_sizes': [(50,50,50), (50,100,50), (100,), (2,8,2), (2,50,3), (10,), (20,)],\n",
        "    'activation': ['tanh', 'relu', 'sigmoid'],\n",
        "    #'solver': ['lbfgs', 'sgd', 'adam'],\n",
        "    'alpha': [0.0001, 0.05],\n",
        "    'learning_rate': ['constant','adaptive'],\n",
        "}"
      ],
      "execution_count": null,
      "outputs": []
    },
    {
      "cell_type": "code",
      "metadata": {
        "id": "_LhSNGzULVAS",
        "colab": {
          "base_uri": "https://localhost:8080/"
        },
        "outputId": "f241d1c2-f2ea-4e17-f010-8ae64a037a94"
      },
      "source": [
        "from sklearn.model_selection import GridSearchCV\n",
        "\n",
        "clf2 = GridSearchCV(mlp2, parameter_space, n_jobs=-1, cv=5)\n",
        "clf2.fit(x_train2, y_train2)\n",
        "clf2.score(x_train2, y_train2)"
      ],
      "execution_count": null,
      "outputs": [
        {
          "output_type": "stream",
          "text": [
            "/usr/local/lib/python3.7/dist-packages/sklearn/neural_network/_multilayer_perceptron.py:571: ConvergenceWarning: Stochastic Optimizer: Maximum iterations (200) reached and the optimization hasn't converged yet.\n",
            "  % self.max_iter, ConvergenceWarning)\n"
          ],
          "name": "stderr"
        },
        {
          "output_type": "execute_result",
          "data": {
            "text/plain": [
              "0.6746987951807228"
            ]
          },
          "metadata": {
            "tags": []
          },
          "execution_count": 42
        }
      ]
    },
    {
      "cell_type": "code",
      "metadata": {
        "colab": {
          "base_uri": "https://localhost:8080/"
        },
        "id": "RjIAf7FpLYY9",
        "outputId": "2e12e320-8f3c-49eb-ed5e-8f965e327e7b"
      },
      "source": [
        "from sklearn.metrics import accuracy_score\n",
        "\n",
        "predictions_train2 = clf2.predict(x_train2)\n",
        "print(\"accurancy train 3d no-stratify:\", accuracy_score(predictions_train2, y_train2))\n",
        "predictions_test2 = clf2.predict(x_test2)\n",
        "print(\"accurancy test 3d no-stratify:\", accuracy_score(predictions_test2, y_test2))"
      ],
      "execution_count": null,
      "outputs": [
        {
          "output_type": "stream",
          "text": [
            "accurancy train 3d no-stratify: 0.6746987951807228\n",
            "accurancy test 3d no-stratify: 0.5952380952380952\n"
          ],
          "name": "stdout"
        }
      ]
    },
    {
      "cell_type": "code",
      "metadata": {
        "colab": {
          "base_uri": "https://localhost:8080/"
        },
        "id": "-I2lOzxgLdWF",
        "outputId": "54606d71-47c5-485b-8756-1870d209b661"
      },
      "source": [
        "# Mejores parametros\n",
        "print('Best parameters found:\\n', clf2.best_params_)\n",
        "\n",
        "# Resultados\n",
        "means2 = clf2.cv_results_['mean_test_score']\n",
        "stds2 = clf2.cv_results_['std_test_score']\n",
        "for mean2, std2, params in zip(means2, stds2, clf2.cv_results_['params']):\n",
        "    print(\"%0.3f (+/-%0.03f) for %r\" % (mean2, std2 * 2, params))"
      ],
      "execution_count": null,
      "outputs": [
        {
          "output_type": "stream",
          "text": [
            "Best parameters found:\n",
            " {'activation': 'relu', 'alpha': 0.0001, 'hidden_layer_sizes': (20,), 'learning_rate': 'constant'}\n",
            "0.662 (+/-0.092) for {'activation': 'tanh', 'alpha': 0.0001, 'hidden_layer_sizes': (50, 50, 50), 'learning_rate': 'constant'}\n",
            "0.644 (+/-0.099) for {'activation': 'tanh', 'alpha': 0.0001, 'hidden_layer_sizes': (50, 50, 50), 'learning_rate': 'adaptive'}\n",
            "0.639 (+/-0.039) for {'activation': 'tanh', 'alpha': 0.0001, 'hidden_layer_sizes': (50, 100, 50), 'learning_rate': 'constant'}\n",
            "0.620 (+/-0.068) for {'activation': 'tanh', 'alpha': 0.0001, 'hidden_layer_sizes': (50, 100, 50), 'learning_rate': 'adaptive'}\n",
            "0.638 (+/-0.106) for {'activation': 'tanh', 'alpha': 0.0001, 'hidden_layer_sizes': (100,), 'learning_rate': 'constant'}\n",
            "0.662 (+/-0.144) for {'activation': 'tanh', 'alpha': 0.0001, 'hidden_layer_sizes': (100,), 'learning_rate': 'adaptive'}\n",
            "0.609 (+/-0.069) for {'activation': 'tanh', 'alpha': 0.0001, 'hidden_layer_sizes': (2, 8, 2), 'learning_rate': 'constant'}\n",
            "0.657 (+/-0.071) for {'activation': 'tanh', 'alpha': 0.0001, 'hidden_layer_sizes': (2, 8, 2), 'learning_rate': 'adaptive'}\n",
            "0.644 (+/-0.184) for {'activation': 'tanh', 'alpha': 0.0001, 'hidden_layer_sizes': (2, 50, 3), 'learning_rate': 'constant'}\n",
            "0.657 (+/-0.081) for {'activation': 'tanh', 'alpha': 0.0001, 'hidden_layer_sizes': (2, 50, 3), 'learning_rate': 'adaptive'}\n",
            "0.662 (+/-0.086) for {'activation': 'tanh', 'alpha': 0.0001, 'hidden_layer_sizes': (10,), 'learning_rate': 'constant'}\n",
            "0.626 (+/-0.151) for {'activation': 'tanh', 'alpha': 0.0001, 'hidden_layer_sizes': (10,), 'learning_rate': 'adaptive'}\n",
            "0.626 (+/-0.123) for {'activation': 'tanh', 'alpha': 0.0001, 'hidden_layer_sizes': (20,), 'learning_rate': 'constant'}\n",
            "0.662 (+/-0.110) for {'activation': 'tanh', 'alpha': 0.0001, 'hidden_layer_sizes': (20,), 'learning_rate': 'adaptive'}\n",
            "0.657 (+/-0.064) for {'activation': 'tanh', 'alpha': 0.05, 'hidden_layer_sizes': (50, 50, 50), 'learning_rate': 'constant'}\n",
            "0.650 (+/-0.052) for {'activation': 'tanh', 'alpha': 0.05, 'hidden_layer_sizes': (50, 50, 50), 'learning_rate': 'adaptive'}\n",
            "0.656 (+/-0.094) for {'activation': 'tanh', 'alpha': 0.05, 'hidden_layer_sizes': (50, 100, 50), 'learning_rate': 'constant'}\n",
            "0.651 (+/-0.090) for {'activation': 'tanh', 'alpha': 0.05, 'hidden_layer_sizes': (50, 100, 50), 'learning_rate': 'adaptive'}\n",
            "0.644 (+/-0.108) for {'activation': 'tanh', 'alpha': 0.05, 'hidden_layer_sizes': (100,), 'learning_rate': 'constant'}\n",
            "0.650 (+/-0.129) for {'activation': 'tanh', 'alpha': 0.05, 'hidden_layer_sizes': (100,), 'learning_rate': 'adaptive'}\n",
            "0.584 (+/-0.184) for {'activation': 'tanh', 'alpha': 0.05, 'hidden_layer_sizes': (2, 8, 2), 'learning_rate': 'constant'}\n",
            "0.632 (+/-0.028) for {'activation': 'tanh', 'alpha': 0.05, 'hidden_layer_sizes': (2, 8, 2), 'learning_rate': 'adaptive'}\n",
            "0.620 (+/-0.103) for {'activation': 'tanh', 'alpha': 0.05, 'hidden_layer_sizes': (2, 50, 3), 'learning_rate': 'constant'}\n",
            "0.608 (+/-0.071) for {'activation': 'tanh', 'alpha': 0.05, 'hidden_layer_sizes': (2, 50, 3), 'learning_rate': 'adaptive'}\n",
            "0.662 (+/-0.092) for {'activation': 'tanh', 'alpha': 0.05, 'hidden_layer_sizes': (10,), 'learning_rate': 'constant'}\n",
            "0.650 (+/-0.117) for {'activation': 'tanh', 'alpha': 0.05, 'hidden_layer_sizes': (10,), 'learning_rate': 'adaptive'}\n",
            "0.650 (+/-0.075) for {'activation': 'tanh', 'alpha': 0.05, 'hidden_layer_sizes': (20,), 'learning_rate': 'constant'}\n",
            "0.656 (+/-0.103) for {'activation': 'tanh', 'alpha': 0.05, 'hidden_layer_sizes': (20,), 'learning_rate': 'adaptive'}\n",
            "0.633 (+/-0.113) for {'activation': 'relu', 'alpha': 0.0001, 'hidden_layer_sizes': (50, 50, 50), 'learning_rate': 'constant'}\n",
            "0.632 (+/-0.124) for {'activation': 'relu', 'alpha': 0.0001, 'hidden_layer_sizes': (50, 50, 50), 'learning_rate': 'adaptive'}\n",
            "0.615 (+/-0.081) for {'activation': 'relu', 'alpha': 0.0001, 'hidden_layer_sizes': (50, 100, 50), 'learning_rate': 'constant'}\n",
            "0.591 (+/-0.086) for {'activation': 'relu', 'alpha': 0.0001, 'hidden_layer_sizes': (50, 100, 50), 'learning_rate': 'adaptive'}\n",
            "0.644 (+/-0.076) for {'activation': 'relu', 'alpha': 0.0001, 'hidden_layer_sizes': (100,), 'learning_rate': 'constant'}\n",
            "0.650 (+/-0.104) for {'activation': 'relu', 'alpha': 0.0001, 'hidden_layer_sizes': (100,), 'learning_rate': 'adaptive'}\n",
            "0.616 (+/-0.192) for {'activation': 'relu', 'alpha': 0.0001, 'hidden_layer_sizes': (2, 8, 2), 'learning_rate': 'constant'}\n",
            "0.651 (+/-0.047) for {'activation': 'relu', 'alpha': 0.0001, 'hidden_layer_sizes': (2, 8, 2), 'learning_rate': 'adaptive'}\n",
            "0.547 (+/-0.247) for {'activation': 'relu', 'alpha': 0.0001, 'hidden_layer_sizes': (2, 50, 3), 'learning_rate': 'constant'}\n",
            "0.632 (+/-0.193) for {'activation': 'relu', 'alpha': 0.0001, 'hidden_layer_sizes': (2, 50, 3), 'learning_rate': 'adaptive'}\n",
            "0.620 (+/-0.107) for {'activation': 'relu', 'alpha': 0.0001, 'hidden_layer_sizes': (10,), 'learning_rate': 'constant'}\n",
            "0.620 (+/-0.081) for {'activation': 'relu', 'alpha': 0.0001, 'hidden_layer_sizes': (10,), 'learning_rate': 'adaptive'}\n",
            "0.668 (+/-0.126) for {'activation': 'relu', 'alpha': 0.0001, 'hidden_layer_sizes': (20,), 'learning_rate': 'constant'}\n",
            "0.668 (+/-0.183) for {'activation': 'relu', 'alpha': 0.0001, 'hidden_layer_sizes': (20,), 'learning_rate': 'adaptive'}\n",
            "0.639 (+/-0.063) for {'activation': 'relu', 'alpha': 0.05, 'hidden_layer_sizes': (50, 50, 50), 'learning_rate': 'constant'}\n",
            "0.603 (+/-0.074) for {'activation': 'relu', 'alpha': 0.05, 'hidden_layer_sizes': (50, 50, 50), 'learning_rate': 'adaptive'}\n",
            "0.638 (+/-0.117) for {'activation': 'relu', 'alpha': 0.05, 'hidden_layer_sizes': (50, 100, 50), 'learning_rate': 'constant'}\n",
            "0.615 (+/-0.066) for {'activation': 'relu', 'alpha': 0.05, 'hidden_layer_sizes': (50, 100, 50), 'learning_rate': 'adaptive'}\n",
            "0.656 (+/-0.124) for {'activation': 'relu', 'alpha': 0.05, 'hidden_layer_sizes': (100,), 'learning_rate': 'constant'}\n",
            "0.650 (+/-0.130) for {'activation': 'relu', 'alpha': 0.05, 'hidden_layer_sizes': (100,), 'learning_rate': 'adaptive'}\n",
            "0.529 (+/-0.281) for {'activation': 'relu', 'alpha': 0.05, 'hidden_layer_sizes': (2, 8, 2), 'learning_rate': 'constant'}\n",
            "0.541 (+/-0.294) for {'activation': 'relu', 'alpha': 0.05, 'hidden_layer_sizes': (2, 8, 2), 'learning_rate': 'adaptive'}\n",
            "0.584 (+/-0.220) for {'activation': 'relu', 'alpha': 0.05, 'hidden_layer_sizes': (2, 50, 3), 'learning_rate': 'constant'}\n",
            "0.639 (+/-0.102) for {'activation': 'relu', 'alpha': 0.05, 'hidden_layer_sizes': (2, 50, 3), 'learning_rate': 'adaptive'}\n",
            "0.602 (+/-0.219) for {'activation': 'relu', 'alpha': 0.05, 'hidden_layer_sizes': (10,), 'learning_rate': 'constant'}\n",
            "0.639 (+/-0.164) for {'activation': 'relu', 'alpha': 0.05, 'hidden_layer_sizes': (10,), 'learning_rate': 'adaptive'}\n",
            "0.645 (+/-0.117) for {'activation': 'relu', 'alpha': 0.05, 'hidden_layer_sizes': (20,), 'learning_rate': 'constant'}\n",
            "0.650 (+/-0.135) for {'activation': 'relu', 'alpha': 0.05, 'hidden_layer_sizes': (20,), 'learning_rate': 'adaptive'}\n",
            "nan (+/-nan) for {'activation': 'sigmoid', 'alpha': 0.0001, 'hidden_layer_sizes': (50, 50, 50), 'learning_rate': 'constant'}\n",
            "nan (+/-nan) for {'activation': 'sigmoid', 'alpha': 0.0001, 'hidden_layer_sizes': (50, 50, 50), 'learning_rate': 'adaptive'}\n",
            "nan (+/-nan) for {'activation': 'sigmoid', 'alpha': 0.0001, 'hidden_layer_sizes': (50, 100, 50), 'learning_rate': 'constant'}\n",
            "nan (+/-nan) for {'activation': 'sigmoid', 'alpha': 0.0001, 'hidden_layer_sizes': (50, 100, 50), 'learning_rate': 'adaptive'}\n",
            "nan (+/-nan) for {'activation': 'sigmoid', 'alpha': 0.0001, 'hidden_layer_sizes': (100,), 'learning_rate': 'constant'}\n",
            "nan (+/-nan) for {'activation': 'sigmoid', 'alpha': 0.0001, 'hidden_layer_sizes': (100,), 'learning_rate': 'adaptive'}\n",
            "nan (+/-nan) for {'activation': 'sigmoid', 'alpha': 0.0001, 'hidden_layer_sizes': (2, 8, 2), 'learning_rate': 'constant'}\n",
            "nan (+/-nan) for {'activation': 'sigmoid', 'alpha': 0.0001, 'hidden_layer_sizes': (2, 8, 2), 'learning_rate': 'adaptive'}\n",
            "nan (+/-nan) for {'activation': 'sigmoid', 'alpha': 0.0001, 'hidden_layer_sizes': (2, 50, 3), 'learning_rate': 'constant'}\n",
            "nan (+/-nan) for {'activation': 'sigmoid', 'alpha': 0.0001, 'hidden_layer_sizes': (2, 50, 3), 'learning_rate': 'adaptive'}\n",
            "nan (+/-nan) for {'activation': 'sigmoid', 'alpha': 0.0001, 'hidden_layer_sizes': (10,), 'learning_rate': 'constant'}\n",
            "nan (+/-nan) for {'activation': 'sigmoid', 'alpha': 0.0001, 'hidden_layer_sizes': (10,), 'learning_rate': 'adaptive'}\n",
            "nan (+/-nan) for {'activation': 'sigmoid', 'alpha': 0.0001, 'hidden_layer_sizes': (20,), 'learning_rate': 'constant'}\n",
            "nan (+/-nan) for {'activation': 'sigmoid', 'alpha': 0.0001, 'hidden_layer_sizes': (20,), 'learning_rate': 'adaptive'}\n",
            "nan (+/-nan) for {'activation': 'sigmoid', 'alpha': 0.05, 'hidden_layer_sizes': (50, 50, 50), 'learning_rate': 'constant'}\n",
            "nan (+/-nan) for {'activation': 'sigmoid', 'alpha': 0.05, 'hidden_layer_sizes': (50, 50, 50), 'learning_rate': 'adaptive'}\n",
            "nan (+/-nan) for {'activation': 'sigmoid', 'alpha': 0.05, 'hidden_layer_sizes': (50, 100, 50), 'learning_rate': 'constant'}\n",
            "nan (+/-nan) for {'activation': 'sigmoid', 'alpha': 0.05, 'hidden_layer_sizes': (50, 100, 50), 'learning_rate': 'adaptive'}\n",
            "nan (+/-nan) for {'activation': 'sigmoid', 'alpha': 0.05, 'hidden_layer_sizes': (100,), 'learning_rate': 'constant'}\n",
            "nan (+/-nan) for {'activation': 'sigmoid', 'alpha': 0.05, 'hidden_layer_sizes': (100,), 'learning_rate': 'adaptive'}\n",
            "nan (+/-nan) for {'activation': 'sigmoid', 'alpha': 0.05, 'hidden_layer_sizes': (2, 8, 2), 'learning_rate': 'constant'}\n",
            "nan (+/-nan) for {'activation': 'sigmoid', 'alpha': 0.05, 'hidden_layer_sizes': (2, 8, 2), 'learning_rate': 'adaptive'}\n",
            "nan (+/-nan) for {'activation': 'sigmoid', 'alpha': 0.05, 'hidden_layer_sizes': (2, 50, 3), 'learning_rate': 'constant'}\n",
            "nan (+/-nan) for {'activation': 'sigmoid', 'alpha': 0.05, 'hidden_layer_sizes': (2, 50, 3), 'learning_rate': 'adaptive'}\n",
            "nan (+/-nan) for {'activation': 'sigmoid', 'alpha': 0.05, 'hidden_layer_sizes': (10,), 'learning_rate': 'constant'}\n",
            "nan (+/-nan) for {'activation': 'sigmoid', 'alpha': 0.05, 'hidden_layer_sizes': (10,), 'learning_rate': 'adaptive'}\n",
            "nan (+/-nan) for {'activation': 'sigmoid', 'alpha': 0.05, 'hidden_layer_sizes': (20,), 'learning_rate': 'constant'}\n",
            "nan (+/-nan) for {'activation': 'sigmoid', 'alpha': 0.05, 'hidden_layer_sizes': (20,), 'learning_rate': 'adaptive'}\n"
          ],
          "name": "stdout"
        }
      ]
    },
    {
      "cell_type": "code",
      "metadata": {
        "colab": {
          "base_uri": "https://localhost:8080/"
        },
        "id": "MOEIRBfjLgv3",
        "outputId": "58f418b9-54d3-4939-af2a-7173ac924a64"
      },
      "source": [
        "from sklearn.neural_network import MLPClassifier\n",
        "\n",
        "mlp2b = MLPClassifier(#solver='sgd', \n",
        "                    activation='relu',\n",
        "                    alpha=1e-4,\n",
        "                    hidden_layer_sizes=(20,), \n",
        "                    learning_rate='constant',\n",
        "                    max_iter=200)\n",
        "\n",
        "mlp2b.fit(x_train2, y_train2) \n",
        "mlp2b.score(x_train2, y_train2)"
      ],
      "execution_count": null,
      "outputs": [
        {
          "output_type": "stream",
          "text": [
            "/usr/local/lib/python3.7/dist-packages/sklearn/neural_network/_multilayer_perceptron.py:571: ConvergenceWarning: Stochastic Optimizer: Maximum iterations (200) reached and the optimization hasn't converged yet.\n",
            "  % self.max_iter, ConvergenceWarning)\n"
          ],
          "name": "stderr"
        },
        {
          "output_type": "execute_result",
          "data": {
            "text/plain": [
              "0.6927710843373494"
            ]
          },
          "metadata": {
            "tags": []
          },
          "execution_count": 45
        }
      ]
    },
    {
      "cell_type": "markdown",
      "metadata": {
        "id": "qVUGvXalR4hW"
      },
      "source": [
        "\n",
        "\n",
        "---\n",
        "\n"
      ]
    },
    {
      "cell_type": "markdown",
      "metadata": {
        "id": "g3-wpPnqR5JO"
      },
      "source": [
        "\n",
        "\n",
        "---\n",
        "\n"
      ]
    },
    {
      "cell_type": "code",
      "metadata": {
        "colab": {
          "base_uri": "https://localhost:8080/"
        },
        "id": "2UXluh1pLjYn",
        "outputId": "f11e4f30-6d1f-4c71-fbbb-7c3be6520794"
      },
      "source": [
        "from sklearn.metrics import accuracy_score\n",
        "\n",
        "predictions_train2 = mlp2b.predict(x_train2)\n",
        "print(\"accurancy train:\", accuracy_score(predictions_train2, y_train2))\n",
        "predictions_test2 = mlp2b.predict(x_test2)\n",
        "print(\"accurancy test:\", accuracy_score(predictions_test2, y_test2))"
      ],
      "execution_count": null,
      "outputs": [
        {
          "output_type": "stream",
          "text": [
            "accurancy train: 0.6927710843373494\n",
            "accurancy test: 0.6190476190476191\n"
          ],
          "name": "stdout"
        }
      ]
    },
    {
      "cell_type": "code",
      "metadata": {
        "colab": {
          "base_uri": "https://localhost:8080/",
          "height": 298
        },
        "id": "vjOO5rUsLmfn",
        "outputId": "8ac5b2b8-7e19-4272-90d9-97415eee478f"
      },
      "source": [
        "from sklearn.metrics import confusion_matrix\n",
        "from sklearn.metrics import plot_confusion_matrix\n",
        "\n",
        "confusion_matrix(predictions_train2, y_train2)\n",
        "plot_confusion_matrix(mlp2b, x_train2, y_train2) "
      ],
      "execution_count": null,
      "outputs": [
        {
          "output_type": "execute_result",
          "data": {
            "text/plain": [
              "<sklearn.metrics._plot.confusion_matrix.ConfusionMatrixDisplay at 0x7fa6a6227490>"
            ]
          },
          "metadata": {
            "tags": []
          },
          "execution_count": 47
        },
        {
          "output_type": "display_data",
          "data": {
            "image/png": "[encoded data removed]",
            "text/plain": [
              "<Figure size 432x288 with 2 Axes>"
            ]
          },
          "metadata": {
            "tags": [],
            "needs_background": "light"
          }
        }
      ]
    },
    {
      "cell_type": "code",
      "metadata": {
        "colab": {
          "base_uri": "https://localhost:8080/",
          "height": 296
        },
        "id": "LJKDPv-7LpSO",
        "outputId": "ef3c21d3-2ee6-467c-c08b-3d94c0ddfcb3"
      },
      "source": [
        "confusion_matrix(predictions_test2, y_test2)\n",
        "plot_confusion_matrix(mlp2b, x_test2, y_test2)  "
      ],
      "execution_count": null,
      "outputs": [
        {
          "output_type": "execute_result",
          "data": {
            "text/plain": [
              "<sklearn.metrics._plot.confusion_matrix.ConfusionMatrixDisplay at 0x7fa6a5f33e10>"
            ]
          },
          "metadata": {
            "tags": []
          },
          "execution_count": 48
        },
        {
          "output_type": "display_data",
          "data": {
            "image/png": "[encoded data removed]",
            "text/plain": [
              "<Figure size 432x288 with 2 Axes>"
            ]
          },
          "metadata": {
            "tags": [],
            "needs_background": "light"
          }
        }
      ]
    },
    {
      "cell_type": "code",
      "metadata": {
        "colab": {
          "base_uri": "https://localhost:8080/"
        },
        "id": "wSS4bxy7LseB",
        "outputId": "d0d91ea9-47a1-4d5b-de07-6d9094ac3d53"
      },
      "source": [
        "from sklearn.metrics import classification_report\n",
        "\n",
        "print(classification_report(predictions_test2, y_test2))"
      ],
      "execution_count": null,
      "outputs": [
        {
          "output_type": "stream",
          "text": [
            "              precision    recall  f1-score   support\n",
            "\n",
            "           0       0.92      0.62      0.74        37\n",
            "           1       0.18      0.60      0.27         5\n",
            "\n",
            "    accuracy                           0.62        42\n",
            "   macro avg       0.55      0.61      0.51        42\n",
            "weighted avg       0.83      0.62      0.69        42\n",
            "\n"
          ],
          "name": "stdout"
        }
      ]
    },
    {
      "cell_type": "code",
      "metadata": {
        "colab": {
          "base_uri": "https://localhost:8080/"
        },
        "id": "wfb7SyODLurm",
        "outputId": "aa812ef8-8b0c-4d13-8813-7fd6c5912e98"
      },
      "source": [
        "y_true2, y_pred2 = y_test2 , mlp2b.predict(x_test2)\n",
        "\n",
        "from sklearn.metrics import classification_report\n",
        "print('Results on the test set:')\n",
        "print(classification_report(y_true2, y_pred2))"
      ],
      "execution_count": null,
      "outputs": [
        {
          "output_type": "stream",
          "text": [
            "Results on the test set:\n",
            "              precision    recall  f1-score   support\n",
            "\n",
            "           0       0.62      0.92      0.74        25\n",
            "           1       0.60      0.18      0.27        17\n",
            "\n",
            "    accuracy                           0.62        42\n",
            "   macro avg       0.61      0.55      0.51        42\n",
            "weighted avg       0.61      0.62      0.55        42\n",
            "\n"
          ],
          "name": "stdout"
        }
      ]
    },
    {
      "cell_type": "code",
      "metadata": {
        "id": "NPzL7LT6ID3b"
      },
      "source": [
        "#Parte del entrenamiento\n",
        "predicciones2 = mlp2b.predict(x_test2)\n",
        "clases_reales2 = y_test2\n",
        "predicciones_prob2 = mlp2b.predict_proba(x_test2)"
      ],
      "execution_count": null,
      "outputs": []
    },
    {
      "cell_type": "code",
      "metadata": {
        "id": "690R9Lc_IEkY"
      },
      "source": [
        "def tupla_clase_prediccion(y_real2, y_pred2):\n",
        "  return list(zip(y_real2, y_pred2))\n",
        "#tupla_clase_prediccion(clases_reales2, predicciones2)[:10]"
      ],
      "execution_count": null,
      "outputs": []
    },
    {
      "cell_type": "code",
      "metadata": {
        "id": "fnZBpwZGIJpE",
        "colab": {
          "base_uri": "https://localhost:8080/"
        },
        "outputId": "38e13a54-c5e9-41fe-f200-f28f32dc7c19"
      },
      "source": [
        "def VP(clases_reales2, predicciones2):\n",
        "    par_clase_prediccion2 = tupla_clase_prediccion(clases_reales2, predicciones2)\n",
        "    return len([obs for obs in par_clase_prediccion2 if obs[0]==1 and obs[1]==1])\n",
        "\n",
        "def VN(clases_reales2, predicciones2):\n",
        "    par_clase_prediccion2 = tupla_clase_prediccion(clases_reales2, predicciones2)\n",
        "    return len([obs for obs in par_clase_prediccion2 if obs[0]==0 and obs[1]==0])\n",
        "    \n",
        "def FP(clases_reales2, predicciones2):\n",
        "    par_clase_prediccion2 = tupla_clase_prediccion(clases_reales2, predicciones2)\n",
        "    return len([obs for obs in par_clase_prediccion2 if obs[0]==0 and obs[1]==1])\n",
        "\n",
        "def FN(clases_reales2, predicciones2):\n",
        "    par_clase_prediccion2 = tupla_clase_prediccion(clases_reales2, predicciones2)\n",
        "    return len([obs for obs in par_clase_prediccion2 if obs[0]==1 and obs[1]==0])\n",
        "\n",
        "\n",
        "print(\"\"\"\n",
        "Verdaderos Positivos: {}\n",
        "Verdaderos Negativos: {}\n",
        "Falsos Positivos: {}\n",
        "Falsos Negativos: {}\n",
        "\"\"\".format(VP(clases_reales2, predicciones2), VN(clases_reales2, predicciones2), FP(clases_reales2, predicciones2), FN(clases_reales2, predicciones2)    \n",
        "))"
      ],
      "execution_count": null,
      "outputs": [
        {
          "output_type": "stream",
          "text": [
            "\n",
            "Verdaderos Positivos: 3\n",
            "Verdaderos Negativos: 23\n",
            "Falsos Positivos: 2\n",
            "Falsos Negativos: 14\n",
            "\n"
          ],
          "name": "stdout"
        }
      ]
    },
    {
      "cell_type": "code",
      "metadata": {
        "id": "9DUQxUNGIRVi",
        "colab": {
          "base_uri": "https://localhost:8080/"
        },
        "outputId": "5c9832b6-a039-45a5-caf2-831db0bee72b"
      },
      "source": [
        "metrics.accuracy_score(clases_reales2, predicciones2)"
      ],
      "execution_count": null,
      "outputs": [
        {
          "output_type": "execute_result",
          "data": {
            "text/plain": [
              "0.6190476190476191"
            ]
          },
          "metadata": {
            "tags": []
          },
          "execution_count": 54
        }
      ]
    },
    {
      "cell_type": "code",
      "metadata": {
        "id": "0d0jFFkaIUGx",
        "colab": {
          "base_uri": "https://localhost:8080/"
        },
        "outputId": "72e5d43b-53fb-4c24-e0dd-4a5a37421b3b"
      },
      "source": [
        "metrics.average_precision_score(clases_reales, predicciones)"
      ],
      "execution_count": null,
      "outputs": [
        {
          "output_type": "execute_result",
          "data": {
            "text/plain": [
              "0.4107142857142857"
            ]
          },
          "metadata": {
            "tags": []
          },
          "execution_count": 55
        }
      ]
    },
    {
      "cell_type": "code",
      "metadata": {
        "colab": {
          "base_uri": "https://localhost:8080/"
        },
        "id": "ZiN3tgp8SNNt",
        "outputId": "a63d6ce6-950f-406d-e54b-f1f766afbf8b"
      },
      "source": [
        "metrics.recall_score(clases_reales, predicciones)"
      ],
      "execution_count": null,
      "outputs": [
        {
          "output_type": "execute_result",
          "data": {
            "text/plain": [
              "0.25"
            ]
          },
          "metadata": {
            "tags": []
          },
          "execution_count": 56
        }
      ]
    }
  ]
}