{
  "nbformat": 4,
  "nbformat_minor": 0,
  "metadata": {
    "colab": {
      "name": "Red PCA2 (0.3).ipynb",
      "provenance": [],
      "collapsed_sections": []
    },
    "kernelspec": {
      "name": "python3",
      "display_name": "Python 3"
    },
    "language_info": {
      "name": "python"
    }
  },
  "cells": [
    {
      "cell_type": "code",
      "metadata": {
        "id": "_DBbl_AwfAxR"
      },
      "source": [
        "import pandas as pd\n",
        "import numpy as np\n",
        "import matplotlib.pyplot as plt\n",
        "import io"
      ],
      "execution_count": null,
      "outputs": []
    },
    {
      "cell_type": "code",
      "metadata": {
        "colab": {
          "resources": {
            "http://localhost:8080/nbextensions/google.colab/files.js": {
              "data": "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",
              "ok": true,
              "headers": [
                [
                  "content-type",
                  "application/javascript"
                ]
              ],
              "status": 200,
              "status_text": ""
            }
          },
          "base_uri": "https://localhost:8080/",
          "height": 73
        },
        "id": "ePXaQrBsNUPx",
        "outputId": "a8ea684f-d826-401d-8d21-1b37316f620a"
      },
      "source": [
        "from google.colab import files\n",
        "uploaded = files.upload()"
      ],
      "execution_count": null,
      "outputs": [
        {
          "output_type": "display_data",
          "data": {
            "text/html": [
              "\n",
              "     <input type=\"file\" id=\"files-ee60c1e8-fb76-4d88-b068-64d6f4058b1d\" name=\"files[]\" multiple disabled\n",
              "        style=\"border:none\" />\n",
              "     <output id=\"result-ee60c1e8-fb76-4d88-b068-64d6f4058b1d\">\n",
              "      Upload widget is only available when the cell has been executed in the\n",
              "      current browser session. Please rerun this cell to enable.\n",
              "      </output>\n",
              "      <script src=\"/nbextensions/google.colab/files.js\"></script> "
            ],
            "text/plain": [
              "<IPython.core.display.HTML object>"
            ]
          },
          "metadata": {
            "tags": []
          }
        },
        {
          "output_type": "stream",
          "text": [
            "Saving PCA2.csv to PCA2.csv\n"
          ],
          "name": "stdout"
        }
      ]
    },
    {
      "cell_type": "code",
      "metadata": {
        "id": "mdvlHLH6QQfs"
      },
      "source": [
        "finalDf = pd.read_csv(io.StringIO(uploaded['PCA2.csv'].decode('utf-8')), sep=',')"
      ],
      "execution_count": null,
      "outputs": []
    },
    {
      "cell_type": "code",
      "metadata": {
        "id": "FE8i3GjPQmqF",
        "colab": {
          "base_uri": "https://localhost:8080/",
          "height": 203
        },
        "outputId": "beb94345-6eaa-40f8-dd4b-68f0bcfc42ef"
      },
      "source": [
        "finalDf.columns = ['Componente Principal 1', 'Componente Principal 2', 'Type']\n",
        "finalDf.head()"
      ],
      "execution_count": null,
      "outputs": [
        {
          "output_type": "execute_result",
          "data": {
            "text/html": [
              "<div>\n",
              "<style scoped>\n",
              "    .dataframe tbody tr th:only-of-type {\n",
              "        vertical-align: middle;\n",
              "    }\n",
              "\n",
              "    .dataframe tbody tr th {\n",
              "        vertical-align: top;\n",
              "    }\n",
              "\n",
              "    .dataframe thead th {\n",
              "        text-align: right;\n",
              "    }\n",
              "</style>\n",
              "<table border=\"1\" class=\"dataframe\">\n",
              "  <thead>\n",
              "    <tr style=\"text-align: right;\">\n",
              "      <th></th>\n",
              "      <th>Componente Principal 1</th>\n",
              "      <th>Componente Principal 2</th>\n",
              "      <th>Type</th>\n",
              "    </tr>\n",
              "  </thead>\n",
              "  <tbody>\n",
              "    <tr>\n",
              "      <th>0</th>\n",
              "      <td>-1.888339</td>\n",
              "      <td>0.493757</td>\n",
              "      <td>1</td>\n",
              "    </tr>\n",
              "    <tr>\n",
              "      <th>1</th>\n",
              "      <td>-1.770391</td>\n",
              "      <td>0.799496</td>\n",
              "      <td>1</td>\n",
              "    </tr>\n",
              "    <tr>\n",
              "      <th>2</th>\n",
              "      <td>-2.067688</td>\n",
              "      <td>1.058030</td>\n",
              "      <td>1</td>\n",
              "    </tr>\n",
              "    <tr>\n",
              "      <th>3</th>\n",
              "      <td>-2.168182</td>\n",
              "      <td>1.112277</td>\n",
              "      <td>1</td>\n",
              "    </tr>\n",
              "    <tr>\n",
              "      <th>4</th>\n",
              "      <td>-1.898913</td>\n",
              "      <td>0.552587</td>\n",
              "      <td>1</td>\n",
              "    </tr>\n",
              "  </tbody>\n",
              "</table>\n",
              "</div>"
            ],
            "text/plain": [
              "   Componente Principal 1  Componente Principal 2  Type\n",
              "0               -1.888339                0.493757     1\n",
              "1               -1.770391                0.799496     1\n",
              "2               -2.067688                1.058030     1\n",
              "3               -2.168182                1.112277     1\n",
              "4               -1.898913                0.552587     1"
            ]
          },
          "metadata": {
            "tags": []
          },
          "execution_count": 4
        }
      ]
    },
    {
      "cell_type": "code",
      "metadata": {
        "colab": {
          "base_uri": "https://localhost:8080/"
        },
        "id": "Goz5tW-SFPp7",
        "outputId": "aa5255fc-fd36-4357-8814-5426ebf8ec7e"
      },
      "source": [
        "finalDf[\"Type\"].value_counts(True)"
      ],
      "execution_count": null,
      "outputs": [
        {
          "output_type": "execute_result",
          "data": {
            "text/plain": [
              "0    0.629808\n",
              "1    0.370192\n",
              "Name: Type, dtype: float64"
            ]
          },
          "metadata": {
            "tags": []
          },
          "execution_count": 5
        }
      ]
    },
    {
      "cell_type": "markdown",
      "metadata": {
        "id": "LU1Tt1ASKCxi"
      },
      "source": [
        "\n",
        "\n",
        "---\n",
        "\n"
      ]
    },
    {
      "cell_type": "markdown",
      "metadata": {
        "id": "Sq5ZAor2CVF4"
      },
      "source": [
        "# STRATIFY\n",
        "\n",
        "Uso los datos estratificados para luego diferenciar los resultados en la red"
      ]
    },
    {
      "cell_type": "code",
      "metadata": {
        "colab": {
          "base_uri": "https://localhost:8080/"
        },
        "id": "4FrUuZ3WCFyE",
        "outputId": "55fe2ff6-b207-485c-8627-8306433c520b"
      },
      "source": [
        "from sklearn.model_selection import train_test_split\n",
        "\n",
        "x1 = finalDf.drop(['Type'], axis=1)\n",
        "y = finalDf['Type']\n",
        "\n",
        "datasets = train_test_split(x1, y, test_size=0.3, random_state=42, stratify=y)\n",
        "x_train, x_test, y_train, y_test = datasets\n",
        "\n",
        "x_train.shape, x_test.shape, y_train.shape, y_test.shape"
      ],
      "execution_count": null,
      "outputs": [
        {
          "output_type": "execute_result",
          "data": {
            "text/plain": [
              "((145, 2), (63, 2), (145,), (63,))"
            ]
          },
          "metadata": {
            "tags": []
          },
          "execution_count": 6
        }
      ]
    },
    {
      "cell_type": "code",
      "metadata": {
        "colab": {
          "base_uri": "https://localhost:8080/",
          "height": 340
        },
        "id": "bJI9zvkhBxHy",
        "outputId": "f0574b9c-5e56-4976-cef9-d407cd5ecb6b"
      },
      "source": [
        "fig = plt.figure(figsize=(12,5))\n",
        "plt.subplot(1,2,1)\n",
        "plt.title('Entrenamiento', fontsize = 18)\n",
        "plt.ylabel('Cuentas', fontsize=14)\n",
        "y_train.hist()\n",
        "\n",
        "plt.subplot(1,2,2)\n",
        "plt.title('Prueba', fontsize = 18)\n",
        "y_test.hist()\n",
        "\n",
        "plt.savefig('2_Red0.2.svg', format='svg', dpi=30)"
      ],
      "execution_count": null,
      "outputs": [
        {
          "output_type": "display_data",
          "data": {
            "image/png": "[encoded data removed]",
            "text/plain": [
              "<Figure size 864x360 with 2 Axes>"
            ]
          },
          "metadata": {
            "tags": [],
            "needs_background": "light"
          }
        }
      ]
    },
    {
      "cell_type": "markdown",
      "metadata": {
        "id": "6Bd0N8aoHKtm"
      },
      "source": [
        "Red"
      ]
    },
    {
      "cell_type": "code",
      "metadata": {
        "id": "AIQlnhITGU6k",
        "colab": {
          "base_uri": "https://localhost:8080/"
        },
        "outputId": "3a7ede7c-088a-4d48-9f2e-afef6e4b5efe"
      },
      "source": [
        "from sklearn.neural_network import MLPClassifier\n",
        "mlp = MLPClassifier(max_iter=200, random_state=42)\n",
        "\n",
        "mlp.fit(x_train,y_train)"
      ],
      "execution_count": null,
      "outputs": [
        {
          "output_type": "execute_result",
          "data": {
            "text/plain": [
              "MLPClassifier(activation='relu', alpha=0.0001, batch_size='auto', beta_1=0.9,\n",
              "              beta_2=0.999, early_stopping=False, epsilon=1e-08,\n",
              "              hidden_layer_sizes=(100,), learning_rate='constant',\n",
              "              learning_rate_init=0.001, max_fun=15000, max_iter=200,\n",
              "              momentum=0.9, n_iter_no_change=10, nesterovs_momentum=True,\n",
              "              power_t=0.5, random_state=42, shuffle=True, solver='adam',\n",
              "              tol=0.0001, validation_fraction=0.1, verbose=False,\n",
              "              warm_start=False)"
            ]
          },
          "metadata": {
            "tags": []
          },
          "execution_count": 13
        }
      ]
    },
    {
      "cell_type": "code",
      "metadata": {
        "colab": {
          "base_uri": "https://localhost:8080/"
        },
        "id": "t0Hx5IR28iMG",
        "outputId": "d485010b-bcd1-4969-f109-fb86a44130f2"
      },
      "source": [
        "print(\"Train Accuracy: \", mlp.score(x_train,y_train))\n",
        "print(\"Test Accuracy: \", mlp.score(x_test,y_test))"
      ],
      "execution_count": null,
      "outputs": [
        {
          "output_type": "stream",
          "text": [
            "Train Accuracy:  0.6551724137931034\n",
            "Test Accuracy:  0.6666666666666666\n"
          ],
          "name": "stdout"
        }
      ]
    },
    {
      "cell_type": "code",
      "metadata": {
        "colab": {
          "base_uri": "https://localhost:8080/"
        },
        "id": "ye3uz9vq8p-c",
        "outputId": "fc567898-e33c-4a84-95ca-321ad0a0bb2c"
      },
      "source": [
        "print(\"Number of Iterations: \", mlp.n_iter_)\n",
        "print(\"Output Layer Activation Function :\", mlp.out_activation_)"
      ],
      "execution_count": null,
      "outputs": [
        {
          "output_type": "stream",
          "text": [
            "Number of Iterations:  177\n",
            "Output Layer Activation Function : logistic\n"
          ],
          "name": "stdout"
        }
      ]
    },
    {
      "cell_type": "markdown",
      "metadata": {
        "id": "vuAMQUiV-L2h"
      },
      "source": [
        "\n",
        "\n",
        "---\n",
        "\n"
      ]
    },
    {
      "cell_type": "code",
      "metadata": {
        "id": "QpzeXTXeAc3m"
      },
      "source": [
        "#Parte del entrenamiento\n",
        "predicciones = mlp.predict(x_test)\n",
        "clases_reales = y_test\n",
        "predicciones_prob = mlp.predict_proba(x_test)"
      ],
      "execution_count": null,
      "outputs": []
    },
    {
      "cell_type": "code",
      "metadata": {
        "id": "L2ISNBNY-LQI"
      },
      "source": [
        "def tupla_clase_prediccion(y_real, y_pred):\n",
        "  return list(zip(y_real, y_pred))\n",
        "#tupla_clase_prediccion(clases_reales, predicciones)[:10]"
      ],
      "execution_count": null,
      "outputs": []
    },
    {
      "cell_type": "markdown",
      "metadata": {
        "id": "Vy5X4Tz3-RWm"
      },
      "source": [
        "**Detallamos:**\n",
        "\n",
        "- **Verdaderos positivos:** Tiene graso y la compu nos dice\n",
        "\n",
        "- **Falsos positivos:** Digo que es graso pero me equivoque, en realidad no tiene (falsa alarma)\n",
        "\n",
        "- **Verdaderos negativos:** No tiene graso y la compu nos dice lo mismo\n",
        "\n",
        "- **Falsos negativos:** Los hígados grasos que se clasifican como normales"
      ]
    },
    {
      "cell_type": "code",
      "metadata": {
        "colab": {
          "base_uri": "https://localhost:8080/"
        },
        "id": "bDdqGvWX-SGk",
        "outputId": "cf95cbd6-c1b6-477b-9a8c-344655112402"
      },
      "source": [
        "def VP(clases_reales, predicciones):\n",
        "    par_clase_prediccion = tupla_clase_prediccion(clases_reales, predicciones)\n",
        "    return len([obs for obs in par_clase_prediccion if obs[0]==1 and obs[1]==1])\n",
        "\n",
        "def VN(clases_reales, predicciones):\n",
        "    par_clase_prediccion = tupla_clase_prediccion(clases_reales, predicciones)\n",
        "    return len([obs for obs in par_clase_prediccion if obs[0]==0 and obs[1]==0])\n",
        "    \n",
        "def FP(clases_reales, predicciones):\n",
        "    par_clase_prediccion = tupla_clase_prediccion(clases_reales, predicciones)\n",
        "    return len([obs for obs in par_clase_prediccion if obs[0]==0 and obs[1]==1])\n",
        "\n",
        "def FN(clases_reales, predicciones):\n",
        "    par_clase_prediccion = tupla_clase_prediccion(clases_reales, predicciones)\n",
        "    return len([obs for obs in par_clase_prediccion if obs[0]==1 and obs[1]==0])\n",
        "\n",
        "print(\"\"\"\n",
        "Verdaderos Positivos: {}\n",
        "Verdaderos Negativos: {}\n",
        "Falsos Positivos: {}\n",
        "Falsos Negativos: {}\n",
        "\"\"\".format(VP(clases_reales, predicciones), VN(clases_reales, predicciones), FP(clases_reales, predicciones), FN(clases_reales, predicciones)    \n",
        "))"
      ],
      "execution_count": null,
      "outputs": [
        {
          "output_type": "stream",
          "text": [
            "\n",
            "Verdaderos Positivos: 5\n",
            "Verdaderos Negativos: 37\n",
            "Falsos Positivos: 3\n",
            "Falsos Negativos: 18\n",
            "\n"
          ],
          "name": "stdout"
        }
      ]
    },
    {
      "cell_type": "markdown",
      "metadata": {
        "id": "roTTQbAW-M4z"
      },
      "source": [
        "\n",
        "\n",
        "---\n",
        "\n"
      ]
    },
    {
      "cell_type": "markdown",
      "metadata": {
        "id": "tmf47G5XE0Xe"
      },
      "source": [
        "Utilizamos Hiperparámetros para mejorar la red\n",
        "\n",
        "*   Elemento de la lista\n",
        "*   Elemento de la lista\n",
        "\n"
      ]
    },
    {
      "cell_type": "code",
      "metadata": {
        "id": "94BOsbIZ8Ww2"
      },
      "source": [
        "mlp_gs = MLPClassifier(max_iter=200, random_state=42)\n",
        "\n",
        "parameter_space = {\n",
        "    'hidden_layer_sizes': [(50,50,50), (50,100,50), (100,), (2,8,2), (2,50,3), (10,), (20,)],\n",
        "    'activation': ['tanh', 'relu', 'sigmoid'],\n",
        "    #'solver': ['lbfgs', 'sgd', 'adam'],\n",
        "    'alpha': [0.0001, 0.05],\n",
        "    'learning_rate': ['constant','adaptive'],\n",
        "}"
      ],
      "execution_count": null,
      "outputs": []
    },
    {
      "cell_type": "code",
      "metadata": {
        "id": "zUbcKmGqGWgG"
      },
      "source": [
        "from sklearn.model_selection import GridSearchCV\n",
        "\n",
        "clf = GridSearchCV(mlp_gs, parameter_space, n_jobs=-1, cv=5)\n",
        "#Parte del entrenamiento\n",
        "clf.fit(x_train, y_train)\n",
        "predicciones = clf.predict(x_test)\n",
        "clases_reales = y_test\n",
        "predicciones_prob = clf.predict_proba(x_test)"
      ],
      "execution_count": null,
      "outputs": []
    },
    {
      "cell_type": "code",
      "metadata": {
        "colab": {
          "base_uri": "https://localhost:8080/"
        },
        "id": "ZziKGooG8ILn",
        "outputId": "93d7292e-0fcd-4b8a-c93e-8f449dbb35e3"
      },
      "source": [
        "from sklearn.metrics import accuracy_score\n",
        "\n",
        "predictions_train = clf.predict(x_train)\n",
        "print(\"accurancy train:\", accuracy_score(predictions_train, y_train))\n",
        "predictions_test = clf.predict(x_test)\n",
        "print(\"accurancy test:\", accuracy_score(predictions_test, y_test))"
      ],
      "execution_count": null,
      "outputs": [
        {
          "output_type": "stream",
          "text": [
            "accurancy train: 0.6689655172413793\n",
            "accurancy test: 0.6666666666666666\n"
          ],
          "name": "stdout"
        }
      ]
    },
    {
      "cell_type": "code",
      "metadata": {
        "colab": {
          "base_uri": "https://localhost:8080/"
        },
        "id": "0idg5ZvP-dpQ",
        "outputId": "3ec65e63-44d7-48fc-8369-1bfd182aba0f"
      },
      "source": [
        "# Mejores parametros\n",
        "print('Best parameters found:\\n', clf.best_params_)\n",
        "\n",
        "# Resultados\n",
        "means = clf.cv_results_['mean_test_score']\n",
        "stds = clf.cv_results_['std_test_score']\n",
        "for mean, std, params in zip(means, stds, clf.cv_results_['params']):\n",
        "    print(\"%0.3f (+/-%0.03f) for %r\" % (mean, std * 2, params))"
      ],
      "execution_count": null,
      "outputs": [
        {
          "output_type": "stream",
          "text": [
            "Best parameters found:\n",
            " {'activation': 'tanh', 'alpha': 0.0001, 'hidden_layer_sizes': (2, 50, 3), 'learning_rate': 'constant'}\n",
            "0.614 (+/-0.110) for {'activation': 'tanh', 'alpha': 0.0001, 'hidden_layer_sizes': (50, 50, 50), 'learning_rate': 'constant'}\n",
            "0.614 (+/-0.110) for {'activation': 'tanh', 'alpha': 0.0001, 'hidden_layer_sizes': (50, 50, 50), 'learning_rate': 'adaptive'}\n",
            "0.621 (+/-0.076) for {'activation': 'tanh', 'alpha': 0.0001, 'hidden_layer_sizes': (50, 100, 50), 'learning_rate': 'constant'}\n",
            "0.621 (+/-0.076) for {'activation': 'tanh', 'alpha': 0.0001, 'hidden_layer_sizes': (50, 100, 50), 'learning_rate': 'adaptive'}\n",
            "0.641 (+/-0.070) for {'activation': 'tanh', 'alpha': 0.0001, 'hidden_layer_sizes': (100,), 'learning_rate': 'constant'}\n",
            "0.641 (+/-0.070) for {'activation': 'tanh', 'alpha': 0.0001, 'hidden_layer_sizes': (100,), 'learning_rate': 'adaptive'}\n",
            "0.372 (+/-0.028) for {'activation': 'tanh', 'alpha': 0.0001, 'hidden_layer_sizes': (2, 8, 2), 'learning_rate': 'constant'}\n",
            "0.372 (+/-0.028) for {'activation': 'tanh', 'alpha': 0.0001, 'hidden_layer_sizes': (2, 8, 2), 'learning_rate': 'adaptive'}\n",
            "0.648 (+/-0.052) for {'activation': 'tanh', 'alpha': 0.0001, 'hidden_layer_sizes': (2, 50, 3), 'learning_rate': 'constant'}\n",
            "0.648 (+/-0.052) for {'activation': 'tanh', 'alpha': 0.0001, 'hidden_layer_sizes': (2, 50, 3), 'learning_rate': 'adaptive'}\n",
            "0.628 (+/-0.028) for {'activation': 'tanh', 'alpha': 0.0001, 'hidden_layer_sizes': (10,), 'learning_rate': 'constant'}\n",
            "0.628 (+/-0.028) for {'activation': 'tanh', 'alpha': 0.0001, 'hidden_layer_sizes': (10,), 'learning_rate': 'adaptive'}\n",
            "0.634 (+/-0.034) for {'activation': 'tanh', 'alpha': 0.0001, 'hidden_layer_sizes': (20,), 'learning_rate': 'constant'}\n",
            "0.634 (+/-0.034) for {'activation': 'tanh', 'alpha': 0.0001, 'hidden_layer_sizes': (20,), 'learning_rate': 'adaptive'}\n",
            "0.607 (+/-0.083) for {'activation': 'tanh', 'alpha': 0.05, 'hidden_layer_sizes': (50, 50, 50), 'learning_rate': 'constant'}\n",
            "0.607 (+/-0.083) for {'activation': 'tanh', 'alpha': 0.05, 'hidden_layer_sizes': (50, 50, 50), 'learning_rate': 'adaptive'}\n",
            "0.628 (+/-0.080) for {'activation': 'tanh', 'alpha': 0.05, 'hidden_layer_sizes': (50, 100, 50), 'learning_rate': 'constant'}\n",
            "0.628 (+/-0.080) for {'activation': 'tanh', 'alpha': 0.05, 'hidden_layer_sizes': (50, 100, 50), 'learning_rate': 'adaptive'}\n",
            "0.641 (+/-0.070) for {'activation': 'tanh', 'alpha': 0.05, 'hidden_layer_sizes': (100,), 'learning_rate': 'constant'}\n",
            "0.641 (+/-0.070) for {'activation': 'tanh', 'alpha': 0.05, 'hidden_layer_sizes': (100,), 'learning_rate': 'adaptive'}\n",
            "0.372 (+/-0.028) for {'activation': 'tanh', 'alpha': 0.05, 'hidden_layer_sizes': (2, 8, 2), 'learning_rate': 'constant'}\n",
            "0.372 (+/-0.028) for {'activation': 'tanh', 'alpha': 0.05, 'hidden_layer_sizes': (2, 8, 2), 'learning_rate': 'adaptive'}\n",
            "0.648 (+/-0.052) for {'activation': 'tanh', 'alpha': 0.05, 'hidden_layer_sizes': (2, 50, 3), 'learning_rate': 'constant'}\n",
            "0.648 (+/-0.052) for {'activation': 'tanh', 'alpha': 0.05, 'hidden_layer_sizes': (2, 50, 3), 'learning_rate': 'adaptive'}\n",
            "0.628 (+/-0.028) for {'activation': 'tanh', 'alpha': 0.05, 'hidden_layer_sizes': (10,), 'learning_rate': 'constant'}\n",
            "0.628 (+/-0.028) for {'activation': 'tanh', 'alpha': 0.05, 'hidden_layer_sizes': (10,), 'learning_rate': 'adaptive'}\n",
            "0.634 (+/-0.034) for {'activation': 'tanh', 'alpha': 0.05, 'hidden_layer_sizes': (20,), 'learning_rate': 'constant'}\n",
            "0.634 (+/-0.034) for {'activation': 'tanh', 'alpha': 0.05, 'hidden_layer_sizes': (20,), 'learning_rate': 'adaptive'}\n",
            "0.600 (+/-0.135) for {'activation': 'relu', 'alpha': 0.0001, 'hidden_layer_sizes': (50, 50, 50), 'learning_rate': 'constant'}\n",
            "0.600 (+/-0.135) for {'activation': 'relu', 'alpha': 0.0001, 'hidden_layer_sizes': (50, 50, 50), 'learning_rate': 'adaptive'}\n",
            "0.586 (+/-0.115) for {'activation': 'relu', 'alpha': 0.0001, 'hidden_layer_sizes': (50, 100, 50), 'learning_rate': 'constant'}\n",
            "0.586 (+/-0.115) for {'activation': 'relu', 'alpha': 0.0001, 'hidden_layer_sizes': (50, 100, 50), 'learning_rate': 'adaptive'}\n",
            "0.621 (+/-0.076) for {'activation': 'relu', 'alpha': 0.0001, 'hidden_layer_sizes': (100,), 'learning_rate': 'constant'}\n",
            "0.621 (+/-0.076) for {'activation': 'relu', 'alpha': 0.0001, 'hidden_layer_sizes': (100,), 'learning_rate': 'adaptive'}\n",
            "0.372 (+/-0.101) for {'activation': 'relu', 'alpha': 0.0001, 'hidden_layer_sizes': (2, 8, 2), 'learning_rate': 'constant'}\n",
            "0.372 (+/-0.101) for {'activation': 'relu', 'alpha': 0.0001, 'hidden_layer_sizes': (2, 8, 2), 'learning_rate': 'adaptive'}\n",
            "0.628 (+/-0.028) for {'activation': 'relu', 'alpha': 0.0001, 'hidden_layer_sizes': (2, 50, 3), 'learning_rate': 'constant'}\n",
            "0.628 (+/-0.028) for {'activation': 'relu', 'alpha': 0.0001, 'hidden_layer_sizes': (2, 50, 3), 'learning_rate': 'adaptive'}\n",
            "0.621 (+/-0.076) for {'activation': 'relu', 'alpha': 0.0001, 'hidden_layer_sizes': (10,), 'learning_rate': 'constant'}\n",
            "0.621 (+/-0.076) for {'activation': 'relu', 'alpha': 0.0001, 'hidden_layer_sizes': (10,), 'learning_rate': 'adaptive'}\n",
            "0.600 (+/-0.034) for {'activation': 'relu', 'alpha': 0.0001, 'hidden_layer_sizes': (20,), 'learning_rate': 'constant'}\n",
            "0.600 (+/-0.034) for {'activation': 'relu', 'alpha': 0.0001, 'hidden_layer_sizes': (20,), 'learning_rate': 'adaptive'}\n",
            "0.593 (+/-0.134) for {'activation': 'relu', 'alpha': 0.05, 'hidden_layer_sizes': (50, 50, 50), 'learning_rate': 'constant'}\n",
            "0.593 (+/-0.134) for {'activation': 'relu', 'alpha': 0.05, 'hidden_layer_sizes': (50, 50, 50), 'learning_rate': 'adaptive'}\n",
            "0.600 (+/-0.112) for {'activation': 'relu', 'alpha': 0.05, 'hidden_layer_sizes': (50, 100, 50), 'learning_rate': 'constant'}\n",
            "0.600 (+/-0.112) for {'activation': 'relu', 'alpha': 0.05, 'hidden_layer_sizes': (50, 100, 50), 'learning_rate': 'adaptive'}\n",
            "0.621 (+/-0.076) for {'activation': 'relu', 'alpha': 0.05, 'hidden_layer_sizes': (100,), 'learning_rate': 'constant'}\n",
            "0.621 (+/-0.076) for {'activation': 'relu', 'alpha': 0.05, 'hidden_layer_sizes': (100,), 'learning_rate': 'adaptive'}\n",
            "0.372 (+/-0.101) for {'activation': 'relu', 'alpha': 0.05, 'hidden_layer_sizes': (2, 8, 2), 'learning_rate': 'constant'}\n",
            "0.372 (+/-0.101) for {'activation': 'relu', 'alpha': 0.05, 'hidden_layer_sizes': (2, 8, 2), 'learning_rate': 'adaptive'}\n",
            "0.628 (+/-0.028) for {'activation': 'relu', 'alpha': 0.05, 'hidden_layer_sizes': (2, 50, 3), 'learning_rate': 'constant'}\n",
            "0.628 (+/-0.028) for {'activation': 'relu', 'alpha': 0.05, 'hidden_layer_sizes': (2, 50, 3), 'learning_rate': 'adaptive'}\n",
            "0.621 (+/-0.076) for {'activation': 'relu', 'alpha': 0.05, 'hidden_layer_sizes': (10,), 'learning_rate': 'constant'}\n",
            "0.621 (+/-0.076) for {'activation': 'relu', 'alpha': 0.05, 'hidden_layer_sizes': (10,), 'learning_rate': 'adaptive'}\n",
            "0.600 (+/-0.034) for {'activation': 'relu', 'alpha': 0.05, 'hidden_layer_sizes': (20,), 'learning_rate': 'constant'}\n",
            "0.600 (+/-0.034) for {'activation': 'relu', 'alpha': 0.05, 'hidden_layer_sizes': (20,), 'learning_rate': 'adaptive'}\n",
            "nan (+/-nan) for {'activation': 'sigmoid', 'alpha': 0.0001, 'hidden_layer_sizes': (50, 50, 50), 'learning_rate': 'constant'}\n",
            "nan (+/-nan) for {'activation': 'sigmoid', 'alpha': 0.0001, 'hidden_layer_sizes': (50, 50, 50), 'learning_rate': 'adaptive'}\n",
            "nan (+/-nan) for {'activation': 'sigmoid', 'alpha': 0.0001, 'hidden_layer_sizes': (50, 100, 50), 'learning_rate': 'constant'}\n",
            "nan (+/-nan) for {'activation': 'sigmoid', 'alpha': 0.0001, 'hidden_layer_sizes': (50, 100, 50), 'learning_rate': 'adaptive'}\n",
            "nan (+/-nan) for {'activation': 'sigmoid', 'alpha': 0.0001, 'hidden_layer_sizes': (100,), 'learning_rate': 'constant'}\n",
            "nan (+/-nan) for {'activation': 'sigmoid', 'alpha': 0.0001, 'hidden_layer_sizes': (100,), 'learning_rate': 'adaptive'}\n",
            "nan (+/-nan) for {'activation': 'sigmoid', 'alpha': 0.0001, 'hidden_layer_sizes': (2, 8, 2), 'learning_rate': 'constant'}\n",
            "nan (+/-nan) for {'activation': 'sigmoid', 'alpha': 0.0001, 'hidden_layer_sizes': (2, 8, 2), 'learning_rate': 'adaptive'}\n",
            "nan (+/-nan) for {'activation': 'sigmoid', 'alpha': 0.0001, 'hidden_layer_sizes': (2, 50, 3), 'learning_rate': 'constant'}\n",
            "nan (+/-nan) for {'activation': 'sigmoid', 'alpha': 0.0001, 'hidden_layer_sizes': (2, 50, 3), 'learning_rate': 'adaptive'}\n",
            "nan (+/-nan) for {'activation': 'sigmoid', 'alpha': 0.0001, 'hidden_layer_sizes': (10,), 'learning_rate': 'constant'}\n",
            "nan (+/-nan) for {'activation': 'sigmoid', 'alpha': 0.0001, 'hidden_layer_sizes': (10,), 'learning_rate': 'adaptive'}\n",
            "nan (+/-nan) for {'activation': 'sigmoid', 'alpha': 0.0001, 'hidden_layer_sizes': (20,), 'learning_rate': 'constant'}\n",
            "nan (+/-nan) for {'activation': 'sigmoid', 'alpha': 0.0001, 'hidden_layer_sizes': (20,), 'learning_rate': 'adaptive'}\n",
            "nan (+/-nan) for {'activation': 'sigmoid', 'alpha': 0.05, 'hidden_layer_sizes': (50, 50, 50), 'learning_rate': 'constant'}\n",
            "nan (+/-nan) for {'activation': 'sigmoid', 'alpha': 0.05, 'hidden_layer_sizes': (50, 50, 50), 'learning_rate': 'adaptive'}\n",
            "nan (+/-nan) for {'activation': 'sigmoid', 'alpha': 0.05, 'hidden_layer_sizes': (50, 100, 50), 'learning_rate': 'constant'}\n",
            "nan (+/-nan) for {'activation': 'sigmoid', 'alpha': 0.05, 'hidden_layer_sizes': (50, 100, 50), 'learning_rate': 'adaptive'}\n",
            "nan (+/-nan) for {'activation': 'sigmoid', 'alpha': 0.05, 'hidden_layer_sizes': (100,), 'learning_rate': 'constant'}\n",
            "nan (+/-nan) for {'activation': 'sigmoid', 'alpha': 0.05, 'hidden_layer_sizes': (100,), 'learning_rate': 'adaptive'}\n",
            "nan (+/-nan) for {'activation': 'sigmoid', 'alpha': 0.05, 'hidden_layer_sizes': (2, 8, 2), 'learning_rate': 'constant'}\n",
            "nan (+/-nan) for {'activation': 'sigmoid', 'alpha': 0.05, 'hidden_layer_sizes': (2, 8, 2), 'learning_rate': 'adaptive'}\n",
            "nan (+/-nan) for {'activation': 'sigmoid', 'alpha': 0.05, 'hidden_layer_sizes': (2, 50, 3), 'learning_rate': 'constant'}\n",
            "nan (+/-nan) for {'activation': 'sigmoid', 'alpha': 0.05, 'hidden_layer_sizes': (2, 50, 3), 'learning_rate': 'adaptive'}\n",
            "nan (+/-nan) for {'activation': 'sigmoid', 'alpha': 0.05, 'hidden_layer_sizes': (10,), 'learning_rate': 'constant'}\n",
            "nan (+/-nan) for {'activation': 'sigmoid', 'alpha': 0.05, 'hidden_layer_sizes': (10,), 'learning_rate': 'adaptive'}\n",
            "nan (+/-nan) for {'activation': 'sigmoid', 'alpha': 0.05, 'hidden_layer_sizes': (20,), 'learning_rate': 'constant'}\n",
            "nan (+/-nan) for {'activation': 'sigmoid', 'alpha': 0.05, 'hidden_layer_sizes': (20,), 'learning_rate': 'adaptive'}\n"
          ],
          "name": "stdout"
        }
      ]
    },
    {
      "cell_type": "code",
      "metadata": {
        "colab": {
          "base_uri": "https://localhost:8080/"
        },
        "id": "1zcJWjc5-4gm",
        "outputId": "54d9b29b-8bb7-4827-9a40-0b972a10f8ed"
      },
      "source": [
        "from sklearn.neural_network import MLPClassifier\n",
        "\n",
        "mlpb = MLPClassifier(#solver='adam', \n",
        "                    activation='tanh',\n",
        "                    alpha=0.05,\n",
        "                    hidden_layer_sizes=(50, 50, 50), \n",
        "                    learning_rate='constant',\n",
        "                    max_iter=200)\n",
        "\n",
        "mlpb.fit(x_train, y_train) \n",
        "mlpb.score(x_train, y_train)"
      ],
      "execution_count": null,
      "outputs": [
        {
          "output_type": "stream",
          "text": [
            "/usr/local/lib/python3.7/dist-packages/sklearn/neural_network/_multilayer_perceptron.py:571: ConvergenceWarning: Stochastic Optimizer: Maximum iterations (200) reached and the optimization hasn't converged yet.\n",
            "  % self.max_iter, ConvergenceWarning)\n"
          ],
          "name": "stderr"
        },
        {
          "output_type": "execute_result",
          "data": {
            "text/plain": [
              "0.7034482758620689"
            ]
          },
          "metadata": {
            "tags": []
          },
          "execution_count": 26
        }
      ]
    },
    {
      "cell_type": "code",
      "metadata": {
        "colab": {
          "base_uri": "https://localhost:8080/"
        },
        "id": "VBrCFebU_HVQ",
        "outputId": "1376aeb7-55c4-4e23-a7aa-4de4fa199d3b"
      },
      "source": [
        "from sklearn.metrics import accuracy_score\n",
        "\n",
        "predictions_train = mlpb.predict(x_train)\n",
        "print(\"accurancy train:\", accuracy_score(predictions_train, y_train))\n",
        "predictions_test = mlpb.predict(x_test)\n",
        "print(\"accurancy test:\", accuracy_score(predictions_test, y_test))"
      ],
      "execution_count": null,
      "outputs": [
        {
          "output_type": "stream",
          "text": [
            "accurancy train: 0.7034482758620689\n",
            "accurancy test: 0.6825396825396826\n"
          ],
          "name": "stdout"
        }
      ]
    },
    {
      "cell_type": "code",
      "metadata": {
        "colab": {
          "base_uri": "https://localhost:8080/"
        },
        "id": "5X7oEv1yADcN",
        "outputId": "a64e180d-9765-4dc0-e77f-2e253a2672ce"
      },
      "source": [
        "print(\"Number of Iterations: \", mlp.n_iter_)\n",
        "print(\"Output Layer Activation Function :\", mlp.out_activation_)"
      ],
      "execution_count": null,
      "outputs": [
        {
          "output_type": "stream",
          "text": [
            "Number of Iterations:  177\n",
            "Output Layer Activation Function : logistic\n"
          ],
          "name": "stdout"
        }
      ]
    },
    {
      "cell_type": "code",
      "metadata": {
        "colab": {
          "base_uri": "https://localhost:8080/",
          "height": 265
        },
        "id": "zhsV-wzz_Lo3",
        "outputId": "804a0397-5206-4940-da34-c64f7047a1c3"
      },
      "source": [
        "from sklearn.metrics import confusion_matrix\n",
        "from sklearn.metrics import plot_confusion_matrix\n",
        "import seaborn as sn\n",
        "\n",
        "cf_matrix = confusion_matrix(predictions_train, y_train)\n",
        "#plot_confusion_matrix(mlpb, x_train, y_train)\n",
        "group_names = ['Verdaderos Negativos','Falsos Negativos','Falsos Positivos','Verdaderos Positivos']\n",
        "\n",
        "group_counts = [\"{0:0.0f}\".format(value) for value in\n",
        "                cf_matrix.flatten()]\n",
        "group_percentages = [\"{0:.2%}\".format(value) for value in\n",
        "                     cf_matrix.flatten()/np.sum(cf_matrix)]\n",
        "labels = [f\"{v1}\\n{v2}\\n{v3}\" for v1, v2, v3 in\n",
        "          zip(group_names, group_counts, group_percentages)]\n",
        "labels = np.asarray(labels).reshape(2,2)\n",
        "sn.heatmap(cf_matrix, annot=labels, fmt='', cmap='Blues')\n",
        "plt.savefig('prediccion_train(0.3).svg', format='svg', dpi=30)"
      ],
      "execution_count": null,
      "outputs": [
        {
          "output_type": "display_data",
          "data": {
            "image/png": "[encoded data removed]",
            "text/plain": [
              "<Figure size 432x288 with 2 Axes>"
            ]
          },
          "metadata": {
            "tags": [],
            "needs_background": "light"
          }
        }
      ]
    },
    {
      "cell_type": "code",
      "metadata": {
        "colab": {
          "base_uri": "https://localhost:8080/",
          "height": 269
        },
        "id": "U6Y8ci0I_P0k",
        "outputId": "d2f32e16-478c-4297-f25f-8a387b7b2e93"
      },
      "source": [
        "cf_matrix2 = confusion_matrix(predictions_test, y_test)\n",
        "#plot_confusion_matrix(mlpb, x_test, y_test)  \n",
        "group_names = ['Verdaderos Negativos','Falsos Negativos', 'Falsos Positivos','Verdaderos Positivos']\n",
        "\n",
        "group_counts = [\"{0:0.0f}\".format(value) for value in\n",
        "                cf_matrix2.flatten()]\n",
        "group_percentages = [\"{0:.2%}\".format(value) for value in\n",
        "                     cf_matrix2.flatten()/np.sum(cf_matrix2)]\n",
        "labels = [f\"{v1}\\n{v2}\\n{v3}\" for v1, v2, v3 in\n",
        "          zip(group_names, group_counts, group_percentages)]\n",
        "labels = np.asarray(labels).reshape(2,2)\n",
        "sn.heatmap(cf_matrix2, annot=labels, fmt='', cmap='Reds')\n",
        "plt.savefig('prediccion_test(0.3).svg', format='svg', dpi=30)"
      ],
      "execution_count": null,
      "outputs": [
        {
          "output_type": "display_data",
          "data": {
            "image/png": "[encoded data removed]",
            "text/plain": [
              "<Figure size 432x288 with 2 Axes>"
            ]
          },
          "metadata": {
            "tags": [],
            "needs_background": "light"
          }
        }
      ]
    },
    {
      "cell_type": "code",
      "metadata": {
        "colab": {
          "base_uri": "https://localhost:8080/"
        },
        "id": "lCI7faI0_T7I",
        "outputId": "d02b6652-72a4-4f99-e975-6b5606e974e1"
      },
      "source": [
        "from sklearn.metrics import classification_report\n",
        "\n",
        "print(classification_report(predictions_train, y_train))"
      ],
      "execution_count": null,
      "outputs": [
        {
          "output_type": "stream",
          "text": [
            "              precision    recall  f1-score   support\n",
            "\n",
            "           0       0.90      0.71      0.79       116\n",
            "           1       0.37      0.69      0.48        29\n",
            "\n",
            "    accuracy                           0.70       145\n",
            "   macro avg       0.64      0.70      0.64       145\n",
            "weighted avg       0.79      0.70      0.73       145\n",
            "\n"
          ],
          "name": "stdout"
        }
      ]
    },
    {
      "cell_type": "code",
      "metadata": {
        "colab": {
          "base_uri": "https://localhost:8080/"
        },
        "id": "2I2MYA07cOkb",
        "outputId": "b947644d-b6f8-4425-897d-987153cfdc29"
      },
      "source": [
        "print(classification_report(predictions_test, y_test))"
      ],
      "execution_count": null,
      "outputs": [
        {
          "output_type": "stream",
          "text": [
            "              precision    recall  f1-score   support\n",
            "\n",
            "           0       0.88      0.70      0.78        50\n",
            "           1       0.35      0.62      0.44        13\n",
            "\n",
            "    accuracy                           0.68        63\n",
            "   macro avg       0.61      0.66      0.61        63\n",
            "weighted avg       0.77      0.68      0.71        63\n",
            "\n"
          ],
          "name": "stdout"
        }
      ]
    },
    {
      "cell_type": "code",
      "metadata": {
        "colab": {
          "base_uri": "https://localhost:8080/"
        },
        "id": "VACiEUB3_Xtb",
        "outputId": "78825dc4-3a88-441d-ed65-9b262ecd83ef"
      },
      "source": [
        "y_true, y_pred = y_test, mlpb.predict(x_test)\n",
        "\n",
        "from sklearn.metrics import classification_report\n",
        "print('Results on the test set:')\n",
        "print(classification_report(y_true, y_pred))"
      ],
      "execution_count": null,
      "outputs": [
        {
          "output_type": "stream",
          "text": [
            "Results on the test set:\n",
            "              precision    recall  f1-score   support\n",
            "\n",
            "           0       0.70      0.88      0.78        40\n",
            "           1       0.62      0.35      0.44        23\n",
            "\n",
            "    accuracy                           0.68        63\n",
            "   macro avg       0.66      0.61      0.61        63\n",
            "weighted avg       0.67      0.68      0.66        63\n",
            "\n"
          ],
          "name": "stdout"
        }
      ]
    },
    {
      "cell_type": "markdown",
      "metadata": {
        "id": "AxTca3U9KmX5"
      },
      "source": [
        "\n",
        "\n",
        "---\n",
        "\n"
      ]
    },
    {
      "cell_type": "code",
      "metadata": {
        "id": "tiId9X9DFXje"
      },
      "source": [
        "#Parte del entrenamiento\n",
        "predicciones = mlpb.predict(x_test)\n",
        "clases_reales = y_test\n",
        "predicciones_prob = mlpb.predict_proba(x_test)"
      ],
      "execution_count": null,
      "outputs": []
    },
    {
      "cell_type": "code",
      "metadata": {
        "id": "L_dkDoojFcHA"
      },
      "source": [
        "def tupla_clase_prediccion(y_real, y_pred):\n",
        "  return list(zip(y_real, y_pred))"
      ],
      "execution_count": null,
      "outputs": []
    },
    {
      "cell_type": "code",
      "metadata": {
        "colab": {
          "base_uri": "https://localhost:8080/"
        },
        "id": "v02wo2tEFcnj",
        "outputId": "7912f079-e76a-4cdb-f7d2-364be69944c7"
      },
      "source": [
        "def VP(clases_reales, predicciones):\n",
        "    par_clase_prediccion = tupla_clase_prediccion(clases_reales, predicciones)\n",
        "    return len([obs for obs in par_clase_prediccion if obs[0]==1 and obs[1]==1])\n",
        "\n",
        "def VN(clases_reales, predicciones):\n",
        "    par_clase_prediccion = tupla_clase_prediccion(clases_reales, predicciones)\n",
        "    return len([obs for obs in par_clase_prediccion if obs[0]==0 and obs[1]==0])\n",
        "    \n",
        "def FP(clases_reales, predicciones):\n",
        "    par_clase_prediccion = tupla_clase_prediccion(clases_reales, predicciones)\n",
        "    return len([obs for obs in par_clase_prediccion if obs[0]==0 and obs[1]==1])\n",
        "\n",
        "def FN(clases_reales, predicciones):\n",
        "    par_clase_prediccion = tupla_clase_prediccion(clases_reales, predicciones)\n",
        "    return len([obs for obs in par_clase_prediccion if obs[0]==1 and obs[1]==0])\n",
        "\n",
        "print(\"\"\"\n",
        "Verdaderos Positivos: {}\n",
        "Verdaderos Negativos: {}\n",
        "Falsos Positivos: {}\n",
        "Falsos Negativos: {}\n",
        "\"\"\".format(VP(clases_reales, predicciones), VN(clases_reales, predicciones), FP(clases_reales, predicciones), FN(clases_reales, predicciones)    \n",
        "))"
      ],
      "execution_count": null,
      "outputs": [
        {
          "output_type": "stream",
          "text": [
            "\n",
            "Verdaderos Positivos: 8\n",
            "Verdaderos Negativos: 35\n",
            "Falsos Positivos: 5\n",
            "Falsos Negativos: 15\n",
            "\n"
          ],
          "name": "stdout"
        }
      ]
    },
    {
      "cell_type": "markdown",
      "metadata": {
        "id": "SG6sU56oKiuL"
      },
      "source": [
        " # **Tasas de clasificación**\n",
        "\n",
        "**1. Exactitud (Accuracy)**\n",
        "\n",
        "La exactitud es una medida general de como se comporta el modelo, mide simplemente el porcentaje de casos que se han clasificado correctamente.\n",
        "\n",
        "$$Exactitud=\\frac{Numero~de~observaciones~correctamente~clasificadas}{Numero~de~observaciones~totales}= \\frac{VP+VN}{VP+VN+FP+FN}$$"
      ]
    },
    {
      "cell_type": "markdown",
      "metadata": {
        "id": "Ying5CxOLJqr"
      },
      "source": [
        "La exactitud es cuantos valores tuve bien entre el total"
      ]
    },
    {
      "cell_type": "code",
      "metadata": {
        "colab": {
          "base_uri": "https://localhost:8080/"
        },
        "id": "ukssTHYAOTgH",
        "outputId": "236e6fab-db75-49f3-c241-c83bd5af850a"
      },
      "source": [
        "from sklearn import metrics\n",
        "metrics.accuracy_score(clases_reales, predicciones)"
      ],
      "execution_count": null,
      "outputs": [
        {
          "output_type": "execute_result",
          "data": {
            "text/plain": [
              "0.6825396825396826"
            ]
          },
          "metadata": {
            "tags": []
          },
          "execution_count": 37
        }
      ]
    },
    {
      "cell_type": "markdown",
      "metadata": {
        "id": "KBmenSngKvt7"
      },
      "source": [
        "**2. Precisión (Precission)**\n",
        "\n",
        "La precisión indica la habilidad del modelo para clasificar como positivos los casos que son positivos.\n",
        "\n",
        "$$Precisión=\\frac{Numero~de~observaciones~positivas~correctamente~clasificadas}{Numero~de~observaciones~clasificadas~como~positivas}= \\frac{VP}{VP+FP}$$"
      ]
    },
    {
      "cell_type": "markdown",
      "metadata": {
        "id": "kVNpWkOQLqK0"
      },
      "source": [
        "Habilidad del modelo para predecir como positivo lo que si es positivo"
      ]
    },
    {
      "cell_type": "code",
      "metadata": {
        "colab": {
          "base_uri": "https://localhost:8080/"
        },
        "id": "VqHJJ35QK0vB",
        "outputId": "73e0d0e3-799c-494f-d0c4-914bf897ac44"
      },
      "source": [
        "metrics.average_precision_score(clases_reales, predicciones)"
      ],
      "execution_count": null,
      "outputs": [
        {
          "output_type": "execute_result",
          "data": {
            "text/plain": [
              "0.452142060837713"
            ]
          },
          "metadata": {
            "tags": []
          },
          "execution_count": 38
        }
      ]
    },
    {
      "cell_type": "markdown",
      "metadata": {
        "id": "LG9wsU6vMud-"
      },
      "source": [
        "**3. Exhaustividad o sensibilidad (Recall o True Positive Rate)**\n",
        "\n",
        "La sensibilidad nos da una medida de la habilidad del modelo para encontrar todos los casos positivos. La sensibilidad se mide en función de una clase.\n",
        "\n",
        "$$Sensibilidad=\\frac{Numero~de~observaciones~positivas~clasificadas~como~positivas}{Numero~de~observaciones~positivas~totales}= \\frac{VP}{VP+FN}$$"
      ]
    },
    {
      "cell_type": "code",
      "metadata": {
        "colab": {
          "base_uri": "https://localhost:8080/"
        },
        "id": "GJooDoJ7NCu2",
        "outputId": "5da6e096-118a-4751-8c4f-ad233441f139"
      },
      "source": [
        "metrics.recall_score(clases_reales, predicciones)"
      ],
      "execution_count": null,
      "outputs": [
        {
          "output_type": "execute_result",
          "data": {
            "text/plain": [
              "0.34782608695652173"
            ]
          },
          "metadata": {
            "tags": []
          },
          "execution_count": 39
        }
      ]
    },
    {
      "cell_type": "code",
      "metadata": {
        "colab": {
          "base_uri": "https://localhost:8080/"
        },
        "id": "3IwGAM2lNLGz",
        "outputId": "18bf32c4-7a33-4e58-d271-44858ac4851e"
      },
      "source": [
        "from sklearn.metrics import confusion_matrix\n",
        "confusion_matrix(clases_reales, predicciones)"
      ],
      "execution_count": null,
      "outputs": [
        {
          "output_type": "execute_result",
          "data": {
            "text/plain": [
              "array([[35,  5],\n",
              "       [15,  8]])"
            ]
          },
          "metadata": {
            "tags": []
          },
          "execution_count": 40
        }
      ]
    },
    {
      "cell_type": "markdown",
      "metadata": {
        "id": "XCqARd63KpPP"
      },
      "source": [
        "\n",
        "\n",
        "---\n",
        "\n"
      ]
    },
    {
      "cell_type": "markdown",
      "metadata": {
        "id": "PvKsFVIAPDX1"
      },
      "source": [
        "\n",
        "\n",
        "---\n",
        "\n"
      ]
    },
    {
      "cell_type": "markdown",
      "metadata": {
        "id": "Ra1sBY5vJ63D"
      },
      "source": [
        "# RED No-Stratify\n",
        "\n",
        "\n",
        "\n"
      ]
    },
    {
      "cell_type": "code",
      "metadata": {
        "colab": {
          "base_uri": "https://localhost:8080/",
          "height": 203
        },
        "id": "O7RXgxWGGT3n",
        "outputId": "7c8d0f00-4f08-4ce8-bb7c-179b6baf0f63"
      },
      "source": [
        "from sklearn.model_selection import train_test_split\n",
        "\n",
        "x2 = finalDf.drop(['Type'], axis=1)\n",
        "y = finalDf['Type']\n",
        "\n",
        "datasets2 = train_test_split(x2, y, test_size=0.3, random_state=42)\n",
        "x_train2, x_test2, y_train2, y_test2 = datasets2\n",
        "\n",
        "x_train2.shape, x_train2.shape\n",
        "x_train2.head()"
      ],
      "execution_count": null,
      "outputs": [
        {
          "output_type": "execute_result",
          "data": {
            "text/html": [
              "<div>\n",
              "<style scoped>\n",
              "    .dataframe tbody tr th:only-of-type {\n",
              "        vertical-align: middle;\n",
              "    }\n",
              "\n",
              "    .dataframe tbody tr th {\n",
              "        vertical-align: top;\n",
              "    }\n",
              "\n",
              "    .dataframe thead th {\n",
              "        text-align: right;\n",
              "    }\n",
              "</style>\n",
              "<table border=\"1\" class=\"dataframe\">\n",
              "  <thead>\n",
              "    <tr style=\"text-align: right;\">\n",
              "      <th></th>\n",
              "      <th>Componente Principal 1</th>\n",
              "      <th>Componente Principal 2</th>\n",
              "    </tr>\n",
              "  </thead>\n",
              "  <tbody>\n",
              "    <tr>\n",
              "      <th>146</th>\n",
              "      <td>-0.776312</td>\n",
              "      <td>0.636666</td>\n",
              "    </tr>\n",
              "    <tr>\n",
              "      <th>108</th>\n",
              "      <td>-2.337838</td>\n",
              "      <td>0.946294</td>\n",
              "    </tr>\n",
              "    <tr>\n",
              "      <th>177</th>\n",
              "      <td>6.960078</td>\n",
              "      <td>0.318733</td>\n",
              "    </tr>\n",
              "    <tr>\n",
              "      <th>31</th>\n",
              "      <td>-0.610580</td>\n",
              "      <td>0.200299</td>\n",
              "    </tr>\n",
              "    <tr>\n",
              "      <th>12</th>\n",
              "      <td>-1.105450</td>\n",
              "      <td>0.671788</td>\n",
              "    </tr>\n",
              "  </tbody>\n",
              "</table>\n",
              "</div>"
            ],
            "text/plain": [
              "     Componente Principal 1  Componente Principal 2\n",
              "146               -0.776312                0.636666\n",
              "108               -2.337838                0.946294\n",
              "177                6.960078                0.318733\n",
              "31                -0.610580                0.200299\n",
              "12                -1.105450                0.671788"
            ]
          },
          "metadata": {
            "tags": []
          },
          "execution_count": 58
        }
      ]
    },
    {
      "cell_type": "code",
      "metadata": {
        "colab": {
          "base_uri": "https://localhost:8080/",
          "height": 337
        },
        "id": "Nt--OifXGgcm",
        "outputId": "af2110bb-ccf7-4c99-b2fe-bf483610c30d"
      },
      "source": [
        "fig = plt.figure(figsize=(10,5))\n",
        "\n",
        "plt.subplot(2,2,1)\n",
        "y_train.hist()\n",
        "\n",
        "plt.subplot(2,2,2)\n",
        "y_test.hist()\n",
        "\n",
        "plt.subplot(2,2,3)\n",
        "y_train2.hist()\n",
        "\n",
        "plt.subplot(2,2,4)\n",
        "y_test2.hist()"
      ],
      "execution_count": null,
      "outputs": [
        {
          "output_type": "execute_result",
          "data": {
            "text/plain": [
              "<matplotlib.axes._subplots.AxesSubplot at 0x7f138d1d8850>"
            ]
          },
          "metadata": {
            "tags": []
          },
          "execution_count": 59
        },
        {
          "output_type": "display_data",
          "data": {
            "image/png": "[encoded data removed]",
            "text/plain": [
              "<Figure size 720x360 with 4 Axes>"
            ]
          },
          "metadata": {
            "tags": [],
            "needs_background": "light"
          }
        }
      ]
    },
    {
      "cell_type": "code",
      "metadata": {
        "id": "3YX_ckjYLRm8"
      },
      "source": [
        "from sklearn.neural_network import MLPClassifier\n",
        "mlp2 = MLPClassifier(max_iter=200)\n",
        "\n",
        "parameter_space = {\n",
        "    'hidden_layer_sizes': [(50,50,50), (50,100,50), (100,), (2,8,2), (2,50,3), (10,), (20,)],\n",
        "    'activation': ['tanh', 'relu', 'sigmoid'],\n",
        "    #'solver': ['lbfgs', 'sgd', 'adam'],\n",
        "    'alpha': [0.0001, 0.05],\n",
        "    'learning_rate': ['constant','adaptive'],\n",
        "}"
      ],
      "execution_count": null,
      "outputs": []
    },
    {
      "cell_type": "code",
      "metadata": {
        "colab": {
          "base_uri": "https://localhost:8080/"
        },
        "id": "_LhSNGzULVAS",
        "outputId": "31d7176c-81a3-47d7-da06-949db4b00728"
      },
      "source": [
        "from sklearn.model_selection import GridSearchCV\n",
        "\n",
        "clf2 = GridSearchCV(mlp2, parameter_space, n_jobs=-1, cv=5)\n",
        "clf2.fit(x_train2, y_train2)\n",
        "clf2.score(x_train2, y_train2)"
      ],
      "execution_count": null,
      "outputs": [
        {
          "output_type": "stream",
          "text": [
            "/usr/local/lib/python3.7/dist-packages/sklearn/neural_network/_multilayer_perceptron.py:571: ConvergenceWarning: Stochastic Optimizer: Maximum iterations (200) reached and the optimization hasn't converged yet.\n",
            "  % self.max_iter, ConvergenceWarning)\n"
          ],
          "name": "stderr"
        },
        {
          "output_type": "execute_result",
          "data": {
            "text/plain": [
              "0.6758620689655173"
            ]
          },
          "metadata": {
            "tags": []
          },
          "execution_count": 61
        }
      ]
    },
    {
      "cell_type": "code",
      "metadata": {
        "colab": {
          "base_uri": "https://localhost:8080/"
        },
        "id": "RjIAf7FpLYY9",
        "outputId": "222875b2-4c1e-4f87-c7b3-2eebc2c1d31e"
      },
      "source": [
        "from sklearn.metrics import accuracy_score\n",
        "\n",
        "predictions_train2 = clf2.predict(x_train2)\n",
        "print(\"accurancy train 2d no-stratify:\", accuracy_score(predictions_train2, y_train2))\n",
        "predictions_test2 = clf2.predict(x_test2)\n",
        "print(\"accurancy test 2d no-stratify:\", accuracy_score(predictions_test2, y_test2))"
      ],
      "execution_count": null,
      "outputs": [
        {
          "output_type": "stream",
          "text": [
            "accurancy train 2d no-stratify: 0.6758620689655173\n",
            "accurancy test 2d no-stratify: 0.6825396825396826\n"
          ],
          "name": "stdout"
        }
      ]
    },
    {
      "cell_type": "code",
      "metadata": {
        "colab": {
          "base_uri": "https://localhost:8080/"
        },
        "id": "-I2lOzxgLdWF",
        "outputId": "b7f776fa-fb3d-4de2-8194-8edb1349a54e"
      },
      "source": [
        "# Mejores parametros\n",
        "print('Best parameters found:\\n', clf2.best_params_)\n",
        "\n",
        "# Resultados\n",
        "means2 = clf2.cv_results_['mean_test_score']\n",
        "stds2 = clf2.cv_results_['std_test_score']\n",
        "for mean2, std2, params in zip(means2, stds2, clf2.cv_results_['params']):\n",
        "    print(\"%0.3f (+/-%0.03f) for %r\" % (mean2, std2 * 2, params))"
      ],
      "execution_count": null,
      "outputs": [
        {
          "output_type": "stream",
          "text": [
            "Best parameters found:\n",
            " {'activation': 'relu', 'alpha': 0.0001, 'hidden_layer_sizes': (10,), 'learning_rate': 'constant'}\n",
            "0.607 (+/-0.128) for {'activation': 'tanh', 'alpha': 0.0001, 'hidden_layer_sizes': (50, 50, 50), 'learning_rate': 'constant'}\n",
            "0.614 (+/-0.119) for {'activation': 'tanh', 'alpha': 0.0001, 'hidden_layer_sizes': (50, 50, 50), 'learning_rate': 'adaptive'}\n",
            "0.586 (+/-0.098) for {'activation': 'tanh', 'alpha': 0.0001, 'hidden_layer_sizes': (50, 100, 50), 'learning_rate': 'constant'}\n",
            "0.600 (+/-0.055) for {'activation': 'tanh', 'alpha': 0.0001, 'hidden_layer_sizes': (50, 100, 50), 'learning_rate': 'adaptive'}\n",
            "0.655 (+/-0.190) for {'activation': 'tanh', 'alpha': 0.0001, 'hidden_layer_sizes': (100,), 'learning_rate': 'constant'}\n",
            "0.669 (+/-0.241) for {'activation': 'tanh', 'alpha': 0.0001, 'hidden_layer_sizes': (100,), 'learning_rate': 'adaptive'}\n",
            "0.662 (+/-0.101) for {'activation': 'tanh', 'alpha': 0.0001, 'hidden_layer_sizes': (2, 8, 2), 'learning_rate': 'constant'}\n",
            "0.641 (+/-0.083) for {'activation': 'tanh', 'alpha': 0.0001, 'hidden_layer_sizes': (2, 8, 2), 'learning_rate': 'adaptive'}\n",
            "0.648 (+/-0.110) for {'activation': 'tanh', 'alpha': 0.0001, 'hidden_layer_sizes': (2, 50, 3), 'learning_rate': 'constant'}\n",
            "0.648 (+/-0.147) for {'activation': 'tanh', 'alpha': 0.0001, 'hidden_layer_sizes': (2, 50, 3), 'learning_rate': 'adaptive'}\n",
            "0.586 (+/-0.131) for {'activation': 'tanh', 'alpha': 0.0001, 'hidden_layer_sizes': (10,), 'learning_rate': 'constant'}\n",
            "0.634 (+/-0.070) for {'activation': 'tanh', 'alpha': 0.0001, 'hidden_layer_sizes': (10,), 'learning_rate': 'adaptive'}\n",
            "0.669 (+/-0.178) for {'activation': 'tanh', 'alpha': 0.0001, 'hidden_layer_sizes': (20,), 'learning_rate': 'constant'}\n",
            "0.683 (+/-0.171) for {'activation': 'tanh', 'alpha': 0.0001, 'hidden_layer_sizes': (20,), 'learning_rate': 'adaptive'}\n",
            "0.600 (+/-0.034) for {'activation': 'tanh', 'alpha': 0.05, 'hidden_layer_sizes': (50, 50, 50), 'learning_rate': 'constant'}\n",
            "0.579 (+/-0.028) for {'activation': 'tanh', 'alpha': 0.05, 'hidden_layer_sizes': (50, 50, 50), 'learning_rate': 'adaptive'}\n",
            "0.586 (+/-0.145) for {'activation': 'tanh', 'alpha': 0.05, 'hidden_layer_sizes': (50, 100, 50), 'learning_rate': 'constant'}\n",
            "0.545 (+/-0.091) for {'activation': 'tanh', 'alpha': 0.05, 'hidden_layer_sizes': (50, 100, 50), 'learning_rate': 'adaptive'}\n",
            "0.669 (+/-0.241) for {'activation': 'tanh', 'alpha': 0.05, 'hidden_layer_sizes': (100,), 'learning_rate': 'constant'}\n",
            "0.676 (+/-0.233) for {'activation': 'tanh', 'alpha': 0.05, 'hidden_layer_sizes': (100,), 'learning_rate': 'adaptive'}\n",
            "0.621 (+/-0.098) for {'activation': 'tanh', 'alpha': 0.05, 'hidden_layer_sizes': (2, 8, 2), 'learning_rate': 'constant'}\n",
            "0.607 (+/-0.112) for {'activation': 'tanh', 'alpha': 0.05, 'hidden_layer_sizes': (2, 8, 2), 'learning_rate': 'adaptive'}\n",
            "0.641 (+/-0.070) for {'activation': 'tanh', 'alpha': 0.05, 'hidden_layer_sizes': (2, 50, 3), 'learning_rate': 'constant'}\n",
            "0.662 (+/-0.110) for {'activation': 'tanh', 'alpha': 0.05, 'hidden_layer_sizes': (2, 50, 3), 'learning_rate': 'adaptive'}\n",
            "0.628 (+/-0.101) for {'activation': 'tanh', 'alpha': 0.05, 'hidden_layer_sizes': (10,), 'learning_rate': 'constant'}\n",
            "0.655 (+/-0.087) for {'activation': 'tanh', 'alpha': 0.05, 'hidden_layer_sizes': (10,), 'learning_rate': 'adaptive'}\n",
            "0.641 (+/-0.135) for {'activation': 'tanh', 'alpha': 0.05, 'hidden_layer_sizes': (20,), 'learning_rate': 'constant'}\n",
            "0.648 (+/-0.211) for {'activation': 'tanh', 'alpha': 0.05, 'hidden_layer_sizes': (20,), 'learning_rate': 'adaptive'}\n",
            "0.607 (+/-0.149) for {'activation': 'relu', 'alpha': 0.0001, 'hidden_layer_sizes': (50, 50, 50), 'learning_rate': 'constant'}\n",
            "0.628 (+/-0.068) for {'activation': 'relu', 'alpha': 0.0001, 'hidden_layer_sizes': (50, 50, 50), 'learning_rate': 'adaptive'}\n",
            "0.628 (+/-0.134) for {'activation': 'relu', 'alpha': 0.0001, 'hidden_layer_sizes': (50, 100, 50), 'learning_rate': 'constant'}\n",
            "0.648 (+/-0.192) for {'activation': 'relu', 'alpha': 0.0001, 'hidden_layer_sizes': (50, 100, 50), 'learning_rate': 'adaptive'}\n",
            "0.628 (+/-0.080) for {'activation': 'relu', 'alpha': 0.0001, 'hidden_layer_sizes': (100,), 'learning_rate': 'constant'}\n",
            "0.600 (+/-0.094) for {'activation': 'relu', 'alpha': 0.0001, 'hidden_layer_sizes': (100,), 'learning_rate': 'adaptive'}\n",
            "0.462 (+/-0.241) for {'activation': 'relu', 'alpha': 0.0001, 'hidden_layer_sizes': (2, 8, 2), 'learning_rate': 'constant'}\n",
            "0.641 (+/-0.120) for {'activation': 'relu', 'alpha': 0.0001, 'hidden_layer_sizes': (2, 8, 2), 'learning_rate': 'adaptive'}\n",
            "0.593 (+/-0.147) for {'activation': 'relu', 'alpha': 0.0001, 'hidden_layer_sizes': (2, 50, 3), 'learning_rate': 'constant'}\n",
            "0.586 (+/-0.209) for {'activation': 'relu', 'alpha': 0.0001, 'hidden_layer_sizes': (2, 50, 3), 'learning_rate': 'adaptive'}\n",
            "0.690 (+/-0.195) for {'activation': 'relu', 'alpha': 0.0001, 'hidden_layer_sizes': (10,), 'learning_rate': 'constant'}\n",
            "0.593 (+/-0.068) for {'activation': 'relu', 'alpha': 0.0001, 'hidden_layer_sizes': (10,), 'learning_rate': 'adaptive'}\n",
            "0.628 (+/-0.187) for {'activation': 'relu', 'alpha': 0.0001, 'hidden_layer_sizes': (20,), 'learning_rate': 'constant'}\n",
            "0.641 (+/-0.083) for {'activation': 'relu', 'alpha': 0.0001, 'hidden_layer_sizes': (20,), 'learning_rate': 'adaptive'}\n",
            "0.621 (+/-0.098) for {'activation': 'relu', 'alpha': 0.05, 'hidden_layer_sizes': (50, 50, 50), 'learning_rate': 'constant'}\n",
            "0.600 (+/-0.112) for {'activation': 'relu', 'alpha': 0.05, 'hidden_layer_sizes': (50, 50, 50), 'learning_rate': 'adaptive'}\n",
            "0.621 (+/-0.098) for {'activation': 'relu', 'alpha': 0.05, 'hidden_layer_sizes': (50, 100, 50), 'learning_rate': 'constant'}\n",
            "0.621 (+/-0.180) for {'activation': 'relu', 'alpha': 0.05, 'hidden_layer_sizes': (50, 100, 50), 'learning_rate': 'adaptive'}\n",
            "0.607 (+/-0.103) for {'activation': 'relu', 'alpha': 0.05, 'hidden_layer_sizes': (100,), 'learning_rate': 'constant'}\n",
            "0.607 (+/-0.128) for {'activation': 'relu', 'alpha': 0.05, 'hidden_layer_sizes': (100,), 'learning_rate': 'adaptive'}\n",
            "0.607 (+/-0.257) for {'activation': 'relu', 'alpha': 0.05, 'hidden_layer_sizes': (2, 8, 2), 'learning_rate': 'constant'}\n",
            "0.600 (+/-0.264) for {'activation': 'relu', 'alpha': 0.05, 'hidden_layer_sizes': (2, 8, 2), 'learning_rate': 'adaptive'}\n",
            "0.655 (+/-0.115) for {'activation': 'relu', 'alpha': 0.05, 'hidden_layer_sizes': (2, 50, 3), 'learning_rate': 'constant'}\n",
            "0.600 (+/-0.249) for {'activation': 'relu', 'alpha': 0.05, 'hidden_layer_sizes': (2, 50, 3), 'learning_rate': 'adaptive'}\n",
            "0.593 (+/-0.303) for {'activation': 'relu', 'alpha': 0.05, 'hidden_layer_sizes': (10,), 'learning_rate': 'constant'}\n",
            "0.634 (+/-0.055) for {'activation': 'relu', 'alpha': 0.05, 'hidden_layer_sizes': (10,), 'learning_rate': 'adaptive'}\n",
            "0.655 (+/-0.131) for {'activation': 'relu', 'alpha': 0.05, 'hidden_layer_sizes': (20,), 'learning_rate': 'constant'}\n",
            "0.648 (+/-0.134) for {'activation': 'relu', 'alpha': 0.05, 'hidden_layer_sizes': (20,), 'learning_rate': 'adaptive'}\n",
            "nan (+/-nan) for {'activation': 'sigmoid', 'alpha': 0.0001, 'hidden_layer_sizes': (50, 50, 50), 'learning_rate': 'constant'}\n",
            "nan (+/-nan) for {'activation': 'sigmoid', 'alpha': 0.0001, 'hidden_layer_sizes': (50, 50, 50), 'learning_rate': 'adaptive'}\n",
            "nan (+/-nan) for {'activation': 'sigmoid', 'alpha': 0.0001, 'hidden_layer_sizes': (50, 100, 50), 'learning_rate': 'constant'}\n",
            "nan (+/-nan) for {'activation': 'sigmoid', 'alpha': 0.0001, 'hidden_layer_sizes': (50, 100, 50), 'learning_rate': 'adaptive'}\n",
            "nan (+/-nan) for {'activation': 'sigmoid', 'alpha': 0.0001, 'hidden_layer_sizes': (100,), 'learning_rate': 'constant'}\n",
            "nan (+/-nan) for {'activation': 'sigmoid', 'alpha': 0.0001, 'hidden_layer_sizes': (100,), 'learning_rate': 'adaptive'}\n",
            "nan (+/-nan) for {'activation': 'sigmoid', 'alpha': 0.0001, 'hidden_layer_sizes': (2, 8, 2), 'learning_rate': 'constant'}\n",
            "nan (+/-nan) for {'activation': 'sigmoid', 'alpha': 0.0001, 'hidden_layer_sizes': (2, 8, 2), 'learning_rate': 'adaptive'}\n",
            "nan (+/-nan) for {'activation': 'sigmoid', 'alpha': 0.0001, 'hidden_layer_sizes': (2, 50, 3), 'learning_rate': 'constant'}\n",
            "nan (+/-nan) for {'activation': 'sigmoid', 'alpha': 0.0001, 'hidden_layer_sizes': (2, 50, 3), 'learning_rate': 'adaptive'}\n",
            "nan (+/-nan) for {'activation': 'sigmoid', 'alpha': 0.0001, 'hidden_layer_sizes': (10,), 'learning_rate': 'constant'}\n",
            "nan (+/-nan) for {'activation': 'sigmoid', 'alpha': 0.0001, 'hidden_layer_sizes': (10,), 'learning_rate': 'adaptive'}\n",
            "nan (+/-nan) for {'activation': 'sigmoid', 'alpha': 0.0001, 'hidden_layer_sizes': (20,), 'learning_rate': 'constant'}\n",
            "nan (+/-nan) for {'activation': 'sigmoid', 'alpha': 0.0001, 'hidden_layer_sizes': (20,), 'learning_rate': 'adaptive'}\n",
            "nan (+/-nan) for {'activation': 'sigmoid', 'alpha': 0.05, 'hidden_layer_sizes': (50, 50, 50), 'learning_rate': 'constant'}\n",
            "nan (+/-nan) for {'activation': 'sigmoid', 'alpha': 0.05, 'hidden_layer_sizes': (50, 50, 50), 'learning_rate': 'adaptive'}\n",
            "nan (+/-nan) for {'activation': 'sigmoid', 'alpha': 0.05, 'hidden_layer_sizes': (50, 100, 50), 'learning_rate': 'constant'}\n",
            "nan (+/-nan) for {'activation': 'sigmoid', 'alpha': 0.05, 'hidden_layer_sizes': (50, 100, 50), 'learning_rate': 'adaptive'}\n",
            "nan (+/-nan) for {'activation': 'sigmoid', 'alpha': 0.05, 'hidden_layer_sizes': (100,), 'learning_rate': 'constant'}\n",
            "nan (+/-nan) for {'activation': 'sigmoid', 'alpha': 0.05, 'hidden_layer_sizes': (100,), 'learning_rate': 'adaptive'}\n",
            "nan (+/-nan) for {'activation': 'sigmoid', 'alpha': 0.05, 'hidden_layer_sizes': (2, 8, 2), 'learning_rate': 'constant'}\n",
            "nan (+/-nan) for {'activation': 'sigmoid', 'alpha': 0.05, 'hidden_layer_sizes': (2, 8, 2), 'learning_rate': 'adaptive'}\n",
            "nan (+/-nan) for {'activation': 'sigmoid', 'alpha': 0.05, 'hidden_layer_sizes': (2, 50, 3), 'learning_rate': 'constant'}\n",
            "nan (+/-nan) for {'activation': 'sigmoid', 'alpha': 0.05, 'hidden_layer_sizes': (2, 50, 3), 'learning_rate': 'adaptive'}\n",
            "nan (+/-nan) for {'activation': 'sigmoid', 'alpha': 0.05, 'hidden_layer_sizes': (10,), 'learning_rate': 'constant'}\n",
            "nan (+/-nan) for {'activation': 'sigmoid', 'alpha': 0.05, 'hidden_layer_sizes': (10,), 'learning_rate': 'adaptive'}\n",
            "nan (+/-nan) for {'activation': 'sigmoid', 'alpha': 0.05, 'hidden_layer_sizes': (20,), 'learning_rate': 'constant'}\n",
            "nan (+/-nan) for {'activation': 'sigmoid', 'alpha': 0.05, 'hidden_layer_sizes': (20,), 'learning_rate': 'adaptive'}\n"
          ],
          "name": "stdout"
        }
      ]
    },
    {
      "cell_type": "code",
      "metadata": {
        "colab": {
          "base_uri": "https://localhost:8080/"
        },
        "id": "MOEIRBfjLgv3",
        "outputId": "46032613-300d-408f-93e1-2252a021a856"
      },
      "source": [
        "from sklearn.neural_network import MLPClassifier\n",
        "\n",
        "mlp2b = MLPClassifier(#solver='sgd', \n",
        "                    activation='relu',\n",
        "                    alpha=1e-4,\n",
        "                    hidden_layer_sizes=(10,), \n",
        "                    learning_rate='constant',\n",
        "                    max_iter=200)\n",
        "\n",
        "mlp2b.fit(x_train2, y_train2) \n",
        "mlp2b.score(x_train2, y_train2)"
      ],
      "execution_count": null,
      "outputs": [
        {
          "output_type": "stream",
          "text": [
            "/usr/local/lib/python3.7/dist-packages/sklearn/neural_network/_multilayer_perceptron.py:571: ConvergenceWarning: Stochastic Optimizer: Maximum iterations (200) reached and the optimization hasn't converged yet.\n",
            "  % self.max_iter, ConvergenceWarning)\n"
          ],
          "name": "stderr"
        },
        {
          "output_type": "execute_result",
          "data": {
            "text/plain": [
              "0.6620689655172414"
            ]
          },
          "metadata": {
            "tags": []
          },
          "execution_count": 64
        }
      ]
    },
    {
      "cell_type": "markdown",
      "metadata": {
        "id": "qVUGvXalR4hW"
      },
      "source": [
        "\n",
        "\n",
        "---\n",
        "\n"
      ]
    },
    {
      "cell_type": "markdown",
      "metadata": {
        "id": "g3-wpPnqR5JO"
      },
      "source": [
        "\n",
        "\n",
        "---\n",
        "\n"
      ]
    },
    {
      "cell_type": "code",
      "metadata": {
        "colab": {
          "base_uri": "https://localhost:8080/"
        },
        "id": "2UXluh1pLjYn",
        "outputId": "8bbd50db-f130-457c-f13a-998ae1cedf41"
      },
      "source": [
        "from sklearn.metrics import accuracy_score\n",
        "\n",
        "predictions_train2 = mlp2b.predict(x_train2)\n",
        "print(\"accurancy train:\", accuracy_score(predictions_train2, y_train2))\n",
        "predictions_test2 = mlp2b.predict(x_test2)\n",
        "print(\"accurancy test:\", accuracy_score(predictions_test2, y_test2))"
      ],
      "execution_count": null,
      "outputs": [
        {
          "output_type": "stream",
          "text": [
            "accurancy train: 0.6620689655172414\n",
            "accurancy test: 0.6349206349206349\n"
          ],
          "name": "stdout"
        }
      ]
    },
    {
      "cell_type": "code",
      "metadata": {
        "colab": {
          "base_uri": "https://localhost:8080/",
          "height": 296
        },
        "id": "vjOO5rUsLmfn",
        "outputId": "c1e728c7-df20-4fa2-d1d8-ca95b8992666"
      },
      "source": [
        "from sklearn.metrics import confusion_matrix\n",
        "from sklearn.metrics import plot_confusion_matrix\n",
        "\n",
        "confusion_matrix(predictions_train2, y_train2)\n",
        "plot_confusion_matrix(mlp2b, x_train2, y_train2) "
      ],
      "execution_count": null,
      "outputs": [
        {
          "output_type": "execute_result",
          "data": {
            "text/plain": [
              "<sklearn.metrics._plot.confusion_matrix.ConfusionMatrixDisplay at 0x7f138cffa890>"
            ]
          },
          "metadata": {
            "tags": []
          },
          "execution_count": 66
        },
        {
          "output_type": "display_data",
          "data": {
            "image/png": "[encoded data removed]",
            "text/plain": [
              "<Figure size 432x288 with 2 Axes>"
            ]
          },
          "metadata": {
            "tags": [],
            "needs_background": "light"
          }
        }
      ]
    },
    {
      "cell_type": "code",
      "metadata": {
        "colab": {
          "base_uri": "https://localhost:8080/",
          "height": 300
        },
        "id": "LJKDPv-7LpSO",
        "outputId": "63e82ee0-f2f3-490a-ff5c-0ef47f34c015"
      },
      "source": [
        "confusion_matrix(predictions_test2, y_test2)\n",
        "plot_confusion_matrix(mlp2b, x_test2, y_test2)  "
      ],
      "execution_count": null,
      "outputs": [
        {
          "output_type": "execute_result",
          "data": {
            "text/plain": [
              "<sklearn.metrics._plot.confusion_matrix.ConfusionMatrixDisplay at 0x7f138d069f50>"
            ]
          },
          "metadata": {
            "tags": []
          },
          "execution_count": 67
        },
        {
          "output_type": "display_data",
          "data": {
            "image/png": "[encoded data removed]",
            "text/plain": [
              "<Figure size 432x288 with 2 Axes>"
            ]
          },
          "metadata": {
            "tags": [],
            "needs_background": "light"
          }
        }
      ]
    },
    {
      "cell_type": "code",
      "metadata": {
        "colab": {
          "base_uri": "https://localhost:8080/"
        },
        "id": "wSS4bxy7LseB",
        "outputId": "1eb27a71-9a99-464a-8ad8-9a85180a4851"
      },
      "source": [
        "from sklearn.metrics import classification_report\n",
        "\n",
        "print(classification_report(predictions_test2, y_test2))"
      ],
      "execution_count": null,
      "outputs": [
        {
          "output_type": "stream",
          "text": [
            "              precision    recall  f1-score   support\n",
            "\n",
            "           0       0.90      0.65      0.75        54\n",
            "           1       0.21      0.56      0.30         9\n",
            "\n",
            "    accuracy                           0.63        63\n",
            "   macro avg       0.55      0.60      0.53        63\n",
            "weighted avg       0.80      0.63      0.69        63\n",
            "\n"
          ],
          "name": "stdout"
        }
      ]
    },
    {
      "cell_type": "code",
      "metadata": {
        "colab": {
          "base_uri": "https://localhost:8080/"
        },
        "id": "wfb7SyODLurm",
        "outputId": "f0f70092-220a-44e1-9e37-9c4dbbaf817c"
      },
      "source": [
        "y_true2, y_pred2 = y_test2 , mlp2b.predict(x_test2)\n",
        "\n",
        "from sklearn.metrics import classification_report\n",
        "print('Results on the test set:')\n",
        "print(classification_report(y_true2, y_pred2))"
      ],
      "execution_count": null,
      "outputs": [
        {
          "output_type": "stream",
          "text": [
            "Results on the test set:\n",
            "              precision    recall  f1-score   support\n",
            "\n",
            "           0       0.65      0.90      0.75        39\n",
            "           1       0.56      0.21      0.30        24\n",
            "\n",
            "    accuracy                           0.63        63\n",
            "   macro avg       0.60      0.55      0.53        63\n",
            "weighted avg       0.61      0.63      0.58        63\n",
            "\n"
          ],
          "name": "stdout"
        }
      ]
    },
    {
      "cell_type": "code",
      "metadata": {
        "id": "NPzL7LT6ID3b"
      },
      "source": [
        "#Parte del entrenamiento\n",
        "predicciones2 = mlp2b.predict(x_test2)\n",
        "clases_reales2 = y_test2\n",
        "predicciones_prob2 = mlp2b.predict_proba(x_test2)"
      ],
      "execution_count": null,
      "outputs": []
    },
    {
      "cell_type": "code",
      "metadata": {
        "id": "690R9Lc_IEkY"
      },
      "source": [
        "def tupla_clase_prediccion(y_real2, y_pred2):\n",
        "  return list(zip(y_real2, y_pred2))\n",
        "#tupla_clase_prediccion(clases_reales2, predicciones2)[:10]"
      ],
      "execution_count": null,
      "outputs": []
    },
    {
      "cell_type": "code",
      "metadata": {
        "colab": {
          "base_uri": "https://localhost:8080/"
        },
        "id": "fnZBpwZGIJpE",
        "outputId": "772e455d-ba2f-45e4-f1aa-0774b8f2d60a"
      },
      "source": [
        "def VP(clases_reales2, predicciones2):\n",
        "    par_clase_prediccion2 = tupla_clase_prediccion(clases_reales2, predicciones2)\n",
        "    return len([obs for obs in par_clase_prediccion2 if obs[0]==1 and obs[1]==1])\n",
        "\n",
        "def VN(clases_reales2, predicciones2):\n",
        "    par_clase_prediccion2 = tupla_clase_prediccion(clases_reales2, predicciones2)\n",
        "    return len([obs for obs in par_clase_prediccion2 if obs[0]==0 and obs[1]==0])\n",
        "    \n",
        "def FP(clases_reales2, predicciones2):\n",
        "    par_clase_prediccion2 = tupla_clase_prediccion(clases_reales2, predicciones2)\n",
        "    return len([obs for obs in par_clase_prediccion2 if obs[0]==0 and obs[1]==1])\n",
        "\n",
        "def FN(clases_reales2, predicciones2):\n",
        "    par_clase_prediccion2 = tupla_clase_prediccion(clases_reales2, predicciones2)\n",
        "    return len([obs for obs in par_clase_prediccion2 if obs[0]==1 and obs[1]==0])\n",
        "\n",
        "\n",
        "print(\"\"\"\n",
        "Verdaderos Positivos: {}\n",
        "Verdaderos Negativos: {}\n",
        "Falsos Positivos: {}\n",
        "Falsos Negativos: {}\n",
        "\"\"\".format(VP(clases_reales2, predicciones2), VN(clases_reales2, predicciones2), FP(clases_reales2, predicciones2), FN(clases_reales2, predicciones2)    \n",
        "))"
      ],
      "execution_count": null,
      "outputs": [
        {
          "output_type": "stream",
          "text": [
            "\n",
            "Verdaderos Positivos: 5\n",
            "Verdaderos Negativos: 35\n",
            "Falsos Positivos: 4\n",
            "Falsos Negativos: 19\n",
            "\n"
          ],
          "name": "stdout"
        }
      ]
    },
    {
      "cell_type": "code",
      "metadata": {
        "colab": {
          "base_uri": "https://localhost:8080/"
        },
        "id": "9DUQxUNGIRVi",
        "outputId": "edb3fedf-7f0a-4c94-e375-f4d9dab467b7"
      },
      "source": [
        "metrics.accuracy_score(clases_reales2, predicciones2)"
      ],
      "execution_count": null,
      "outputs": [
        {
          "output_type": "execute_result",
          "data": {
            "text/plain": [
              "0.6349206349206349"
            ]
          },
          "metadata": {
            "tags": []
          },
          "execution_count": 73
        }
      ]
    },
    {
      "cell_type": "code",
      "metadata": {
        "colab": {
          "base_uri": "https://localhost:8080/"
        },
        "id": "0d0jFFkaIUGx",
        "outputId": "e0919535-fa8d-48c0-a24e-77ff8b2ab2c1"
      },
      "source": [
        "metrics.average_precision_score(clases_reales, predicciones)"
      ],
      "execution_count": null,
      "outputs": [
        {
          "output_type": "execute_result",
          "data": {
            "text/plain": [
              "0.46210368205253116"
            ]
          },
          "metadata": {
            "tags": []
          },
          "execution_count": 74
        }
      ]
    },
    {
      "cell_type": "code",
      "metadata": {
        "colab": {
          "base_uri": "https://localhost:8080/"
        },
        "id": "ZiN3tgp8SNNt",
        "outputId": "a9a33724-8db2-45db-b109-00e926b324e1"
      },
      "source": [
        "metrics.recall_score(clases_reales, predicciones)"
      ],
      "execution_count": null,
      "outputs": [
        {
          "output_type": "execute_result",
          "data": {
            "text/plain": [
              "0.43478260869565216"
            ]
          },
          "metadata": {
            "tags": []
          },
          "execution_count": 75
        }
      ]
    }
  ]
}